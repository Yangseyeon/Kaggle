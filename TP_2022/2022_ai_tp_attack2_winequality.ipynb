{
 "cells": [
  {
   "cell_type": "code",
   "execution_count": 1,
   "id": "4984f696",
   "metadata": {
    "_cell_guid": "b1076dfc-b9ad-4769-8c92-a6c4dae69d19",
    "_uuid": "8f2839f25d086af736a60e9eeb907d3b93b6e0e5",
    "execution": {
     "iopub.execute_input": "2022-11-29T07:23:06.674079Z",
     "iopub.status.busy": "2022-11-29T07:23:06.673210Z",
     "iopub.status.idle": "2022-11-29T07:23:06.687160Z",
     "shell.execute_reply": "2022-11-29T07:23:06.685627Z"
    },
    "papermill": {
     "duration": 0.027188,
     "end_time": "2022-11-29T07:23:06.689404",
     "exception": false,
     "start_time": "2022-11-29T07:23:06.662216",
     "status": "completed"
    },
    "tags": []
   },
   "outputs": [
    {
     "name": "stdout",
     "output_type": "stream",
     "text": [
      "/kaggle/input/2022-ai-tp-19011802/sample_submission.csv\n",
      "/kaggle/input/2022-ai-tp-19011802/y_train.csv\n",
      "/kaggle/input/2022-ai-tp-19011802/x_train.csv\n",
      "/kaggle/input/2022-ai-tp-19011802/test.csv\n"
     ]
    }
   ],
   "source": [
    "# This Python 3 environment comes with many helpful analytics libraries installed\n",
    "# It is defined by the kaggle/python Docker image: https://github.com/kaggle/docker-python\n",
    "# For example, here's several helpful packages to load\n",
    "\n",
    "import numpy as np # linear algebra\n",
    "import pandas as pd # data processing, CSV file I/O (e.g. pd.read_csv)\n",
    "\n",
    "# Input data files are available in the read-only \"../input/\" directory\n",
    "# For example, running this (by clicking run or pressing Shift+Enter) will list all files under the input directory\n",
    "\n",
    "import os\n",
    "for dirname, _, filenames in os.walk('/kaggle/input'):\n",
    "    for filename in filenames:\n",
    "        print(os.path.join(dirname, filename))\n",
    "\n",
    "# You can write up to 20GB to the current directory (/kaggle/working/) that gets preserved as output when you create a version using \"Save & Run All\" \n",
    "# You can also write temporary files to /kaggle/temp/, but they won't be saved outside of the current session"
   ]
  },
  {
   "cell_type": "markdown",
   "id": "5399fbbc",
   "metadata": {
    "papermill": {
     "duration": 0.004489,
     "end_time": "2022-11-29T07:23:06.698709",
     "exception": false,
     "start_time": "2022-11-29T07:23:06.694220",
     "status": "completed"
    },
    "tags": []
   },
   "source": [
    "# 디펜스 코드와의 차이점\n",
    "* 데이터 전처리 시 사용 함수를 MinMaxScaler에서 StandardScaler로 바꾸어 사용함\n",
    "* layer의 개수를 7개로 증가시켜줌\n",
    "* Dropout 함수를 사용함"
   ]
  },
  {
   "cell_type": "markdown",
   "id": "75ccfd05",
   "metadata": {
    "papermill": {
     "duration": 0.004365,
     "end_time": "2022-11-29T07:23:06.707690",
     "exception": false,
     "start_time": "2022-11-29T07:23:06.703325",
     "status": "completed"
    },
    "tags": []
   },
   "source": [
    "# 1) 랜덤시드 고정"
   ]
  },
  {
   "cell_type": "code",
   "execution_count": 2,
   "id": "6eac492b",
   "metadata": {
    "execution": {
     "iopub.execute_input": "2022-11-29T07:23:06.718493Z",
     "iopub.status.busy": "2022-11-29T07:23:06.717864Z",
     "iopub.status.idle": "2022-11-29T07:23:08.481188Z",
     "shell.execute_reply": "2022-11-29T07:23:08.480157Z"
    },
    "papermill": {
     "duration": 1.771432,
     "end_time": "2022-11-29T07:23:08.483691",
     "exception": false,
     "start_time": "2022-11-29T07:23:06.712259",
     "status": "completed"
    },
    "tags": []
   },
   "outputs": [],
   "source": [
    "import random\n",
    "import torch\n",
    "\n",
    "seed = 42\n",
    "random.seed(seed)\n",
    "np.random.seed(seed)\n",
    "torch.manual_seed(seed)\n",
    "if torch.cuda.is_available():\n",
    "    torch.cuda.manual_seed(seed)\n",
    "    torch.cuda.manual_seed_all(seed)\n",
    "torch.backends.cudnn.benchmark = False\n",
    "torch.backends.cudnn.deterministic = True\n",
    "\n",
    "device = 'cuda' if torch.cuda.is_available() else 'cpu'"
   ]
  },
  {
   "cell_type": "code",
   "execution_count": 3,
   "id": "005ef225",
   "metadata": {
    "execution": {
     "iopub.execute_input": "2022-11-29T07:23:08.495522Z",
     "iopub.status.busy": "2022-11-29T07:23:08.494402Z",
     "iopub.status.idle": "2022-11-29T07:23:08.499434Z",
     "shell.execute_reply": "2022-11-29T07:23:08.498559Z"
    },
    "papermill": {
     "duration": 0.012835,
     "end_time": "2022-11-29T07:23:08.501402",
     "exception": false,
     "start_time": "2022-11-29T07:23:08.488567",
     "status": "completed"
    },
    "tags": []
   },
   "outputs": [],
   "source": [
    "import torch.nn as nn\n",
    "import torch.optim as optim"
   ]
  },
  {
   "cell_type": "markdown",
   "id": "11c93bb3",
   "metadata": {
    "papermill": {
     "duration": 0.004449,
     "end_time": "2022-11-29T07:23:08.510625",
     "exception": false,
     "start_time": "2022-11-29T07:23:08.506176",
     "status": "completed"
    },
    "tags": []
   },
   "source": [
    "# 2) Train data, Test data 파일 불러오기"
   ]
  },
  {
   "cell_type": "code",
   "execution_count": 4,
   "id": "fe18a7b9",
   "metadata": {
    "execution": {
     "iopub.execute_input": "2022-11-29T07:23:08.521607Z",
     "iopub.status.busy": "2022-11-29T07:23:08.520791Z",
     "iopub.status.idle": "2022-11-29T07:23:08.572986Z",
     "shell.execute_reply": "2022-11-29T07:23:08.572054Z"
    },
    "papermill": {
     "duration": 0.059893,
     "end_time": "2022-11-29T07:23:08.575214",
     "exception": false,
     "start_time": "2022-11-29T07:23:08.515321",
     "status": "completed"
    },
    "tags": []
   },
   "outputs": [],
   "source": [
    "x_train=pd.read_csv('/kaggle/input/2022-ai-tp-19011802/x_train.csv')\n",
    "train_y=pd.read_csv('/kaggle/input/2022-ai-tp-19011802/y_train.csv')\n",
    "x_test=pd.read_csv('/kaggle/input/2022-ai-tp-19011802/test.csv')\n",
    "submit=pd.read_csv('/kaggle/input/2022-ai-tp-19011802/sample_submission.csv')"
   ]
  },
  {
   "cell_type": "code",
   "execution_count": 5,
   "id": "57d95098",
   "metadata": {
    "execution": {
     "iopub.execute_input": "2022-11-29T07:23:08.588728Z",
     "iopub.status.busy": "2022-11-29T07:23:08.587831Z",
     "iopub.status.idle": "2022-11-29T07:23:08.630509Z",
     "shell.execute_reply": "2022-11-29T07:23:08.629443Z"
    },
    "papermill": {
     "duration": 0.053009,
     "end_time": "2022-11-29T07:23:08.633403",
     "exception": false,
     "start_time": "2022-11-29T07:23:08.580394",
     "status": "completed"
    },
    "tags": []
   },
   "outputs": [
    {
     "data": {
      "text/html": [
       "<div>\n",
       "<style scoped>\n",
       "    .dataframe tbody tr th:only-of-type {\n",
       "        vertical-align: middle;\n",
       "    }\n",
       "\n",
       "    .dataframe tbody tr th {\n",
       "        vertical-align: top;\n",
       "    }\n",
       "\n",
       "    .dataframe thead th {\n",
       "        text-align: right;\n",
       "    }\n",
       "</style>\n",
       "<table border=\"1\" class=\"dataframe\">\n",
       "  <thead>\n",
       "    <tr style=\"text-align: right;\">\n",
       "      <th></th>\n",
       "      <th>type</th>\n",
       "      <th>fixed acidity</th>\n",
       "      <th>volatile acidity</th>\n",
       "      <th>citric acid</th>\n",
       "      <th>residual sugar</th>\n",
       "      <th>chlorides</th>\n",
       "      <th>free sulfur dioxide</th>\n",
       "      <th>total sulfur dioxide</th>\n",
       "      <th>density</th>\n",
       "      <th>pH</th>\n",
       "      <th>sulphates</th>\n",
       "      <th>alcohol</th>\n",
       "    </tr>\n",
       "  </thead>\n",
       "  <tbody>\n",
       "    <tr>\n",
       "      <th>0</th>\n",
       "      <td>white</td>\n",
       "      <td>6.8</td>\n",
       "      <td>0.43</td>\n",
       "      <td>0.26</td>\n",
       "      <td>5.2</td>\n",
       "      <td>0.043</td>\n",
       "      <td>40.0</td>\n",
       "      <td>176.0</td>\n",
       "      <td>0.99116</td>\n",
       "      <td>3.17</td>\n",
       "      <td>0.41</td>\n",
       "      <td>12.3</td>\n",
       "    </tr>\n",
       "    <tr>\n",
       "      <th>1</th>\n",
       "      <td>white</td>\n",
       "      <td>6.4</td>\n",
       "      <td>0.27</td>\n",
       "      <td>0.45</td>\n",
       "      <td>8.3</td>\n",
       "      <td>0.050</td>\n",
       "      <td>52.0</td>\n",
       "      <td>196.0</td>\n",
       "      <td>0.99550</td>\n",
       "      <td>3.18</td>\n",
       "      <td>0.48</td>\n",
       "      <td>9.5</td>\n",
       "    </tr>\n",
       "    <tr>\n",
       "      <th>2</th>\n",
       "      <td>white</td>\n",
       "      <td>6.0</td>\n",
       "      <td>0.26</td>\n",
       "      <td>0.29</td>\n",
       "      <td>3.1</td>\n",
       "      <td>0.041</td>\n",
       "      <td>37.0</td>\n",
       "      <td>144.0</td>\n",
       "      <td>0.98944</td>\n",
       "      <td>3.22</td>\n",
       "      <td>0.39</td>\n",
       "      <td>12.8</td>\n",
       "    </tr>\n",
       "    <tr>\n",
       "      <th>3</th>\n",
       "      <td>white</td>\n",
       "      <td>7.2</td>\n",
       "      <td>0.21</td>\n",
       "      <td>0.36</td>\n",
       "      <td>15.7</td>\n",
       "      <td>0.045</td>\n",
       "      <td>68.0</td>\n",
       "      <td>183.0</td>\n",
       "      <td>0.99922</td>\n",
       "      <td>3.25</td>\n",
       "      <td>0.76</td>\n",
       "      <td>9.4</td>\n",
       "    </tr>\n",
       "    <tr>\n",
       "      <th>4</th>\n",
       "      <td>white</td>\n",
       "      <td>6.5</td>\n",
       "      <td>0.18</td>\n",
       "      <td>0.33</td>\n",
       "      <td>1.4</td>\n",
       "      <td>0.029</td>\n",
       "      <td>35.0</td>\n",
       "      <td>138.0</td>\n",
       "      <td>0.99114</td>\n",
       "      <td>3.36</td>\n",
       "      <td>0.60</td>\n",
       "      <td>11.5</td>\n",
       "    </tr>\n",
       "    <tr>\n",
       "      <th>...</th>\n",
       "      <td>...</td>\n",
       "      <td>...</td>\n",
       "      <td>...</td>\n",
       "      <td>...</td>\n",
       "      <td>...</td>\n",
       "      <td>...</td>\n",
       "      <td>...</td>\n",
       "      <td>...</td>\n",
       "      <td>...</td>\n",
       "      <td>...</td>\n",
       "      <td>...</td>\n",
       "      <td>...</td>\n",
       "    </tr>\n",
       "    <tr>\n",
       "      <th>5517</th>\n",
       "      <td>white</td>\n",
       "      <td>6.3</td>\n",
       "      <td>0.24</td>\n",
       "      <td>0.29</td>\n",
       "      <td>13.7</td>\n",
       "      <td>0.035</td>\n",
       "      <td>53.0</td>\n",
       "      <td>134.0</td>\n",
       "      <td>0.99567</td>\n",
       "      <td>3.17</td>\n",
       "      <td>0.38</td>\n",
       "      <td>10.6</td>\n",
       "    </tr>\n",
       "    <tr>\n",
       "      <th>5518</th>\n",
       "      <td>red</td>\n",
       "      <td>6.9</td>\n",
       "      <td>0.36</td>\n",
       "      <td>0.25</td>\n",
       "      <td>2.4</td>\n",
       "      <td>0.098</td>\n",
       "      <td>5.0</td>\n",
       "      <td>16.0</td>\n",
       "      <td>0.99640</td>\n",
       "      <td>3.41</td>\n",
       "      <td>0.60</td>\n",
       "      <td>10.1</td>\n",
       "    </tr>\n",
       "    <tr>\n",
       "      <th>5519</th>\n",
       "      <td>red</td>\n",
       "      <td>13.4</td>\n",
       "      <td>0.27</td>\n",
       "      <td>0.62</td>\n",
       "      <td>2.6</td>\n",
       "      <td>0.082</td>\n",
       "      <td>6.0</td>\n",
       "      <td>21.0</td>\n",
       "      <td>1.00020</td>\n",
       "      <td>3.16</td>\n",
       "      <td>0.67</td>\n",
       "      <td>9.7</td>\n",
       "    </tr>\n",
       "    <tr>\n",
       "      <th>5520</th>\n",
       "      <td>red</td>\n",
       "      <td>8.9</td>\n",
       "      <td>0.40</td>\n",
       "      <td>0.51</td>\n",
       "      <td>2.6</td>\n",
       "      <td>0.052</td>\n",
       "      <td>13.0</td>\n",
       "      <td>27.0</td>\n",
       "      <td>0.99500</td>\n",
       "      <td>3.32</td>\n",
       "      <td>0.90</td>\n",
       "      <td>13.4</td>\n",
       "    </tr>\n",
       "    <tr>\n",
       "      <th>5521</th>\n",
       "      <td>white</td>\n",
       "      <td>8.1</td>\n",
       "      <td>0.27</td>\n",
       "      <td>0.35</td>\n",
       "      <td>1.7</td>\n",
       "      <td>0.030</td>\n",
       "      <td>38.0</td>\n",
       "      <td>103.0</td>\n",
       "      <td>0.99255</td>\n",
       "      <td>3.22</td>\n",
       "      <td>0.63</td>\n",
       "      <td>10.4</td>\n",
       "    </tr>\n",
       "  </tbody>\n",
       "</table>\n",
       "<p>5522 rows × 12 columns</p>\n",
       "</div>"
      ],
      "text/plain": [
       "       type  fixed acidity  volatile acidity  citric acid  residual sugar  \\\n",
       "0     white            6.8              0.43         0.26             5.2   \n",
       "1     white            6.4              0.27         0.45             8.3   \n",
       "2     white            6.0              0.26         0.29             3.1   \n",
       "3     white            7.2              0.21         0.36            15.7   \n",
       "4     white            6.5              0.18         0.33             1.4   \n",
       "...     ...            ...               ...          ...             ...   \n",
       "5517  white            6.3              0.24         0.29            13.7   \n",
       "5518    red            6.9              0.36         0.25             2.4   \n",
       "5519    red           13.4              0.27         0.62             2.6   \n",
       "5520    red            8.9              0.40         0.51             2.6   \n",
       "5521  white            8.1              0.27         0.35             1.7   \n",
       "\n",
       "      chlorides  free sulfur dioxide  total sulfur dioxide  density    pH  \\\n",
       "0         0.043                 40.0                 176.0  0.99116  3.17   \n",
       "1         0.050                 52.0                 196.0  0.99550  3.18   \n",
       "2         0.041                 37.0                 144.0  0.98944  3.22   \n",
       "3         0.045                 68.0                 183.0  0.99922  3.25   \n",
       "4         0.029                 35.0                 138.0  0.99114  3.36   \n",
       "...         ...                  ...                   ...      ...   ...   \n",
       "5517      0.035                 53.0                 134.0  0.99567  3.17   \n",
       "5518      0.098                  5.0                  16.0  0.99640  3.41   \n",
       "5519      0.082                  6.0                  21.0  1.00020  3.16   \n",
       "5520      0.052                 13.0                  27.0  0.99500  3.32   \n",
       "5521      0.030                 38.0                 103.0  0.99255  3.22   \n",
       "\n",
       "      sulphates  alcohol  \n",
       "0          0.41     12.3  \n",
       "1          0.48      9.5  \n",
       "2          0.39     12.8  \n",
       "3          0.76      9.4  \n",
       "4          0.60     11.5  \n",
       "...         ...      ...  \n",
       "5517       0.38     10.6  \n",
       "5518       0.60     10.1  \n",
       "5519       0.67      9.7  \n",
       "5520       0.90     13.4  \n",
       "5521       0.63     10.4  \n",
       "\n",
       "[5522 rows x 12 columns]"
      ]
     },
     "execution_count": 5,
     "metadata": {},
     "output_type": "execute_result"
    }
   ],
   "source": [
    "x_train"
   ]
  },
  {
   "cell_type": "code",
   "execution_count": 6,
   "id": "6410ad32",
   "metadata": {
    "execution": {
     "iopub.execute_input": "2022-11-29T07:23:08.654014Z",
     "iopub.status.busy": "2022-11-29T07:23:08.653712Z",
     "iopub.status.idle": "2022-11-29T07:23:08.719524Z",
     "shell.execute_reply": "2022-11-29T07:23:08.717891Z"
    },
    "papermill": {
     "duration": 0.079432,
     "end_time": "2022-11-29T07:23:08.722874",
     "exception": false,
     "start_time": "2022-11-29T07:23:08.643442",
     "status": "completed"
    },
    "tags": []
   },
   "outputs": [
    {
     "data": {
      "text/html": [
       "<div>\n",
       "<style scoped>\n",
       "    .dataframe tbody tr th:only-of-type {\n",
       "        vertical-align: middle;\n",
       "    }\n",
       "\n",
       "    .dataframe tbody tr th {\n",
       "        vertical-align: top;\n",
       "    }\n",
       "\n",
       "    .dataframe thead th {\n",
       "        text-align: right;\n",
       "    }\n",
       "</style>\n",
       "<table border=\"1\" class=\"dataframe\">\n",
       "  <thead>\n",
       "    <tr style=\"text-align: right;\">\n",
       "      <th></th>\n",
       "      <th>type</th>\n",
       "      <th>fixed acidity</th>\n",
       "      <th>volatile acidity</th>\n",
       "      <th>citric acid</th>\n",
       "      <th>residual sugar</th>\n",
       "      <th>chlorides</th>\n",
       "      <th>free sulfur dioxide</th>\n",
       "      <th>total sulfur dioxide</th>\n",
       "      <th>density</th>\n",
       "      <th>pH</th>\n",
       "      <th>sulphates</th>\n",
       "      <th>alcohol</th>\n",
       "    </tr>\n",
       "  </thead>\n",
       "  <tbody>\n",
       "    <tr>\n",
       "      <th>0</th>\n",
       "      <td>white</td>\n",
       "      <td>7.0</td>\n",
       "      <td>0.250</td>\n",
       "      <td>0.45</td>\n",
       "      <td>2.3</td>\n",
       "      <td>0.045</td>\n",
       "      <td>40.0</td>\n",
       "      <td>118.0</td>\n",
       "      <td>0.99064</td>\n",
       "      <td>3.16</td>\n",
       "      <td>0.48</td>\n",
       "      <td>11.9</td>\n",
       "    </tr>\n",
       "    <tr>\n",
       "      <th>1</th>\n",
       "      <td>white</td>\n",
       "      <td>7.6</td>\n",
       "      <td>0.140</td>\n",
       "      <td>0.74</td>\n",
       "      <td>1.6</td>\n",
       "      <td>0.040</td>\n",
       "      <td>27.0</td>\n",
       "      <td>103.0</td>\n",
       "      <td>0.99160</td>\n",
       "      <td>3.07</td>\n",
       "      <td>0.40</td>\n",
       "      <td>10.8</td>\n",
       "    </tr>\n",
       "    <tr>\n",
       "      <th>2</th>\n",
       "      <td>white</td>\n",
       "      <td>6.2</td>\n",
       "      <td>0.150</td>\n",
       "      <td>0.27</td>\n",
       "      <td>11.0</td>\n",
       "      <td>0.035</td>\n",
       "      <td>46.0</td>\n",
       "      <td>116.0</td>\n",
       "      <td>0.99602</td>\n",
       "      <td>3.12</td>\n",
       "      <td>0.38</td>\n",
       "      <td>9.1</td>\n",
       "    </tr>\n",
       "    <tr>\n",
       "      <th>3</th>\n",
       "      <td>white</td>\n",
       "      <td>6.7</td>\n",
       "      <td>0.160</td>\n",
       "      <td>0.32</td>\n",
       "      <td>12.5</td>\n",
       "      <td>0.035</td>\n",
       "      <td>18.0</td>\n",
       "      <td>156.0</td>\n",
       "      <td>0.99666</td>\n",
       "      <td>2.88</td>\n",
       "      <td>0.36</td>\n",
       "      <td>9.0</td>\n",
       "    </tr>\n",
       "    <tr>\n",
       "      <th>4</th>\n",
       "      <td>white</td>\n",
       "      <td>6.8</td>\n",
       "      <td>0.270</td>\n",
       "      <td>0.22</td>\n",
       "      <td>17.8</td>\n",
       "      <td>0.034</td>\n",
       "      <td>16.0</td>\n",
       "      <td>116.0</td>\n",
       "      <td>0.99890</td>\n",
       "      <td>3.07</td>\n",
       "      <td>0.53</td>\n",
       "      <td>9.2</td>\n",
       "    </tr>\n",
       "    <tr>\n",
       "      <th>...</th>\n",
       "      <td>...</td>\n",
       "      <td>...</td>\n",
       "      <td>...</td>\n",
       "      <td>...</td>\n",
       "      <td>...</td>\n",
       "      <td>...</td>\n",
       "      <td>...</td>\n",
       "      <td>...</td>\n",
       "      <td>...</td>\n",
       "      <td>...</td>\n",
       "      <td>...</td>\n",
       "      <td>...</td>\n",
       "    </tr>\n",
       "    <tr>\n",
       "      <th>970</th>\n",
       "      <td>white</td>\n",
       "      <td>5.9</td>\n",
       "      <td>0.290</td>\n",
       "      <td>0.25</td>\n",
       "      <td>12.0</td>\n",
       "      <td>0.057</td>\n",
       "      <td>48.0</td>\n",
       "      <td>224.0</td>\n",
       "      <td>0.99810</td>\n",
       "      <td>3.23</td>\n",
       "      <td>0.41</td>\n",
       "      <td>9.0</td>\n",
       "    </tr>\n",
       "    <tr>\n",
       "      <th>971</th>\n",
       "      <td>white</td>\n",
       "      <td>7.4</td>\n",
       "      <td>0.260</td>\n",
       "      <td>0.30</td>\n",
       "      <td>7.9</td>\n",
       "      <td>0.049</td>\n",
       "      <td>38.0</td>\n",
       "      <td>157.0</td>\n",
       "      <td>0.99630</td>\n",
       "      <td>3.13</td>\n",
       "      <td>0.48</td>\n",
       "      <td>8.9</td>\n",
       "    </tr>\n",
       "    <tr>\n",
       "      <th>972</th>\n",
       "      <td>white</td>\n",
       "      <td>6.6</td>\n",
       "      <td>0.360</td>\n",
       "      <td>0.28</td>\n",
       "      <td>6.1</td>\n",
       "      <td>0.029</td>\n",
       "      <td>12.0</td>\n",
       "      <td>93.0</td>\n",
       "      <td>0.99054</td>\n",
       "      <td>3.19</td>\n",
       "      <td>0.27</td>\n",
       "      <td>12.8</td>\n",
       "    </tr>\n",
       "    <tr>\n",
       "      <th>973</th>\n",
       "      <td>red</td>\n",
       "      <td>7.7</td>\n",
       "      <td>0.715</td>\n",
       "      <td>0.01</td>\n",
       "      <td>2.1</td>\n",
       "      <td>0.064</td>\n",
       "      <td>31.0</td>\n",
       "      <td>43.0</td>\n",
       "      <td>0.99371</td>\n",
       "      <td>3.41</td>\n",
       "      <td>0.57</td>\n",
       "      <td>11.8</td>\n",
       "    </tr>\n",
       "    <tr>\n",
       "      <th>974</th>\n",
       "      <td>red</td>\n",
       "      <td>9.2</td>\n",
       "      <td>0.920</td>\n",
       "      <td>0.24</td>\n",
       "      <td>2.6</td>\n",
       "      <td>0.087</td>\n",
       "      <td>12.0</td>\n",
       "      <td>93.0</td>\n",
       "      <td>0.99980</td>\n",
       "      <td>3.48</td>\n",
       "      <td>0.54</td>\n",
       "      <td>9.8</td>\n",
       "    </tr>\n",
       "  </tbody>\n",
       "</table>\n",
       "<p>975 rows × 12 columns</p>\n",
       "</div>"
      ],
      "text/plain": [
       "      type  fixed acidity  volatile acidity  citric acid  residual sugar  \\\n",
       "0    white            7.0             0.250         0.45             2.3   \n",
       "1    white            7.6             0.140         0.74             1.6   \n",
       "2    white            6.2             0.150         0.27            11.0   \n",
       "3    white            6.7             0.160         0.32            12.5   \n",
       "4    white            6.8             0.270         0.22            17.8   \n",
       "..     ...            ...               ...          ...             ...   \n",
       "970  white            5.9             0.290         0.25            12.0   \n",
       "971  white            7.4             0.260         0.30             7.9   \n",
       "972  white            6.6             0.360         0.28             6.1   \n",
       "973    red            7.7             0.715         0.01             2.1   \n",
       "974    red            9.2             0.920         0.24             2.6   \n",
       "\n",
       "     chlorides  free sulfur dioxide  total sulfur dioxide  density    pH  \\\n",
       "0        0.045                 40.0                 118.0  0.99064  3.16   \n",
       "1        0.040                 27.0                 103.0  0.99160  3.07   \n",
       "2        0.035                 46.0                 116.0  0.99602  3.12   \n",
       "3        0.035                 18.0                 156.0  0.99666  2.88   \n",
       "4        0.034                 16.0                 116.0  0.99890  3.07   \n",
       "..         ...                  ...                   ...      ...   ...   \n",
       "970      0.057                 48.0                 224.0  0.99810  3.23   \n",
       "971      0.049                 38.0                 157.0  0.99630  3.13   \n",
       "972      0.029                 12.0                  93.0  0.99054  3.19   \n",
       "973      0.064                 31.0                  43.0  0.99371  3.41   \n",
       "974      0.087                 12.0                  93.0  0.99980  3.48   \n",
       "\n",
       "     sulphates  alcohol  \n",
       "0         0.48     11.9  \n",
       "1         0.40     10.8  \n",
       "2         0.38      9.1  \n",
       "3         0.36      9.0  \n",
       "4         0.53      9.2  \n",
       "..         ...      ...  \n",
       "970       0.41      9.0  \n",
       "971       0.48      8.9  \n",
       "972       0.27     12.8  \n",
       "973       0.57     11.8  \n",
       "974       0.54      9.8  \n",
       "\n",
       "[975 rows x 12 columns]"
      ]
     },
     "execution_count": 6,
     "metadata": {},
     "output_type": "execute_result"
    }
   ],
   "source": [
    "x_test"
   ]
  },
  {
   "cell_type": "code",
   "execution_count": 7,
   "id": "aff39d90",
   "metadata": {
    "execution": {
     "iopub.execute_input": "2022-11-29T07:23:08.747000Z",
     "iopub.status.busy": "2022-11-29T07:23:08.746417Z",
     "iopub.status.idle": "2022-11-29T07:23:08.759196Z",
     "shell.execute_reply": "2022-11-29T07:23:08.758214Z"
    },
    "papermill": {
     "duration": 0.031648,
     "end_time": "2022-11-29T07:23:08.763650",
     "exception": false,
     "start_time": "2022-11-29T07:23:08.732002",
     "status": "completed"
    },
    "tags": []
   },
   "outputs": [],
   "source": [
    "x_train=x_train.drop(['type'],axis=1)\n",
    "x_test=x_test.drop(['type'],axis=1)"
   ]
  },
  {
   "cell_type": "code",
   "execution_count": 8,
   "id": "4bf8c0eb",
   "metadata": {
    "execution": {
     "iopub.execute_input": "2022-11-29T07:23:08.784992Z",
     "iopub.status.busy": "2022-11-29T07:23:08.784648Z",
     "iopub.status.idle": "2022-11-29T07:23:08.816026Z",
     "shell.execute_reply": "2022-11-29T07:23:08.815041Z"
    },
    "papermill": {
     "duration": 0.043995,
     "end_time": "2022-11-29T07:23:08.818472",
     "exception": false,
     "start_time": "2022-11-29T07:23:08.774477",
     "status": "completed"
    },
    "tags": []
   },
   "outputs": [
    {
     "data": {
      "text/html": [
       "<div>\n",
       "<style scoped>\n",
       "    .dataframe tbody tr th:only-of-type {\n",
       "        vertical-align: middle;\n",
       "    }\n",
       "\n",
       "    .dataframe tbody tr th {\n",
       "        vertical-align: top;\n",
       "    }\n",
       "\n",
       "    .dataframe thead th {\n",
       "        text-align: right;\n",
       "    }\n",
       "</style>\n",
       "<table border=\"1\" class=\"dataframe\">\n",
       "  <thead>\n",
       "    <tr style=\"text-align: right;\">\n",
       "      <th></th>\n",
       "      <th>fixed acidity</th>\n",
       "      <th>volatile acidity</th>\n",
       "      <th>citric acid</th>\n",
       "      <th>residual sugar</th>\n",
       "      <th>chlorides</th>\n",
       "      <th>free sulfur dioxide</th>\n",
       "      <th>total sulfur dioxide</th>\n",
       "      <th>density</th>\n",
       "      <th>pH</th>\n",
       "      <th>sulphates</th>\n",
       "      <th>alcohol</th>\n",
       "    </tr>\n",
       "  </thead>\n",
       "  <tbody>\n",
       "    <tr>\n",
       "      <th>0</th>\n",
       "      <td>6.8</td>\n",
       "      <td>0.43</td>\n",
       "      <td>0.26</td>\n",
       "      <td>5.2</td>\n",
       "      <td>0.043</td>\n",
       "      <td>40.0</td>\n",
       "      <td>176.0</td>\n",
       "      <td>0.99116</td>\n",
       "      <td>3.17</td>\n",
       "      <td>0.41</td>\n",
       "      <td>12.3</td>\n",
       "    </tr>\n",
       "    <tr>\n",
       "      <th>1</th>\n",
       "      <td>6.4</td>\n",
       "      <td>0.27</td>\n",
       "      <td>0.45</td>\n",
       "      <td>8.3</td>\n",
       "      <td>0.050</td>\n",
       "      <td>52.0</td>\n",
       "      <td>196.0</td>\n",
       "      <td>0.99550</td>\n",
       "      <td>3.18</td>\n",
       "      <td>0.48</td>\n",
       "      <td>9.5</td>\n",
       "    </tr>\n",
       "    <tr>\n",
       "      <th>2</th>\n",
       "      <td>6.0</td>\n",
       "      <td>0.26</td>\n",
       "      <td>0.29</td>\n",
       "      <td>3.1</td>\n",
       "      <td>0.041</td>\n",
       "      <td>37.0</td>\n",
       "      <td>144.0</td>\n",
       "      <td>0.98944</td>\n",
       "      <td>3.22</td>\n",
       "      <td>0.39</td>\n",
       "      <td>12.8</td>\n",
       "    </tr>\n",
       "    <tr>\n",
       "      <th>3</th>\n",
       "      <td>7.2</td>\n",
       "      <td>0.21</td>\n",
       "      <td>0.36</td>\n",
       "      <td>15.7</td>\n",
       "      <td>0.045</td>\n",
       "      <td>68.0</td>\n",
       "      <td>183.0</td>\n",
       "      <td>0.99922</td>\n",
       "      <td>3.25</td>\n",
       "      <td>0.76</td>\n",
       "      <td>9.4</td>\n",
       "    </tr>\n",
       "    <tr>\n",
       "      <th>4</th>\n",
       "      <td>6.5</td>\n",
       "      <td>0.18</td>\n",
       "      <td>0.33</td>\n",
       "      <td>1.4</td>\n",
       "      <td>0.029</td>\n",
       "      <td>35.0</td>\n",
       "      <td>138.0</td>\n",
       "      <td>0.99114</td>\n",
       "      <td>3.36</td>\n",
       "      <td>0.60</td>\n",
       "      <td>11.5</td>\n",
       "    </tr>\n",
       "    <tr>\n",
       "      <th>...</th>\n",
       "      <td>...</td>\n",
       "      <td>...</td>\n",
       "      <td>...</td>\n",
       "      <td>...</td>\n",
       "      <td>...</td>\n",
       "      <td>...</td>\n",
       "      <td>...</td>\n",
       "      <td>...</td>\n",
       "      <td>...</td>\n",
       "      <td>...</td>\n",
       "      <td>...</td>\n",
       "    </tr>\n",
       "    <tr>\n",
       "      <th>5517</th>\n",
       "      <td>6.3</td>\n",
       "      <td>0.24</td>\n",
       "      <td>0.29</td>\n",
       "      <td>13.7</td>\n",
       "      <td>0.035</td>\n",
       "      <td>53.0</td>\n",
       "      <td>134.0</td>\n",
       "      <td>0.99567</td>\n",
       "      <td>3.17</td>\n",
       "      <td>0.38</td>\n",
       "      <td>10.6</td>\n",
       "    </tr>\n",
       "    <tr>\n",
       "      <th>5518</th>\n",
       "      <td>6.9</td>\n",
       "      <td>0.36</td>\n",
       "      <td>0.25</td>\n",
       "      <td>2.4</td>\n",
       "      <td>0.098</td>\n",
       "      <td>5.0</td>\n",
       "      <td>16.0</td>\n",
       "      <td>0.99640</td>\n",
       "      <td>3.41</td>\n",
       "      <td>0.60</td>\n",
       "      <td>10.1</td>\n",
       "    </tr>\n",
       "    <tr>\n",
       "      <th>5519</th>\n",
       "      <td>13.4</td>\n",
       "      <td>0.27</td>\n",
       "      <td>0.62</td>\n",
       "      <td>2.6</td>\n",
       "      <td>0.082</td>\n",
       "      <td>6.0</td>\n",
       "      <td>21.0</td>\n",
       "      <td>1.00020</td>\n",
       "      <td>3.16</td>\n",
       "      <td>0.67</td>\n",
       "      <td>9.7</td>\n",
       "    </tr>\n",
       "    <tr>\n",
       "      <th>5520</th>\n",
       "      <td>8.9</td>\n",
       "      <td>0.40</td>\n",
       "      <td>0.51</td>\n",
       "      <td>2.6</td>\n",
       "      <td>0.052</td>\n",
       "      <td>13.0</td>\n",
       "      <td>27.0</td>\n",
       "      <td>0.99500</td>\n",
       "      <td>3.32</td>\n",
       "      <td>0.90</td>\n",
       "      <td>13.4</td>\n",
       "    </tr>\n",
       "    <tr>\n",
       "      <th>5521</th>\n",
       "      <td>8.1</td>\n",
       "      <td>0.27</td>\n",
       "      <td>0.35</td>\n",
       "      <td>1.7</td>\n",
       "      <td>0.030</td>\n",
       "      <td>38.0</td>\n",
       "      <td>103.0</td>\n",
       "      <td>0.99255</td>\n",
       "      <td>3.22</td>\n",
       "      <td>0.63</td>\n",
       "      <td>10.4</td>\n",
       "    </tr>\n",
       "  </tbody>\n",
       "</table>\n",
       "<p>5522 rows × 11 columns</p>\n",
       "</div>"
      ],
      "text/plain": [
       "      fixed acidity  volatile acidity  citric acid  residual sugar  chlorides  \\\n",
       "0               6.8              0.43         0.26             5.2      0.043   \n",
       "1               6.4              0.27         0.45             8.3      0.050   \n",
       "2               6.0              0.26         0.29             3.1      0.041   \n",
       "3               7.2              0.21         0.36            15.7      0.045   \n",
       "4               6.5              0.18         0.33             1.4      0.029   \n",
       "...             ...               ...          ...             ...        ...   \n",
       "5517            6.3              0.24         0.29            13.7      0.035   \n",
       "5518            6.9              0.36         0.25             2.4      0.098   \n",
       "5519           13.4              0.27         0.62             2.6      0.082   \n",
       "5520            8.9              0.40         0.51             2.6      0.052   \n",
       "5521            8.1              0.27         0.35             1.7      0.030   \n",
       "\n",
       "      free sulfur dioxide  total sulfur dioxide  density    pH  sulphates  \\\n",
       "0                    40.0                 176.0  0.99116  3.17       0.41   \n",
       "1                    52.0                 196.0  0.99550  3.18       0.48   \n",
       "2                    37.0                 144.0  0.98944  3.22       0.39   \n",
       "3                    68.0                 183.0  0.99922  3.25       0.76   \n",
       "4                    35.0                 138.0  0.99114  3.36       0.60   \n",
       "...                   ...                   ...      ...   ...        ...   \n",
       "5517                 53.0                 134.0  0.99567  3.17       0.38   \n",
       "5518                  5.0                  16.0  0.99640  3.41       0.60   \n",
       "5519                  6.0                  21.0  1.00020  3.16       0.67   \n",
       "5520                 13.0                  27.0  0.99500  3.32       0.90   \n",
       "5521                 38.0                 103.0  0.99255  3.22       0.63   \n",
       "\n",
       "      alcohol  \n",
       "0        12.3  \n",
       "1         9.5  \n",
       "2        12.8  \n",
       "3         9.4  \n",
       "4        11.5  \n",
       "...       ...  \n",
       "5517     10.6  \n",
       "5518     10.1  \n",
       "5519      9.7  \n",
       "5520     13.4  \n",
       "5521     10.4  \n",
       "\n",
       "[5522 rows x 11 columns]"
      ]
     },
     "execution_count": 8,
     "metadata": {},
     "output_type": "execute_result"
    }
   ],
   "source": [
    "x_train"
   ]
  },
  {
   "cell_type": "markdown",
   "id": "29a18b55",
   "metadata": {
    "papermill": {
     "duration": 0.008713,
     "end_time": "2022-11-29T07:23:08.836434",
     "exception": false,
     "start_time": "2022-11-29T07:23:08.827721",
     "status": "completed"
    },
    "tags": []
   },
   "source": [
    "# 3) 데이터 전처리\n",
    "* 디펜스 코드와의 차이점: MinMaxScaler -> StandardScaler"
   ]
  },
  {
   "cell_type": "code",
   "execution_count": 9,
   "id": "cf0648da",
   "metadata": {
    "execution": {
     "iopub.execute_input": "2022-11-29T07:23:08.854847Z",
     "iopub.status.busy": "2022-11-29T07:23:08.854507Z",
     "iopub.status.idle": "2022-11-29T07:23:09.580645Z",
     "shell.execute_reply": "2022-11-29T07:23:09.579635Z"
    },
    "papermill": {
     "duration": 0.737958,
     "end_time": "2022-11-29T07:23:09.582999",
     "exception": false,
     "start_time": "2022-11-29T07:23:08.845041",
     "status": "completed"
    },
    "tags": []
   },
   "outputs": [],
   "source": [
    "from sklearn.preprocessing import StandardScaler\n",
    "scaler = StandardScaler()\n",
    "x_train = scaler.fit_transform(x_train)\n",
    "x_test = scaler.transform(x_test)"
   ]
  },
  {
   "cell_type": "code",
   "execution_count": 10,
   "id": "255075a0",
   "metadata": {
    "execution": {
     "iopub.execute_input": "2022-11-29T07:23:09.596250Z",
     "iopub.status.busy": "2022-11-29T07:23:09.595922Z",
     "iopub.status.idle": "2022-11-29T07:23:09.604770Z",
     "shell.execute_reply": "2022-11-29T07:23:09.603795Z"
    },
    "papermill": {
     "duration": 0.017694,
     "end_time": "2022-11-29T07:23:09.606795",
     "exception": false,
     "start_time": "2022-11-29T07:23:09.589101",
     "status": "completed"
    },
    "tags": []
   },
   "outputs": [
    {
     "data": {
      "text/plain": [
       "{3, 4, 5, 6, 7, 8, 9}"
      ]
     },
     "execution_count": 10,
     "metadata": {},
     "output_type": "execute_result"
    }
   ],
   "source": [
    "set(train_y['quality'])"
   ]
  },
  {
   "cell_type": "code",
   "execution_count": 11,
   "id": "cc51c5fe",
   "metadata": {
    "execution": {
     "iopub.execute_input": "2022-11-29T07:23:09.620010Z",
     "iopub.status.busy": "2022-11-29T07:23:09.619740Z",
     "iopub.status.idle": "2022-11-29T07:23:09.625268Z",
     "shell.execute_reply": "2022-11-29T07:23:09.624432Z"
    },
    "papermill": {
     "duration": 0.014581,
     "end_time": "2022-11-29T07:23:09.627235",
     "exception": false,
     "start_time": "2022-11-29T07:23:09.612654",
     "status": "completed"
    },
    "tags": []
   },
   "outputs": [],
   "source": [
    "train_y = train_y['quality']-3"
   ]
  },
  {
   "cell_type": "code",
   "execution_count": 12,
   "id": "9f9ce005",
   "metadata": {
    "execution": {
     "iopub.execute_input": "2022-11-29T07:23:09.640623Z",
     "iopub.status.busy": "2022-11-29T07:23:09.639852Z",
     "iopub.status.idle": "2022-11-29T07:23:09.651732Z",
     "shell.execute_reply": "2022-11-29T07:23:09.650712Z"
    },
    "papermill": {
     "duration": 0.020836,
     "end_time": "2022-11-29T07:23:09.654020",
     "exception": false,
     "start_time": "2022-11-29T07:23:09.633184",
     "status": "completed"
    },
    "tags": []
   },
   "outputs": [
    {
     "data": {
      "text/plain": [
       "tensor([[-0.1694, -0.5446,  0.9076,  ..., -0.3676, -0.3523,  1.1883],\n",
       "        [ 0.2917, -1.2080,  2.9041,  ..., -0.9282, -0.8811,  0.2637],\n",
       "        [-0.7842, -1.1477, -0.3317,  ..., -0.6167, -1.0133, -1.1652],\n",
       "        ...,\n",
       "        [-0.4768,  0.1189, -0.2628,  ..., -0.1807, -1.7404,  1.9448],\n",
       "        [ 0.3686,  2.2599, -2.1217,  ...,  1.1897,  0.2427,  1.1043],\n",
       "        [ 1.5214,  3.4963, -0.5382,  ...,  1.6257,  0.0444, -0.5768]])"
      ]
     },
     "execution_count": 12,
     "metadata": {},
     "output_type": "execute_result"
    }
   ],
   "source": [
    "x_train=torch.FloatTensor(x_train)\n",
    "y_train=torch.LongTensor(train_y.values)\n",
    "x_test=torch.FloatTensor(x_test)\n",
    "x_test"
   ]
  },
  {
   "cell_type": "code",
   "execution_count": 13,
   "id": "bd159115",
   "metadata": {
    "execution": {
     "iopub.execute_input": "2022-11-29T07:23:09.667726Z",
     "iopub.status.busy": "2022-11-29T07:23:09.667453Z",
     "iopub.status.idle": "2022-11-29T07:23:09.675953Z",
     "shell.execute_reply": "2022-11-29T07:23:09.674969Z"
    },
    "papermill": {
     "duration": 0.017764,
     "end_time": "2022-11-29T07:23:09.678146",
     "exception": false,
     "start_time": "2022-11-29T07:23:09.660382",
     "status": "completed"
    },
    "tags": []
   },
   "outputs": [
    {
     "data": {
      "text/plain": [
       "tensor([[3],\n",
       "        [2],\n",
       "        [4],\n",
       "        ...,\n",
       "        [3],\n",
       "        [4],\n",
       "        [5]])"
      ]
     },
     "execution_count": 13,
     "metadata": {},
     "output_type": "execute_result"
    }
   ],
   "source": [
    "y_train = y_train.view([-1,1])\n",
    "y_train"
   ]
  },
  {
   "cell_type": "code",
   "execution_count": 14,
   "id": "917cb397",
   "metadata": {
    "execution": {
     "iopub.execute_input": "2022-11-29T07:23:09.692907Z",
     "iopub.status.busy": "2022-11-29T07:23:09.692623Z",
     "iopub.status.idle": "2022-11-29T07:23:09.706690Z",
     "shell.execute_reply": "2022-11-29T07:23:09.705575Z"
    },
    "papermill": {
     "duration": 0.024388,
     "end_time": "2022-11-29T07:23:09.709218",
     "exception": false,
     "start_time": "2022-11-29T07:23:09.684830",
     "status": "completed"
    },
    "tags": []
   },
   "outputs": [
    {
     "data": {
      "text/plain": [
       "tensor([[0., 0., 0.,  ..., 0., 0., 0.],\n",
       "        [0., 0., 1.,  ..., 0., 0., 0.],\n",
       "        [0., 0., 0.,  ..., 1., 0., 0.],\n",
       "        ...,\n",
       "        [0., 0., 0.,  ..., 0., 0., 0.],\n",
       "        [0., 0., 0.,  ..., 1., 0., 0.],\n",
       "        [0., 0., 0.,  ..., 0., 1., 0.]])"
      ]
     },
     "execution_count": 14,
     "metadata": {},
     "output_type": "execute_result"
    }
   ],
   "source": [
    "y_train\n",
    "y_one_hot = torch.zeros(5522, 7)\n",
    "y_one_hot.scatter_(1, y_train, 1)\n",
    "y_one_hot"
   ]
  },
  {
   "cell_type": "markdown",
   "id": "155dbf12",
   "metadata": {
    "papermill": {
     "duration": 0.006505,
     "end_time": "2022-11-29T07:23:09.722460",
     "exception": false,
     "start_time": "2022-11-29T07:23:09.715955",
     "status": "completed"
    },
    "tags": []
   },
   "source": [
    "# 4) 학습 모델 설정\n",
    "* 디펜스 코드와의 차이점: layer 개수를 7개로 늘림, Dropout 함수 사용"
   ]
  },
  {
   "cell_type": "code",
   "execution_count": 15,
   "id": "61e4524e",
   "metadata": {
    "execution": {
     "iopub.execute_input": "2022-11-29T07:23:09.736379Z",
     "iopub.status.busy": "2022-11-29T07:23:09.736055Z",
     "iopub.status.idle": "2022-11-29T07:23:09.740772Z",
     "shell.execute_reply": "2022-11-29T07:23:09.739603Z"
    },
    "papermill": {
     "duration": 0.014298,
     "end_time": "2022-11-29T07:23:09.743072",
     "exception": false,
     "start_time": "2022-11-29T07:23:09.728774",
     "status": "completed"
    },
    "tags": []
   },
   "outputs": [],
   "source": [
    "lr = 0.001\n",
    "training_epochs = 90\n",
    "batch_size = 200\n",
    "drop_prob = 0.01"
   ]
  },
  {
   "cell_type": "code",
   "execution_count": 16,
   "id": "71ed8441",
   "metadata": {
    "execution": {
     "iopub.execute_input": "2022-11-29T07:23:09.756939Z",
     "iopub.status.busy": "2022-11-29T07:23:09.756679Z",
     "iopub.status.idle": "2022-11-29T07:23:09.761669Z",
     "shell.execute_reply": "2022-11-29T07:23:09.760646Z"
    },
    "papermill": {
     "duration": 0.014842,
     "end_time": "2022-11-29T07:23:09.764246",
     "exception": false,
     "start_time": "2022-11-29T07:23:09.749404",
     "status": "completed"
    },
    "tags": []
   },
   "outputs": [],
   "source": [
    "from torch.utils.data import TensorDataset as TensorDataSet\n",
    "dataset=TensorDataSet(x_train,y_one_hot)\n",
    "data_loader=torch.utils.data.DataLoader(dataset=dataset,\n",
    "                                       batch_size=batch_size,\n",
    "                                       shuffle=True,\n",
    "                                       drop_last=True)"
   ]
  },
  {
   "cell_type": "code",
   "execution_count": 17,
   "id": "5b0cb5c9",
   "metadata": {
    "execution": {
     "iopub.execute_input": "2022-11-29T07:23:09.778310Z",
     "iopub.status.busy": "2022-11-29T07:23:09.778023Z",
     "iopub.status.idle": "2022-11-29T07:23:09.797496Z",
     "shell.execute_reply": "2022-11-29T07:23:09.796654Z"
    },
    "papermill": {
     "duration": 0.028835,
     "end_time": "2022-11-29T07:23:09.799489",
     "exception": false,
     "start_time": "2022-11-29T07:23:09.770654",
     "status": "completed"
    },
    "tags": []
   },
   "outputs": [],
   "source": [
    "linear1 = torch.nn.Linear(11,256,bias=True)\n",
    "linear2 = torch.nn.Linear(256,512,bias=True)\n",
    "linear3 = torch.nn.Linear(512,512,bias=True)\n",
    "linear4 = torch.nn.Linear(512,512,bias=True)\n",
    "linear5 = torch.nn.Linear(512,512,bias=True)\n",
    "linear6 = torch.nn.Linear(512,512,bias=True)\n",
    "linear7=torch.nn.Linear(512,7,bias=True)\n",
    "relu = torch.nn.ReLU()\n",
    "dropout = torch.nn.Dropout(p=drop_prob)"
   ]
  },
  {
   "cell_type": "code",
   "execution_count": 18,
   "id": "97f813dc",
   "metadata": {
    "execution": {
     "iopub.execute_input": "2022-11-29T07:23:09.813744Z",
     "iopub.status.busy": "2022-11-29T07:23:09.813481Z",
     "iopub.status.idle": "2022-11-29T07:23:09.831567Z",
     "shell.execute_reply": "2022-11-29T07:23:09.830464Z"
    },
    "papermill": {
     "duration": 0.027634,
     "end_time": "2022-11-29T07:23:09.833690",
     "exception": false,
     "start_time": "2022-11-29T07:23:09.806056",
     "status": "completed"
    },
    "tags": []
   },
   "outputs": [
    {
     "data": {
      "text/plain": [
       "Parameter containing:\n",
       "tensor([[ 0.0789, -0.0885, -0.0239,  ...,  0.0524,  0.0567, -0.0500],\n",
       "        [ 0.0720, -0.0752, -0.0753,  ..., -0.0045, -0.0189, -0.0079],\n",
       "        [ 0.0329, -0.0647,  0.0425,  ..., -0.0261, -0.0711, -0.0439],\n",
       "        ...,\n",
       "        [-0.1059, -0.0250,  0.0657,  ..., -0.0383,  0.0840,  0.0515],\n",
       "        [ 0.0557,  0.0117, -0.0397,  ...,  0.0372,  0.0890,  0.0083],\n",
       "        [-0.0404, -0.0780, -0.0793,  ...,  0.0376, -0.0788, -0.0409]],\n",
       "       requires_grad=True)"
      ]
     },
     "execution_count": 18,
     "metadata": {},
     "output_type": "execute_result"
    }
   ],
   "source": [
    "torch.nn.init.xavier_uniform_(linear1.weight)\n",
    "torch.nn.init.xavier_uniform_(linear2.weight)\n",
    "torch.nn.init.xavier_uniform_(linear3.weight)\n",
    "torch.nn.init.xavier_uniform_(linear4.weight)\n",
    "torch.nn.init.xavier_uniform_(linear5.weight)\n",
    "torch.nn.init.xavier_uniform_(linear6.weight)\n",
    "torch.nn.init.xavier_uniform_(linear7.weight)"
   ]
  },
  {
   "cell_type": "code",
   "execution_count": 19,
   "id": "b131870b",
   "metadata": {
    "execution": {
     "iopub.execute_input": "2022-11-29T07:23:09.849246Z",
     "iopub.status.busy": "2022-11-29T07:23:09.848426Z",
     "iopub.status.idle": "2022-11-29T07:23:12.726989Z",
     "shell.execute_reply": "2022-11-29T07:23:12.725977Z"
    },
    "papermill": {
     "duration": 2.8894,
     "end_time": "2022-11-29T07:23:12.730006",
     "exception": false,
     "start_time": "2022-11-29T07:23:09.840606",
     "status": "completed"
    },
    "tags": []
   },
   "outputs": [],
   "source": [
    "model = torch.nn.Sequential(linear1,relu,dropout,\n",
    "                            linear2,relu,dropout,\n",
    "                           linear3,relu,dropout,\n",
    "                           linear4, relu, dropout,\n",
    "                           linear5, relu, dropout,\n",
    "                           linear6, relu, dropout,\n",
    "                           linear7)\n",
    "\n",
    "model=model.cuda()\n",
    "optimizer= optim.Adam(model.parameters(),lr=lr)\n",
    "loss= nn.CrossEntropyLoss().cuda()"
   ]
  },
  {
   "cell_type": "code",
   "execution_count": 20,
   "id": "ef1cffa2",
   "metadata": {
    "execution": {
     "iopub.execute_input": "2022-11-29T07:23:12.746907Z",
     "iopub.status.busy": "2022-11-29T07:23:12.746206Z",
     "iopub.status.idle": "2022-11-29T07:23:24.112907Z",
     "shell.execute_reply": "2022-11-29T07:23:24.111873Z"
    },
    "papermill": {
     "duration": 11.377541,
     "end_time": "2022-11-29T07:23:24.115539",
     "exception": false,
     "start_time": "2022-11-29T07:23:12.737998",
     "status": "completed"
    },
    "tags": []
   },
   "outputs": [
    {
     "name": "stdout",
     "output_type": "stream",
     "text": [
      "Epoch: 0001 cost = 1.116576314\n",
      "Epoch: 0011 cost = 0.945833921\n",
      "Epoch: 0021 cost = 0.591025531\n",
      "Epoch: 0031 cost = 0.250790447\n",
      "Epoch: 0041 cost = 0.193828195\n",
      "Epoch: 0051 cost = 0.069052726\n",
      "Epoch: 0061 cost = 0.103759728\n",
      "Epoch: 0071 cost = 0.039914373\n",
      "Epoch: 0081 cost = 0.048084144\n"
     ]
    }
   ],
   "source": [
    "for epoch in range(training_epochs):\n",
    "    avg_cost = 0\n",
    "\n",
    "    for X, Y in data_loader:\n",
    "        X=X.cuda()\n",
    "        Y=Y.cuda()\n",
    "\n",
    "        optimizer.zero_grad()\n",
    "        hypothesis = model(X)\n",
    "        cost = loss(hypothesis, Y)\n",
    "        cost.backward()\n",
    "        optimizer.step()\n",
    "\n",
    "       \n",
    "    if epoch%10==0:\n",
    "        print('Epoch:', '%04d' % (epoch + 1), 'cost =', '{:.9f}'.format(cost))\n",
    "        "
   ]
  },
  {
   "cell_type": "markdown",
   "id": "5044f57b",
   "metadata": {
    "papermill": {
     "duration": 0.007236,
     "end_time": "2022-11-29T07:23:24.130615",
     "exception": false,
     "start_time": "2022-11-29T07:23:24.123379",
     "status": "completed"
    },
    "tags": []
   },
   "source": [
    "# 5) Test data 예측"
   ]
  },
  {
   "cell_type": "code",
   "execution_count": 21,
   "id": "cb513acb",
   "metadata": {
    "execution": {
     "iopub.execute_input": "2022-11-29T07:23:24.146364Z",
     "iopub.status.busy": "2022-11-29T07:23:24.146021Z",
     "iopub.status.idle": "2022-11-29T07:23:24.171758Z",
     "shell.execute_reply": "2022-11-29T07:23:24.170715Z"
    },
    "papermill": {
     "duration": 0.036183,
     "end_time": "2022-11-29T07:23:24.174020",
     "exception": false,
     "start_time": "2022-11-29T07:23:24.137837",
     "status": "completed"
    },
    "tags": []
   },
   "outputs": [
    {
     "data": {
      "text/plain": [
       "tensor([4, 3, 3, 3, 2, 5, 3, 2, 2, 3, 2, 3, 3, 2, 2, 4, 4, 3, 4, 2, 3, 2, 2, 3,\n",
       "        4, 4, 3, 2, 1, 3, 4, 2, 2, 3, 3, 3, 3, 3, 5, 3, 2, 3, 3, 3, 2, 2, 3, 3,\n",
       "        2, 2, 3, 2, 3, 3, 4, 3, 3, 3, 3, 3, 3, 4, 3, 4, 3, 2, 3, 2, 4, 3, 3, 2,\n",
       "        2, 2, 3, 2, 3, 2, 3, 4, 3, 2, 3, 3, 2, 2, 3, 2, 2, 3, 2, 3, 2, 3, 4, 2,\n",
       "        5, 4, 3, 3, 3, 4, 2, 3, 2, 3, 3, 2, 2, 3, 2, 2, 4, 2, 3, 2, 3, 2, 3, 2,\n",
       "        2, 3, 2, 1, 3, 3, 2, 2, 2, 2, 5, 4, 3, 2, 4, 3, 2, 4, 3, 2, 3, 3, 2, 2,\n",
       "        2, 2, 3, 3, 2, 2, 2, 3, 4, 4, 3, 3, 3, 2, 2, 4, 2, 3, 3, 2, 4, 4, 2, 3,\n",
       "        3, 3, 4, 5, 4, 3, 3, 4, 3, 3, 3, 2, 3, 4, 2, 2, 3, 2, 3, 2, 3, 3, 2, 5,\n",
       "        3, 3, 3, 3, 4, 2, 2, 4, 4, 2, 2, 5, 4, 1, 2, 4, 2, 3, 3, 3, 3, 4, 3, 3,\n",
       "        2, 3, 2, 2, 3, 2, 2, 3, 3, 2, 3, 2, 3, 2, 5, 2, 3, 5, 2, 2, 2, 3, 4, 3,\n",
       "        3, 4, 4, 3, 2, 3, 3, 2, 4, 4, 2, 2, 4, 3, 2, 3, 2, 4, 2, 4, 4, 2, 3, 1,\n",
       "        2, 3, 2, 3, 2, 3, 3, 3, 3, 3, 2, 4, 3, 3, 1, 2, 1, 4, 3, 2, 3, 3, 3, 3,\n",
       "        3, 3, 4, 2, 3, 3, 3, 2, 4, 2, 3, 3, 4, 1, 2, 3, 2, 3, 3, 3, 3, 2, 3, 2,\n",
       "        3, 2, 4, 3, 3, 4, 4, 4, 2, 3, 3, 3, 3, 3, 2, 3, 4, 2, 3, 3, 3, 3, 4, 4,\n",
       "        4, 3, 3, 1, 4, 1, 3, 4, 3, 2, 2, 3, 3, 3, 3, 3, 3, 2, 3, 2, 3, 4, 2, 3,\n",
       "        2, 1, 3, 2, 3, 3, 2, 3, 2, 2, 3, 3, 3, 4, 2, 3, 2, 3, 3, 2, 1, 3, 2, 4,\n",
       "        3, 3, 3, 1, 4, 2, 2, 3, 3, 3, 3, 2, 4, 2, 4, 2, 3, 2, 3, 4, 2, 5, 1, 3,\n",
       "        3, 2, 3, 2, 3, 5, 3, 3, 4, 3, 3, 4, 2, 3, 4, 2, 2, 2, 4, 1, 3, 2, 2, 1,\n",
       "        3, 3, 4, 3, 5, 2, 3, 3, 2, 4, 1, 3, 4, 3, 3, 3, 3, 3, 3, 3, 3, 2, 3, 3,\n",
       "        3, 4, 3, 1, 2, 2, 4, 2, 2, 3, 3, 3, 4, 2, 1, 3, 2, 2, 3, 2, 4, 3, 2, 5,\n",
       "        3, 4, 3, 2, 2, 3, 3, 2, 3, 3, 3, 3, 2, 3, 4, 0, 3, 4, 2, 2, 3, 2, 3, 3,\n",
       "        5, 2, 2, 4, 3, 3, 2, 3, 2, 3, 3, 4, 4, 3, 2, 3, 3, 2, 5, 2, 2, 4, 2, 2,\n",
       "        2, 3, 3, 4, 2, 3, 3, 1, 2, 3, 2, 3, 4, 4, 4, 3, 1, 2, 4, 3, 1, 5, 3, 3,\n",
       "        2, 2, 5, 3, 3, 3, 2, 2, 2, 4, 3, 2, 3, 2, 4, 3, 3, 2, 3, 2, 3, 3, 3, 3,\n",
       "        1, 4, 3, 3, 2, 3, 2, 3, 2, 2, 3, 3, 3, 3, 3, 2, 1, 3, 2, 1, 3, 3, 3, 2,\n",
       "        2, 3, 3, 3, 3, 4, 3, 4, 3, 3, 1, 4, 2, 2, 3, 3, 5, 2, 3, 3, 3, 3, 1, 2,\n",
       "        3, 3, 2, 3, 3, 2, 4, 2, 3, 2, 3, 2, 2, 3, 2, 1, 2, 5, 4, 3, 3, 2, 1, 3,\n",
       "        3, 1, 4, 3, 3, 3, 2, 3, 3, 3, 3, 2, 2, 2, 2, 3, 3, 3, 3, 2, 2, 2, 3, 3,\n",
       "        2, 3, 2, 3, 3, 3, 3, 3, 3, 2, 3, 3, 5, 2, 4, 2, 3, 4, 4, 3, 1, 2, 3, 3,\n",
       "        3, 3, 4, 3, 2, 3, 3, 3, 4, 2, 3, 3, 3, 4, 3, 2, 2, 3, 2, 2, 4, 2, 3, 4,\n",
       "        2, 2, 3, 2, 2, 4, 5, 3, 3, 2, 4, 3, 2, 3, 4, 3, 3, 3, 3, 1, 2, 3, 3, 2,\n",
       "        4, 2, 3, 2, 4, 2, 1, 2, 1, 4, 5, 3, 3, 3, 3, 3, 3, 2, 3, 3, 4, 3, 3, 2,\n",
       "        3, 3, 3, 2, 4, 4, 2, 3, 2, 2, 3, 3, 3, 3, 3, 3, 3, 3, 3, 4, 2, 4, 3, 2,\n",
       "        3, 3, 3, 4, 3, 2, 3, 3, 4, 3, 4, 2, 3, 2, 3, 2, 4, 2, 3, 3, 3, 3, 3, 4,\n",
       "        2, 4, 3, 3, 3, 3, 2, 4, 3, 5, 3, 4, 2, 4, 2, 2, 4, 4, 4, 4, 3, 3, 4, 2,\n",
       "        2, 3, 3, 3, 3, 3, 3, 2, 2, 3, 4, 2, 2, 3, 3, 3, 3, 3, 5, 3, 2, 4, 4, 3,\n",
       "        1, 3, 3, 4, 4, 4, 3, 3, 3, 3, 3, 3, 2, 4, 3, 4, 4, 2, 3, 2, 2, 2, 3, 3,\n",
       "        2, 2, 3, 2, 3, 3, 2, 3, 1, 2, 3, 4, 3, 2, 4, 2, 3, 3, 3, 3, 2, 3, 3, 2,\n",
       "        0, 3, 3, 2, 4, 3, 3, 3, 3, 4, 2, 4, 4, 2, 4, 2, 3, 3, 2, 3, 3, 4, 3, 3,\n",
       "        3, 3, 2, 2, 2, 3, 3, 3, 2, 3, 3, 3, 3, 2, 4, 4, 3, 3, 3, 2, 3, 4, 4, 3,\n",
       "        3, 4, 1, 4, 3, 4, 3, 4, 4, 3, 3, 3, 4, 3, 2], device='cuda:0')"
      ]
     },
     "execution_count": 21,
     "metadata": {},
     "output_type": "execute_result"
    }
   ],
   "source": [
    "with torch.no_grad():\n",
    "    x_test = x_test.cuda()\n",
    "    prediction = model(x_test)\n",
    "    \n",
    "correct_prediction = torch.argmax(prediction, 1) \n",
    "correct_prediction"
   ]
  },
  {
   "cell_type": "code",
   "execution_count": 22,
   "id": "966ae414",
   "metadata": {
    "execution": {
     "iopub.execute_input": "2022-11-29T07:23:24.189940Z",
     "iopub.status.busy": "2022-11-29T07:23:24.189662Z",
     "iopub.status.idle": "2022-11-29T07:23:24.201533Z",
     "shell.execute_reply": "2022-11-29T07:23:24.200512Z"
    },
    "papermill": {
     "duration": 0.022215,
     "end_time": "2022-11-29T07:23:24.203656",
     "exception": false,
     "start_time": "2022-11-29T07:23:24.181441",
     "status": "completed"
    },
    "tags": []
   },
   "outputs": [
    {
     "data": {
      "text/html": [
       "<div>\n",
       "<style scoped>\n",
       "    .dataframe tbody tr th:only-of-type {\n",
       "        vertical-align: middle;\n",
       "    }\n",
       "\n",
       "    .dataframe tbody tr th {\n",
       "        vertical-align: top;\n",
       "    }\n",
       "\n",
       "    .dataframe thead th {\n",
       "        text-align: right;\n",
       "    }\n",
       "</style>\n",
       "<table border=\"1\" class=\"dataframe\">\n",
       "  <thead>\n",
       "    <tr style=\"text-align: right;\">\n",
       "      <th></th>\n",
       "      <th>index</th>\n",
       "      <th>quality</th>\n",
       "    </tr>\n",
       "  </thead>\n",
       "  <tbody>\n",
       "    <tr>\n",
       "      <th>0</th>\n",
       "      <td>0</td>\n",
       "      <td>7</td>\n",
       "    </tr>\n",
       "    <tr>\n",
       "      <th>1</th>\n",
       "      <td>1</td>\n",
       "      <td>6</td>\n",
       "    </tr>\n",
       "    <tr>\n",
       "      <th>2</th>\n",
       "      <td>2</td>\n",
       "      <td>6</td>\n",
       "    </tr>\n",
       "    <tr>\n",
       "      <th>3</th>\n",
       "      <td>3</td>\n",
       "      <td>6</td>\n",
       "    </tr>\n",
       "    <tr>\n",
       "      <th>4</th>\n",
       "      <td>4</td>\n",
       "      <td>5</td>\n",
       "    </tr>\n",
       "    <tr>\n",
       "      <th>...</th>\n",
       "      <td>...</td>\n",
       "      <td>...</td>\n",
       "    </tr>\n",
       "    <tr>\n",
       "      <th>970</th>\n",
       "      <td>970</td>\n",
       "      <td>6</td>\n",
       "    </tr>\n",
       "    <tr>\n",
       "      <th>971</th>\n",
       "      <td>971</td>\n",
       "      <td>6</td>\n",
       "    </tr>\n",
       "    <tr>\n",
       "      <th>972</th>\n",
       "      <td>972</td>\n",
       "      <td>7</td>\n",
       "    </tr>\n",
       "    <tr>\n",
       "      <th>973</th>\n",
       "      <td>973</td>\n",
       "      <td>6</td>\n",
       "    </tr>\n",
       "    <tr>\n",
       "      <th>974</th>\n",
       "      <td>974</td>\n",
       "      <td>5</td>\n",
       "    </tr>\n",
       "  </tbody>\n",
       "</table>\n",
       "<p>975 rows × 2 columns</p>\n",
       "</div>"
      ],
      "text/plain": [
       "     index  quality\n",
       "0        0        7\n",
       "1        1        6\n",
       "2        2        6\n",
       "3        3        6\n",
       "4        4        5\n",
       "..     ...      ...\n",
       "970    970        6\n",
       "971    971        6\n",
       "972    972        7\n",
       "973    973        6\n",
       "974    974        5\n",
       "\n",
       "[975 rows x 2 columns]"
      ]
     },
     "execution_count": 22,
     "metadata": {},
     "output_type": "execute_result"
    }
   ],
   "source": [
    "submit['quality'] = correct_prediction.cpu().detach()\n",
    "submit['quality'] = submit['quality']+3\n",
    "submit"
   ]
  },
  {
   "cell_type": "code",
   "execution_count": 23,
   "id": "e560e1ca",
   "metadata": {
    "execution": {
     "iopub.execute_input": "2022-11-29T07:23:24.219899Z",
     "iopub.status.busy": "2022-11-29T07:23:24.219556Z",
     "iopub.status.idle": "2022-11-29T07:23:24.226720Z",
     "shell.execute_reply": "2022-11-29T07:23:24.225881Z"
    },
    "papermill": {
     "duration": 0.017434,
     "end_time": "2022-11-29T07:23:24.228670",
     "exception": false,
     "start_time": "2022-11-29T07:23:24.211236",
     "status": "completed"
    },
    "tags": []
   },
   "outputs": [],
   "source": [
    "submit.to_csv('submit.csv',index = None)"
   ]
  }
 ],
 "metadata": {
  "kernelspec": {
   "display_name": "Python 3",
   "language": "python",
   "name": "python3"
  },
  "language_info": {
   "codemirror_mode": {
    "name": "ipython",
    "version": 3
   },
   "file_extension": ".py",
   "mimetype": "text/x-python",
   "name": "python",
   "nbconvert_exporter": "python",
   "pygments_lexer": "ipython3",
   "version": "3.7.12"
  },
  "papermill": {
   "default_parameters": {},
   "duration": 26.511348,
   "end_time": "2022-11-29T07:23:25.356943",
   "environment_variables": {},
   "exception": null,
   "input_path": "__notebook__.ipynb",
   "output_path": "__notebook__.ipynb",
   "parameters": {},
   "start_time": "2022-11-29T07:22:58.845595",
   "version": "2.3.4"
  }
 },
 "nbformat": 4,
 "nbformat_minor": 5
}
