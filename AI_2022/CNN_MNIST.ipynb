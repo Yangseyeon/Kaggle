{
 "cells": [
  {
   "cell_type": "code",
   "execution_count": 1,
   "id": "616b38b1",
   "metadata": {
    "_cell_guid": "b1076dfc-b9ad-4769-8c92-a6c4dae69d19",
    "_uuid": "8f2839f25d086af736a60e9eeb907d3b93b6e0e5",
    "execution": {
     "iopub.execute_input": "2022-11-07T14:15:33.152908Z",
     "iopub.status.busy": "2022-11-07T14:15:33.152373Z",
     "iopub.status.idle": "2022-11-07T14:15:33.168493Z",
     "shell.execute_reply": "2022-11-07T14:15:33.167339Z"
    },
    "papermill": {
     "duration": 0.02838,
     "end_time": "2022-11-07T14:15:33.171282",
     "exception": false,
     "start_time": "2022-11-07T14:15:33.142902",
     "status": "completed"
    },
    "tags": []
   },
   "outputs": [
    {
     "name": "stdout",
     "output_type": "stream",
     "text": [
      "/kaggle/input/2022-ai-w10p1/train.csv\n",
      "/kaggle/input/2022-ai-w10p1/test.csv\n",
      "/kaggle/input/2022-ai-w10p1/sample_submit.csv\n"
     ]
    }
   ],
   "source": [
    "# This Python 3 environment comes with many helpful analytics libraries installed\n",
    "# It is defined by the kaggle/python Docker image: https://github.com/kaggle/docker-python\n",
    "# For example, here's several helpful packages to load\n",
    "\n",
    "import numpy as np # linear algebra\n",
    "import pandas as pd # data processing, CSV file I/O (e.g. pd.read_csv)\n",
    "\n",
    "# Input data files are available in the read-only \"../input/\" directory\n",
    "# For example, running this (by clicking run or pressing Shift+Enter) will list all files under the input directory\n",
    "\n",
    "import os\n",
    "for dirname, _, filenames in os.walk('/kaggle/input'):\n",
    "    for filename in filenames:\n",
    "        print(os.path.join(dirname, filename))\n",
    "\n",
    "# You can write up to 20GB to the current directory (/kaggle/working/) that gets preserved as output when you create a version using \"Save & Run All\" \n",
    "# You can also write temporary files to /kaggle/temp/, but they won't be saved outside of the current session"
   ]
  },
  {
   "cell_type": "code",
   "execution_count": 2,
   "id": "b95b39c1",
   "metadata": {
    "execution": {
     "iopub.execute_input": "2022-11-07T14:15:33.185869Z",
     "iopub.status.busy": "2022-11-07T14:15:33.185548Z",
     "iopub.status.idle": "2022-11-07T14:15:35.712401Z",
     "shell.execute_reply": "2022-11-07T14:15:35.711425Z"
    },
    "papermill": {
     "duration": 2.545973,
     "end_time": "2022-11-07T14:15:35.724128",
     "exception": false,
     "start_time": "2022-11-07T14:15:33.178155",
     "status": "completed"
    },
    "tags": []
   },
   "outputs": [
    {
     "name": "stdout",
     "output_type": "stream",
     "text": [
      "cuda\n"
     ]
    }
   ],
   "source": [
    "import torch\n",
    "import torch.optim as optim\n",
    "import torchvision.transforms as transforms\n",
    "import random\n",
    "\n",
    "device = 'cuda' if torch.cuda.is_available() else 'cpu'\n",
    "\n",
    "\n",
    "random.seed(42)\n",
    "torch.manual_seed(42)\n",
    "if device == 'cuda':\n",
    "    torch.cuda.manual_seed_all(42)\n",
    "    torch.cuda.manual_seed_all(42)\n",
    "    print(\"cuda\")\n",
    "    \n",
    "torch.backends.cudnn.benchmark = False\n",
    "torch.backends.cudnn.deterministic = True"
   ]
  },
  {
   "cell_type": "code",
   "execution_count": 3,
   "id": "244daba9",
   "metadata": {
    "execution": {
     "iopub.execute_input": "2022-11-07T14:15:35.741079Z",
     "iopub.status.busy": "2022-11-07T14:15:35.740250Z",
     "iopub.status.idle": "2022-11-07T14:15:35.746862Z",
     "shell.execute_reply": "2022-11-07T14:15:35.745878Z"
    },
    "papermill": {
     "duration": 0.017502,
     "end_time": "2022-11-07T14:15:35.749575",
     "exception": false,
     "start_time": "2022-11-07T14:15:35.732073",
     "status": "completed"
    },
    "tags": []
   },
   "outputs": [],
   "source": [
    "import torch\n",
    "import torchvision.datasets as data\n",
    "import torchvision.transforms as transforms\n",
    "import random"
   ]
  },
  {
   "cell_type": "code",
   "execution_count": 4,
   "id": "f1c63c1f",
   "metadata": {
    "execution": {
     "iopub.execute_input": "2022-11-07T14:15:35.763882Z",
     "iopub.status.busy": "2022-11-07T14:15:35.763548Z",
     "iopub.status.idle": "2022-11-07T14:15:41.058002Z",
     "shell.execute_reply": "2022-11-07T14:15:41.056835Z"
    },
    "papermill": {
     "duration": 5.304811,
     "end_time": "2022-11-07T14:15:41.060932",
     "exception": false,
     "start_time": "2022-11-07T14:15:35.756121",
     "status": "completed"
    },
    "tags": []
   },
   "outputs": [],
   "source": [
    "train = pd.read_csv('/kaggle/input/2022-ai-w10p1/train.csv')\n",
    "test = pd.read_csv('/kaggle/input/2022-ai-w10p1/test.csv')\n",
    "sample = pd.read_csv('/kaggle/input/2022-ai-w10p1/sample_submit.csv')"
   ]
  },
  {
   "cell_type": "code",
   "execution_count": 5,
   "id": "207222f0",
   "metadata": {
    "execution": {
     "iopub.execute_input": "2022-11-07T14:15:41.072021Z",
     "iopub.status.busy": "2022-11-07T14:15:41.071699Z",
     "iopub.status.idle": "2022-11-07T14:15:41.076772Z",
     "shell.execute_reply": "2022-11-07T14:15:41.075540Z"
    },
    "papermill": {
     "duration": 0.013719,
     "end_time": "2022-11-07T14:15:41.079638",
     "exception": false,
     "start_time": "2022-11-07T14:15:41.065919",
     "status": "completed"
    },
    "tags": []
   },
   "outputs": [],
   "source": [
    "# 학습 파라미터 설정\n",
    "learning_rate = 0.001\n",
    "training_epochs = 5\n",
    "batch_size = 100\n",
    "method = \"alexnet\""
   ]
  },
  {
   "cell_type": "code",
   "execution_count": 6,
   "id": "3fa6bf54",
   "metadata": {
    "execution": {
     "iopub.execute_input": "2022-11-07T14:15:41.090975Z",
     "iopub.status.busy": "2022-11-07T14:15:41.090111Z",
     "iopub.status.idle": "2022-11-07T14:15:41.214870Z",
     "shell.execute_reply": "2022-11-07T14:15:41.213777Z"
    },
    "papermill": {
     "duration": 0.133466,
     "end_time": "2022-11-07T14:15:41.217897",
     "exception": false,
     "start_time": "2022-11-07T14:15:41.084431",
     "status": "completed"
    },
    "tags": []
   },
   "outputs": [
    {
     "data": {
      "text/plain": [
       "array([[0, 0, 0, ..., 0, 0, 0],\n",
       "       [0, 0, 0, ..., 0, 0, 0],\n",
       "       [0, 0, 0, ..., 0, 0, 0],\n",
       "       ...,\n",
       "       [0, 0, 0, ..., 0, 0, 0],\n",
       "       [0, 0, 0, ..., 0, 0, 0],\n",
       "       [0, 0, 0, ..., 0, 0, 0]])"
      ]
     },
     "execution_count": 6,
     "metadata": {},
     "output_type": "execute_result"
    }
   ],
   "source": [
    "train_y = np.asarray(train)[:, 0:1]\n",
    "train_x = np.asarray(train.drop('Category', axis = 1))\n",
    "test_x = np.asarray(test)\n",
    "\n",
    "test_x"
   ]
  },
  {
   "cell_type": "code",
   "execution_count": 7,
   "id": "e67107a0",
   "metadata": {
    "execution": {
     "iopub.execute_input": "2022-11-07T14:15:41.228276Z",
     "iopub.status.busy": "2022-11-07T14:15:41.228001Z",
     "iopub.status.idle": "2022-11-07T14:15:42.537207Z",
     "shell.execute_reply": "2022-11-07T14:15:42.536178Z"
    },
    "papermill": {
     "duration": 1.31724,
     "end_time": "2022-11-07T14:15:42.539588",
     "exception": false,
     "start_time": "2022-11-07T14:15:41.222348",
     "status": "completed"
    },
    "tags": []
   },
   "outputs": [],
   "source": [
    "import cv2\n",
    "import torch\n",
    "import torchvision\n",
    "import torchvision.transforms as transforms\n",
    "\n",
    "class Custom_Loader(torch.utils.data.Dataset):\n",
    "    def __init__(self, data, label=None, split='train', transform=None):\n",
    "        self.label = label\n",
    "        self.split = split\n",
    "        self.transform = transform\n",
    "        \n",
    "        # csv 파일로부터 얻어진 데이터를 28, 28, 1로 shape 변환\n",
    "        data_1ch = np.reshape(data, (-1, 28, 28, 1)) # (60000, 28, 28, 1) \n",
    "        # 1ch 의 MNIST이미지를 3ch 로 변환 \n",
    "        data_3ch = data_1ch.repeat(3, axis=-1) # (60000, 28, 28, 3) \n",
    "        # data 인스턴스에 변환한 데이터 저장\n",
    "        self.data = data_3ch.astype(np.uint8)\n",
    "    \n",
    "    def __len__(self):\n",
    "        return len(self.data)\n",
    "    \n",
    "    def __getitem__(self, idx):\n",
    "        # idx번째 데이터를 data에 저장\n",
    "        data = self.data[idx]  # shape (28, 28, 3)\n",
    "        \n",
    "        # 28x28 이미지를 224x224로 resize\n",
    "        data = cv2.resize(data, dsize=(224, 224), interpolation=cv2.INTER_LINEAR) # shape (224, 224, 3)\n",
    "        \n",
    "        # Tensor 변환 및 Normalization \n",
    "        data = self.transform(data)\n",
    "        \n",
    "        # train loader 일 경우 data, label 반환\n",
    "        if self.split == 'train':\n",
    "            return data, torch.from_numpy(self.label[idx])\n",
    "        else:\n",
    "        # test 일 경우, data만 반환 \n",
    "            return data\n",
    "        \n",
    "\n",
    "transform = transforms.Compose(\n",
    "    [transforms.ToTensor(),\n",
    "     transforms.Normalize((0.485, 0.456, 0.406), (0.229, 0.224, 0.225))])\n",
    "\n",
    "train_dataset = Custom_Loader(train_x, train_y, split='train', transform=transform)\n",
    "test_dataset = Custom_Loader(test_x, split='test', transform=transform)\n",
    "\n",
    "train_loader = torch.utils.data.DataLoader(train_dataset, batch_size=batch_size, shuffle=True, num_workers=2)\n",
    "test_loader = torch.utils.data.DataLoader(test_dataset, batch_size=batch_size, shuffle=False, num_workers=2)"
   ]
  },
  {
   "cell_type": "code",
   "execution_count": 8,
   "id": "da3677f7",
   "metadata": {
    "execution": {
     "iopub.execute_input": "2022-11-07T14:15:42.550056Z",
     "iopub.status.busy": "2022-11-07T14:15:42.549734Z",
     "iopub.status.idle": "2022-11-07T14:15:52.199345Z",
     "shell.execute_reply": "2022-11-07T14:15:52.198380Z"
    },
    "papermill": {
     "duration": 9.65775,
     "end_time": "2022-11-07T14:15:52.201853",
     "exception": false,
     "start_time": "2022-11-07T14:15:42.544103",
     "status": "completed"
    },
    "tags": []
   },
   "outputs": [
    {
     "name": "stderr",
     "output_type": "stream",
     "text": [
      "Downloading: \"https://download.pytorch.org/models/alexnet-owt-7be5be79.pth\" to /root/.cache/torch/hub/checkpoints/alexnet-owt-7be5be79.pth\n"
     ]
    },
    {
     "data": {
      "application/vnd.jupyter.widget-view+json": {
       "model_id": "421214a7945a48088f7a13405dcf9372",
       "version_major": 2,
       "version_minor": 0
      },
      "text/plain": [
       "  0%|          | 0.00/233M [00:00<?, ?B/s]"
      ]
     },
     "metadata": {},
     "output_type": "display_data"
    }
   ],
   "source": [
    "import torchvision.models as models\n",
    "\n",
    "if method == \"resnet\":\n",
    "    model = models.resnet18(pretrained=True)\n",
    "    model.fc = torch.nn.Linear(in_features=512, out_features=10, bias=True)\n",
    "elif method == \"vgg\":\n",
    "    model = models.vgg16(pretrained=True)\n",
    "    model.classifier[6] = torch.nn.Linear(in_features=4096, out_features=10, bias=True)\n",
    "elif method == \"alexnet\":\n",
    "    model = models.alexnet(pretrained=True)\n",
    "    model.classifier[6] = torch.nn.Linear(in_features=4096, out_features=10, bias=True)\n",
    "else:\n",
    "    raise ValueError(\"Check Method!\")\n",
    "    \n"
   ]
  },
  {
   "cell_type": "code",
   "execution_count": 9,
   "id": "bc66dab3",
   "metadata": {
    "execution": {
     "iopub.execute_input": "2022-11-07T14:15:52.213747Z",
     "iopub.status.busy": "2022-11-07T14:15:52.212854Z",
     "iopub.status.idle": "2022-11-07T14:15:55.705392Z",
     "shell.execute_reply": "2022-11-07T14:15:55.704181Z"
    },
    "papermill": {
     "duration": 3.501516,
     "end_time": "2022-11-07T14:15:55.708442",
     "exception": false,
     "start_time": "2022-11-07T14:15:52.206926",
     "status": "completed"
    },
    "tags": []
   },
   "outputs": [],
   "source": [
    "model = model.to(device)\n",
    "optimizer = torch.optim.SGD(model.parameters(), lr=learning_rate, momentum=0.9)\n",
    "loss = torch.nn.CrossEntropyLoss()"
   ]
  },
  {
   "cell_type": "code",
   "execution_count": 10,
   "id": "e63a3608",
   "metadata": {
    "execution": {
     "iopub.execute_input": "2022-11-07T14:15:55.719275Z",
     "iopub.status.busy": "2022-11-07T14:15:55.718943Z",
     "iopub.status.idle": "2022-11-07T14:15:55.727180Z",
     "shell.execute_reply": "2022-11-07T14:15:55.726128Z"
    },
    "papermill": {
     "duration": 0.016215,
     "end_time": "2022-11-07T14:15:55.729431",
     "exception": false,
     "start_time": "2022-11-07T14:15:55.713216",
     "status": "completed"
    },
    "tags": []
   },
   "outputs": [],
   "source": [
    "# 버전 2.0\n",
    "class CNN(torch.nn.Module):\n",
    "  def __init__(self):\n",
    "    super(CNN,self).__init__() # 이부분 빼먹기 쉬운데 조심할 것\n",
    "\n",
    "    self.layer1 = torch.nn.Sequential(\n",
    "        torch.nn.Conv2d(1,32,kernel_size=3,stride=1,padding=1),\n",
    "        torch.nn.ReLU(),\n",
    "        torch.nn.MaxPool2d(kernel_size=2,stride=2)\n",
    "    )\n",
    "\n",
    "    self.layer2 = torch.nn.Sequential(\n",
    "        torch.nn.Conv2d(32,64,kernel_size=3,stride=1,padding=1),\n",
    "        torch.nn.ReLU(),\n",
    "        torch.nn.MaxPool2d(kernel_size=2,stride=2)\n",
    "    ) \n",
    "\n",
    "    self.fc = torch.nn.Linear(7*7*64,10,bias=True)\n",
    "    torch.nn.init.kaiming_uniform(self.fc.weight)\n",
    "\n",
    "  def forward(self,x):\n",
    "    \n",
    "    out = self.layer1(x)\n",
    "    out = self.layer2(out)\n",
    "    out = out.view(out.size(0),-1)     # out = Batch x 7 x 7 x 64\n",
    "    out = self.fc(out)\n",
    "    return out"
   ]
  },
  {
   "cell_type": "code",
   "execution_count": 11,
   "id": "3346a985",
   "metadata": {
    "execution": {
     "iopub.execute_input": "2022-11-07T14:15:55.739768Z",
     "iopub.status.busy": "2022-11-07T14:15:55.739461Z",
     "iopub.status.idle": "2022-11-07T14:24:38.617768Z",
     "shell.execute_reply": "2022-11-07T14:24:38.616555Z"
    },
    "papermill": {
     "duration": 522.894247,
     "end_time": "2022-11-07T14:24:38.628255",
     "exception": false,
     "start_time": "2022-11-07T14:15:55.734008",
     "status": "completed"
    },
    "tags": []
   },
   "outputs": [
    {
     "name": "stdout",
     "output_type": "stream",
     "text": [
      "[Epoch:    1] cost = 0.144369021\n",
      "[Epoch:    2] cost = 0.0421045572\n",
      "[Epoch:    3] cost = 0.0311104711\n",
      "[Epoch:    4] cost = 0.0248560309\n",
      "[Epoch:    5] cost = 0.0219418462\n",
      "Learning Finished!\n"
     ]
    }
   ],
   "source": [
    "total_batch = len(train_loader)\n",
    "for epoch in range(training_epochs):\n",
    "    avg_cost = 0\n",
    "\n",
    "    for X, Y in train_loader:\n",
    "        # image is already size of (28x28), no reshape\n",
    "        # label is not one-hot encoded\n",
    "        X = X.to(device)\n",
    "        Y = Y.to(device)\n",
    "\n",
    "        optimizer.zero_grad()\n",
    "        hypothesis = model(X)\n",
    "        cost = loss(hypothesis, Y.squeeze(-1))\n",
    "        cost.backward()\n",
    "        optimizer.step()\n",
    "\n",
    "        avg_cost += cost / total_batch\n",
    "\n",
    "    print('[Epoch: {:>4}] cost = {:>.9}'.format(epoch + 1, avg_cost))\n",
    "\n",
    "print('Learning Finished!')"
   ]
  },
  {
   "cell_type": "code",
   "execution_count": 12,
   "id": "af8d8684",
   "metadata": {
    "execution": {
     "iopub.execute_input": "2022-11-07T14:24:38.645306Z",
     "iopub.status.busy": "2022-11-07T14:24:38.644621Z",
     "iopub.status.idle": "2022-11-07T14:24:53.480147Z",
     "shell.execute_reply": "2022-11-07T14:24:53.478813Z"
    },
    "papermill": {
     "duration": 14.847291,
     "end_time": "2022-11-07T14:24:53.483089",
     "exception": false,
     "start_time": "2022-11-07T14:24:38.635798",
     "status": "completed"
    },
    "tags": []
   },
   "outputs": [],
   "source": [
    "predict_arr = []\n",
    "for X in test_loader:\n",
    "        X = X.to(device)\n",
    "        predict = model(X)\n",
    "        predict_arr.append(predict.argmax(dim = 1))\n"
   ]
  },
  {
   "cell_type": "code",
   "execution_count": 13,
   "id": "a39ccc13",
   "metadata": {
    "execution": {
     "iopub.execute_input": "2022-11-07T14:24:53.494608Z",
     "iopub.status.busy": "2022-11-07T14:24:53.494257Z",
     "iopub.status.idle": "2022-11-07T14:24:53.504943Z",
     "shell.execute_reply": "2022-11-07T14:24:53.504072Z"
    },
    "papermill": {
     "duration": 0.018939,
     "end_time": "2022-11-07T14:24:53.507177",
     "exception": false,
     "start_time": "2022-11-07T14:24:53.488238",
     "status": "completed"
    },
    "tags": []
   },
   "outputs": [],
   "source": [
    "l = []\n",
    "\n",
    "for item in predict_arr:\n",
    "    l2 = np.asarray(item.cpu().detach())\n",
    "    for i in l2:\n",
    "        l.append(i)\n"
   ]
  },
  {
   "cell_type": "code",
   "execution_count": null,
   "id": "5a983887",
   "metadata": {
    "papermill": {
     "duration": 0.004646,
     "end_time": "2022-11-07T14:24:53.516573",
     "exception": false,
     "start_time": "2022-11-07T14:24:53.511927",
     "status": "completed"
    },
    "tags": []
   },
   "outputs": [],
   "source": []
  },
  {
   "cell_type": "code",
   "execution_count": 14,
   "id": "a0094a26",
   "metadata": {
    "execution": {
     "iopub.execute_input": "2022-11-07T14:24:53.527740Z",
     "iopub.status.busy": "2022-11-07T14:24:53.527427Z",
     "iopub.status.idle": "2022-11-07T14:24:53.546958Z",
     "shell.execute_reply": "2022-11-07T14:24:53.546058Z"
    },
    "papermill": {
     "duration": 0.027708,
     "end_time": "2022-11-07T14:24:53.549110",
     "exception": false,
     "start_time": "2022-11-07T14:24:53.521402",
     "status": "completed"
    },
    "tags": []
   },
   "outputs": [
    {
     "data": {
      "text/html": [
       "<div>\n",
       "<style scoped>\n",
       "    .dataframe tbody tr th:only-of-type {\n",
       "        vertical-align: middle;\n",
       "    }\n",
       "\n",
       "    .dataframe tbody tr th {\n",
       "        vertical-align: top;\n",
       "    }\n",
       "\n",
       "    .dataframe thead th {\n",
       "        text-align: right;\n",
       "    }\n",
       "</style>\n",
       "<table border=\"1\" class=\"dataframe\">\n",
       "  <thead>\n",
       "    <tr style=\"text-align: right;\">\n",
       "      <th></th>\n",
       "      <th>Id</th>\n",
       "      <th>Category</th>\n",
       "    </tr>\n",
       "  </thead>\n",
       "  <tbody>\n",
       "    <tr>\n",
       "      <th>0</th>\n",
       "      <td>0</td>\n",
       "      <td>0</td>\n",
       "    </tr>\n",
       "    <tr>\n",
       "      <th>1</th>\n",
       "      <td>1</td>\n",
       "      <td>0</td>\n",
       "    </tr>\n",
       "    <tr>\n",
       "      <th>2</th>\n",
       "      <td>2</td>\n",
       "      <td>0</td>\n",
       "    </tr>\n",
       "    <tr>\n",
       "      <th>3</th>\n",
       "      <td>3</td>\n",
       "      <td>0</td>\n",
       "    </tr>\n",
       "    <tr>\n",
       "      <th>4</th>\n",
       "      <td>4</td>\n",
       "      <td>0</td>\n",
       "    </tr>\n",
       "    <tr>\n",
       "      <th>...</th>\n",
       "      <td>...</td>\n",
       "      <td>...</td>\n",
       "    </tr>\n",
       "    <tr>\n",
       "      <th>9995</th>\n",
       "      <td>9995</td>\n",
       "      <td>0</td>\n",
       "    </tr>\n",
       "    <tr>\n",
       "      <th>9996</th>\n",
       "      <td>9996</td>\n",
       "      <td>0</td>\n",
       "    </tr>\n",
       "    <tr>\n",
       "      <th>9997</th>\n",
       "      <td>9997</td>\n",
       "      <td>0</td>\n",
       "    </tr>\n",
       "    <tr>\n",
       "      <th>9998</th>\n",
       "      <td>9998</td>\n",
       "      <td>0</td>\n",
       "    </tr>\n",
       "    <tr>\n",
       "      <th>9999</th>\n",
       "      <td>9999</td>\n",
       "      <td>0</td>\n",
       "    </tr>\n",
       "  </tbody>\n",
       "</table>\n",
       "<p>10000 rows × 2 columns</p>\n",
       "</div>"
      ],
      "text/plain": [
       "        Id  Category\n",
       "0        0         0\n",
       "1        1         0\n",
       "2        2         0\n",
       "3        3         0\n",
       "4        4         0\n",
       "...    ...       ...\n",
       "9995  9995         0\n",
       "9996  9996         0\n",
       "9997  9997         0\n",
       "9998  9998         0\n",
       "9999  9999         0\n",
       "\n",
       "[10000 rows x 2 columns]"
      ]
     },
     "execution_count": 14,
     "metadata": {},
     "output_type": "execute_result"
    }
   ],
   "source": [
    "sample"
   ]
  },
  {
   "cell_type": "code",
   "execution_count": 15,
   "id": "d2e18b97",
   "metadata": {
    "execution": {
     "iopub.execute_input": "2022-11-07T14:24:53.560062Z",
     "iopub.status.busy": "2022-11-07T14:24:53.559772Z",
     "iopub.status.idle": "2022-11-07T14:24:53.581081Z",
     "shell.execute_reply": "2022-11-07T14:24:53.580191Z"
    },
    "papermill": {
     "duration": 0.029569,
     "end_time": "2022-11-07T14:24:53.583537",
     "exception": false,
     "start_time": "2022-11-07T14:24:53.553968",
     "status": "completed"
    },
    "tags": []
   },
   "outputs": [],
   "source": [
    "sample['Category'] = l\n",
    "sample.to_csv('submit.csv', index = None)"
   ]
  },
  {
   "cell_type": "code",
   "execution_count": 16,
   "id": "50574182",
   "metadata": {
    "execution": {
     "iopub.execute_input": "2022-11-07T14:24:53.595226Z",
     "iopub.status.busy": "2022-11-07T14:24:53.594543Z",
     "iopub.status.idle": "2022-11-07T14:24:53.600930Z",
     "shell.execute_reply": "2022-11-07T14:24:53.599998Z"
    },
    "papermill": {
     "duration": 0.014459,
     "end_time": "2022-11-07T14:24:53.603092",
     "exception": false,
     "start_time": "2022-11-07T14:24:53.588633",
     "status": "completed"
    },
    "tags": []
   },
   "outputs": [
    {
     "data": {
      "text/plain": [
       "1"
      ]
     },
     "execution_count": 16,
     "metadata": {},
     "output_type": "execute_result"
    }
   ],
   "source": [
    "l[101]"
   ]
  },
  {
   "cell_type": "code",
   "execution_count": 17,
   "id": "3f830ad8",
   "metadata": {
    "execution": {
     "iopub.execute_input": "2022-11-07T14:24:53.615386Z",
     "iopub.status.busy": "2022-11-07T14:24:53.614550Z",
     "iopub.status.idle": "2022-11-07T14:24:53.625172Z",
     "shell.execute_reply": "2022-11-07T14:24:53.624123Z"
    },
    "papermill": {
     "duration": 0.019278,
     "end_time": "2022-11-07T14:24:53.627466",
     "exception": false,
     "start_time": "2022-11-07T14:24:53.608188",
     "status": "completed"
    },
    "tags": []
   },
   "outputs": [
    {
     "data": {
      "text/html": [
       "<div>\n",
       "<style scoped>\n",
       "    .dataframe tbody tr th:only-of-type {\n",
       "        vertical-align: middle;\n",
       "    }\n",
       "\n",
       "    .dataframe tbody tr th {\n",
       "        vertical-align: top;\n",
       "    }\n",
       "\n",
       "    .dataframe thead th {\n",
       "        text-align: right;\n",
       "    }\n",
       "</style>\n",
       "<table border=\"1\" class=\"dataframe\">\n",
       "  <thead>\n",
       "    <tr style=\"text-align: right;\">\n",
       "      <th></th>\n",
       "      <th>Id</th>\n",
       "      <th>Category</th>\n",
       "    </tr>\n",
       "  </thead>\n",
       "  <tbody>\n",
       "    <tr>\n",
       "      <th>0</th>\n",
       "      <td>0</td>\n",
       "      <td>6</td>\n",
       "    </tr>\n",
       "    <tr>\n",
       "      <th>1</th>\n",
       "      <td>1</td>\n",
       "      <td>1</td>\n",
       "    </tr>\n",
       "    <tr>\n",
       "      <th>2</th>\n",
       "      <td>2</td>\n",
       "      <td>0</td>\n",
       "    </tr>\n",
       "    <tr>\n",
       "      <th>3</th>\n",
       "      <td>3</td>\n",
       "      <td>0</td>\n",
       "    </tr>\n",
       "    <tr>\n",
       "      <th>4</th>\n",
       "      <td>4</td>\n",
       "      <td>9</td>\n",
       "    </tr>\n",
       "    <tr>\n",
       "      <th>...</th>\n",
       "      <td>...</td>\n",
       "      <td>...</td>\n",
       "    </tr>\n",
       "    <tr>\n",
       "      <th>9995</th>\n",
       "      <td>9995</td>\n",
       "      <td>3</td>\n",
       "    </tr>\n",
       "    <tr>\n",
       "      <th>9996</th>\n",
       "      <td>9996</td>\n",
       "      <td>7</td>\n",
       "    </tr>\n",
       "    <tr>\n",
       "      <th>9997</th>\n",
       "      <td>9997</td>\n",
       "      <td>2</td>\n",
       "    </tr>\n",
       "    <tr>\n",
       "      <th>9998</th>\n",
       "      <td>9998</td>\n",
       "      <td>8</td>\n",
       "    </tr>\n",
       "    <tr>\n",
       "      <th>9999</th>\n",
       "      <td>9999</td>\n",
       "      <td>3</td>\n",
       "    </tr>\n",
       "  </tbody>\n",
       "</table>\n",
       "<p>10000 rows × 2 columns</p>\n",
       "</div>"
      ],
      "text/plain": [
       "        Id  Category\n",
       "0        0         6\n",
       "1        1         1\n",
       "2        2         0\n",
       "3        3         0\n",
       "4        4         9\n",
       "...    ...       ...\n",
       "9995  9995         3\n",
       "9996  9996         7\n",
       "9997  9997         2\n",
       "9998  9998         8\n",
       "9999  9999         3\n",
       "\n",
       "[10000 rows x 2 columns]"
      ]
     },
     "execution_count": 17,
     "metadata": {},
     "output_type": "execute_result"
    }
   ],
   "source": [
    "sample"
   ]
  }
 ],
 "metadata": {
  "kernelspec": {
   "display_name": "Python 3",
   "language": "python",
   "name": "python3"
  },
  "language_info": {
   "codemirror_mode": {
    "name": "ipython",
    "version": 3
   },
   "file_extension": ".py",
   "mimetype": "text/x-python",
   "name": "python",
   "nbconvert_exporter": "python",
   "pygments_lexer": "ipython3",
   "version": "3.7.12"
  },
  "papermill": {
   "default_parameters": {},
   "duration": 571.944872,
   "end_time": "2022-11-07T14:24:56.247877",
   "environment_variables": {},
   "exception": null,
   "input_path": "__notebook__.ipynb",
   "output_path": "__notebook__.ipynb",
   "parameters": {},
   "start_time": "2022-11-07T14:15:24.303005",
   "version": "2.3.4"
  },
  "widgets": {
   "application/vnd.jupyter.widget-state+json": {
    "state": {
     "13be0eb4cb7e4969ae9da4d888b21ac0": {
      "model_module": "@jupyter-widgets/controls",
      "model_module_version": "1.5.0",
      "model_name": "ProgressStyleModel",
      "state": {
       "_model_module": "@jupyter-widgets/controls",
       "_model_module_version": "1.5.0",
       "_model_name": "ProgressStyleModel",
       "_view_count": null,
       "_view_module": "@jupyter-widgets/base",
       "_view_module_version": "1.2.0",
       "_view_name": "StyleView",
       "bar_color": null,
       "description_width": ""
      }
     },
     "171db895313a451fae64f9cafad609d0": {
      "model_module": "@jupyter-widgets/controls",
      "model_module_version": "1.5.0",
      "model_name": "HTMLModel",
      "state": {
       "_dom_classes": [],
       "_model_module": "@jupyter-widgets/controls",
       "_model_module_version": "1.5.0",
       "_model_name": "HTMLModel",
       "_view_count": null,
       "_view_module": "@jupyter-widgets/controls",
       "_view_module_version": "1.5.0",
       "_view_name": "HTMLView",
       "description": "",
       "description_tooltip": null,
       "layout": "IPY_MODEL_46d13cda93c449739ad5c39e5e552b6d",
       "placeholder": "​",
       "style": "IPY_MODEL_7f0bb574569942ac8fdee11b1e65f1ff",
       "value": "100%"
      }
     },
     "421214a7945a48088f7a13405dcf9372": {
      "model_module": "@jupyter-widgets/controls",
      "model_module_version": "1.5.0",
      "model_name": "HBoxModel",
      "state": {
       "_dom_classes": [],
       "_model_module": "@jupyter-widgets/controls",
       "_model_module_version": "1.5.0",
       "_model_name": "HBoxModel",
       "_view_count": null,
       "_view_module": "@jupyter-widgets/controls",
       "_view_module_version": "1.5.0",
       "_view_name": "HBoxView",
       "box_style": "",
       "children": [
        "IPY_MODEL_171db895313a451fae64f9cafad609d0",
        "IPY_MODEL_caf8806fc7484a09966391da26bec4d8",
        "IPY_MODEL_bae11a5884ca495dbc2cffebcee4a881"
       ],
       "layout": "IPY_MODEL_c51a0935034542edaac50f03ac8aba79"
      }
     },
     "46d13cda93c449739ad5c39e5e552b6d": {
      "model_module": "@jupyter-widgets/base",
      "model_module_version": "1.2.0",
      "model_name": "LayoutModel",
      "state": {
       "_model_module": "@jupyter-widgets/base",
       "_model_module_version": "1.2.0",
       "_model_name": "LayoutModel",
       "_view_count": null,
       "_view_module": "@jupyter-widgets/base",
       "_view_module_version": "1.2.0",
       "_view_name": "LayoutView",
       "align_content": null,
       "align_items": null,
       "align_self": null,
       "border": null,
       "bottom": null,
       "display": null,
       "flex": null,
       "flex_flow": null,
       "grid_area": null,
       "grid_auto_columns": null,
       "grid_auto_flow": null,
       "grid_auto_rows": null,
       "grid_column": null,
       "grid_gap": null,
       "grid_row": null,
       "grid_template_areas": null,
       "grid_template_columns": null,
       "grid_template_rows": null,
       "height": null,
       "justify_content": null,
       "justify_items": null,
       "left": null,
       "margin": null,
       "max_height": null,
       "max_width": null,
       "min_height": null,
       "min_width": null,
       "object_fit": null,
       "object_position": null,
       "order": null,
       "overflow": null,
       "overflow_x": null,
       "overflow_y": null,
       "padding": null,
       "right": null,
       "top": null,
       "visibility": null,
       "width": null
      }
     },
     "7f0bb574569942ac8fdee11b1e65f1ff": {
      "model_module": "@jupyter-widgets/controls",
      "model_module_version": "1.5.0",
      "model_name": "DescriptionStyleModel",
      "state": {
       "_model_module": "@jupyter-widgets/controls",
       "_model_module_version": "1.5.0",
       "_model_name": "DescriptionStyleModel",
       "_view_count": null,
       "_view_module": "@jupyter-widgets/base",
       "_view_module_version": "1.2.0",
       "_view_name": "StyleView",
       "description_width": ""
      }
     },
     "91b7d6d1514d4169b0bfb87b7b755c53": {
      "model_module": "@jupyter-widgets/base",
      "model_module_version": "1.2.0",
      "model_name": "LayoutModel",
      "state": {
       "_model_module": "@jupyter-widgets/base",
       "_model_module_version": "1.2.0",
       "_model_name": "LayoutModel",
       "_view_count": null,
       "_view_module": "@jupyter-widgets/base",
       "_view_module_version": "1.2.0",
       "_view_name": "LayoutView",
       "align_content": null,
       "align_items": null,
       "align_self": null,
       "border": null,
       "bottom": null,
       "display": null,
       "flex": null,
       "flex_flow": null,
       "grid_area": null,
       "grid_auto_columns": null,
       "grid_auto_flow": null,
       "grid_auto_rows": null,
       "grid_column": null,
       "grid_gap": null,
       "grid_row": null,
       "grid_template_areas": null,
       "grid_template_columns": null,
       "grid_template_rows": null,
       "height": null,
       "justify_content": null,
       "justify_items": null,
       "left": null,
       "margin": null,
       "max_height": null,
       "max_width": null,
       "min_height": null,
       "min_width": null,
       "object_fit": null,
       "object_position": null,
       "order": null,
       "overflow": null,
       "overflow_x": null,
       "overflow_y": null,
       "padding": null,
       "right": null,
       "top": null,
       "visibility": null,
       "width": null
      }
     },
     "bae11a5884ca495dbc2cffebcee4a881": {
      "model_module": "@jupyter-widgets/controls",
      "model_module_version": "1.5.0",
      "model_name": "HTMLModel",
      "state": {
       "_dom_classes": [],
       "_model_module": "@jupyter-widgets/controls",
       "_model_module_version": "1.5.0",
       "_model_name": "HTMLModel",
       "_view_count": null,
       "_view_module": "@jupyter-widgets/controls",
       "_view_module_version": "1.5.0",
       "_view_name": "HTMLView",
       "description": "",
       "description_tooltip": null,
       "layout": "IPY_MODEL_fa73b94d2276493ca8c37c4fb4dd771d",
       "placeholder": "​",
       "style": "IPY_MODEL_bae2f8938865432aaa409e4dfe4bfe83",
       "value": " 233M/233M [00:08&lt;00:00, 31.1MB/s]"
      }
     },
     "bae2f8938865432aaa409e4dfe4bfe83": {
      "model_module": "@jupyter-widgets/controls",
      "model_module_version": "1.5.0",
      "model_name": "DescriptionStyleModel",
      "state": {
       "_model_module": "@jupyter-widgets/controls",
       "_model_module_version": "1.5.0",
       "_model_name": "DescriptionStyleModel",
       "_view_count": null,
       "_view_module": "@jupyter-widgets/base",
       "_view_module_version": "1.2.0",
       "_view_name": "StyleView",
       "description_width": ""
      }
     },
     "c51a0935034542edaac50f03ac8aba79": {
      "model_module": "@jupyter-widgets/base",
      "model_module_version": "1.2.0",
      "model_name": "LayoutModel",
      "state": {
       "_model_module": "@jupyter-widgets/base",
       "_model_module_version": "1.2.0",
       "_model_name": "LayoutModel",
       "_view_count": null,
       "_view_module": "@jupyter-widgets/base",
       "_view_module_version": "1.2.0",
       "_view_name": "LayoutView",
       "align_content": null,
       "align_items": null,
       "align_self": null,
       "border": null,
       "bottom": null,
       "display": null,
       "flex": null,
       "flex_flow": null,
       "grid_area": null,
       "grid_auto_columns": null,
       "grid_auto_flow": null,
       "grid_auto_rows": null,
       "grid_column": null,
       "grid_gap": null,
       "grid_row": null,
       "grid_template_areas": null,
       "grid_template_columns": null,
       "grid_template_rows": null,
       "height": null,
       "justify_content": null,
       "justify_items": null,
       "left": null,
       "margin": null,
       "max_height": null,
       "max_width": null,
       "min_height": null,
       "min_width": null,
       "object_fit": null,
       "object_position": null,
       "order": null,
       "overflow": null,
       "overflow_x": null,
       "overflow_y": null,
       "padding": null,
       "right": null,
       "top": null,
       "visibility": null,
       "width": null
      }
     },
     "caf8806fc7484a09966391da26bec4d8": {
      "model_module": "@jupyter-widgets/controls",
      "model_module_version": "1.5.0",
      "model_name": "FloatProgressModel",
      "state": {
       "_dom_classes": [],
       "_model_module": "@jupyter-widgets/controls",
       "_model_module_version": "1.5.0",
       "_model_name": "FloatProgressModel",
       "_view_count": null,
       "_view_module": "@jupyter-widgets/controls",
       "_view_module_version": "1.5.0",
       "_view_name": "ProgressView",
       "bar_style": "success",
       "description": "",
       "description_tooltip": null,
       "layout": "IPY_MODEL_91b7d6d1514d4169b0bfb87b7b755c53",
       "max": 244408911.0,
       "min": 0.0,
       "orientation": "horizontal",
       "style": "IPY_MODEL_13be0eb4cb7e4969ae9da4d888b21ac0",
       "value": 244408911.0
      }
     },
     "fa73b94d2276493ca8c37c4fb4dd771d": {
      "model_module": "@jupyter-widgets/base",
      "model_module_version": "1.2.0",
      "model_name": "LayoutModel",
      "state": {
       "_model_module": "@jupyter-widgets/base",
       "_model_module_version": "1.2.0",
       "_model_name": "LayoutModel",
       "_view_count": null,
       "_view_module": "@jupyter-widgets/base",
       "_view_module_version": "1.2.0",
       "_view_name": "LayoutView",
       "align_content": null,
       "align_items": null,
       "align_self": null,
       "border": null,
       "bottom": null,
       "display": null,
       "flex": null,
       "flex_flow": null,
       "grid_area": null,
       "grid_auto_columns": null,
       "grid_auto_flow": null,
       "grid_auto_rows": null,
       "grid_column": null,
       "grid_gap": null,
       "grid_row": null,
       "grid_template_areas": null,
       "grid_template_columns": null,
       "grid_template_rows": null,
       "height": null,
       "justify_content": null,
       "justify_items": null,
       "left": null,
       "margin": null,
       "max_height": null,
       "max_width": null,
       "min_height": null,
       "min_width": null,
       "object_fit": null,
       "object_position": null,
       "order": null,
       "overflow": null,
       "overflow_x": null,
       "overflow_y": null,
       "padding": null,
       "right": null,
       "top": null,
       "visibility": null,
       "width": null
      }
     }
    },
    "version_major": 2,
    "version_minor": 0
   }
  }
 },
 "nbformat": 4,
 "nbformat_minor": 5
}
