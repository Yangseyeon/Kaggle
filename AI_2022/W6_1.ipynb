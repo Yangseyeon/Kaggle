{
 "cells": [
  {
   "cell_type": "code",
   "execution_count": 1,
   "id": "9d7fb4aa",
   "metadata": {
    "_cell_guid": "b1076dfc-b9ad-4769-8c92-a6c4dae69d19",
    "_uuid": "8f2839f25d086af736a60e9eeb907d3b93b6e0e5",
    "execution": {
     "iopub.execute_input": "2022-10-08T12:11:06.267239Z",
     "iopub.status.busy": "2022-10-08T12:11:06.266558Z",
     "iopub.status.idle": "2022-10-08T12:11:06.282080Z",
     "shell.execute_reply": "2022-10-08T12:11:06.281185Z"
    },
    "papermill": {
     "duration": 0.029029,
     "end_time": "2022-10-08T12:11:06.286143",
     "exception": false,
     "start_time": "2022-10-08T12:11:06.257114",
     "status": "completed"
    },
    "tags": []
   },
   "outputs": [
    {
     "name": "stdout",
     "output_type": "stream",
     "text": [
      "/kaggle/input/2022-ai-w6p1/sample_submission.csv\n",
      "/kaggle/input/2022-ai-w6p1/pca_test.csv\n",
      "/kaggle/input/2022-ai-w6p1/pca_train.csv\n",
      "/kaggle/input/2022-ai-w6p1/train_label.csv\n"
     ]
    }
   ],
   "source": [
    "# This Python 3 environment comes with many helpful analytics libraries installed\n",
    "# It is defined by the kaggle/python Docker image: https://github.com/kaggle/docker-python\n",
    "# For example, here's several helpful packages to load\n",
    "\n",
    "import numpy as np # linear algebra\n",
    "import pandas as pd # data processing, CSV file I/O (e.g. pd.read_csv)\n",
    "\n",
    "# Input data files are available in the read-only \"../input/\" directory\n",
    "# For example, running this (by clicking run or pressing Shift+Enter) will list all files under the input directory\n",
    "\n",
    "import os\n",
    "for dirname, _, filenames in os.walk('/kaggle/input'):\n",
    "    for filename in filenames:\n",
    "        print(os.path.join(dirname, filename))\n",
    "\n",
    "# You can write up to 20GB to the current directory (/kaggle/working/) that gets preserved as output when you create a version using \"Save & Run All\" \n",
    "# You can also write temporary files to /kaggle/temp/, but they won't be saved outside of the current session"
   ]
  },
  {
   "cell_type": "code",
   "execution_count": 2,
   "id": "48ac5c7b",
   "metadata": {
    "execution": {
     "iopub.execute_input": "2022-10-08T12:11:06.299185Z",
     "iopub.status.busy": "2022-10-08T12:11:06.297881Z",
     "iopub.status.idle": "2022-10-08T12:11:11.706790Z",
     "shell.execute_reply": "2022-10-08T12:11:11.705511Z"
    },
    "papermill": {
     "duration": 5.417869,
     "end_time": "2022-10-08T12:11:11.709536",
     "exception": false,
     "start_time": "2022-10-08T12:11:06.291667",
     "status": "completed"
    },
    "tags": []
   },
   "outputs": [
    {
     "data": {
      "text/html": [
       "<div>\n",
       "<style scoped>\n",
       "    .dataframe tbody tr th:only-of-type {\n",
       "        vertical-align: middle;\n",
       "    }\n",
       "\n",
       "    .dataframe tbody tr th {\n",
       "        vertical-align: top;\n",
       "    }\n",
       "\n",
       "    .dataframe thead th {\n",
       "        text-align: right;\n",
       "    }\n",
       "</style>\n",
       "<table border=\"1\" class=\"dataframe\">\n",
       "  <thead>\n",
       "    <tr style=\"text-align: right;\">\n",
       "      <th></th>\n",
       "      <th>0</th>\n",
       "      <th>1</th>\n",
       "      <th>2</th>\n",
       "      <th>3</th>\n",
       "      <th>4</th>\n",
       "      <th>5</th>\n",
       "      <th>6</th>\n",
       "      <th>7</th>\n",
       "      <th>8</th>\n",
       "      <th>9</th>\n",
       "      <th>...</th>\n",
       "      <th>246</th>\n",
       "      <th>247</th>\n",
       "      <th>248</th>\n",
       "      <th>249</th>\n",
       "      <th>250</th>\n",
       "      <th>251</th>\n",
       "      <th>252</th>\n",
       "      <th>253</th>\n",
       "      <th>254</th>\n",
       "      <th>255</th>\n",
       "    </tr>\n",
       "  </thead>\n",
       "  <tbody>\n",
       "    <tr>\n",
       "      <th>0</th>\n",
       "      <td>-6.227718</td>\n",
       "      <td>-2.070960</td>\n",
       "      <td>0.674094</td>\n",
       "      <td>-0.742135</td>\n",
       "      <td>0.309149</td>\n",
       "      <td>-4.006772</td>\n",
       "      <td>-0.664624</td>\n",
       "      <td>0.533987</td>\n",
       "      <td>0.024594</td>\n",
       "      <td>-0.195856</td>\n",
       "      <td>...</td>\n",
       "      <td>-2.114192</td>\n",
       "      <td>-0.605770</td>\n",
       "      <td>0.491399</td>\n",
       "      <td>-0.166693</td>\n",
       "      <td>1.289197</td>\n",
       "      <td>-0.403863</td>\n",
       "      <td>0.238731</td>\n",
       "      <td>2.166737</td>\n",
       "      <td>-0.106487</td>\n",
       "      <td>1.486114</td>\n",
       "    </tr>\n",
       "    <tr>\n",
       "      <th>1</th>\n",
       "      <td>-6.081077</td>\n",
       "      <td>-1.960213</td>\n",
       "      <td>0.846482</td>\n",
       "      <td>-0.932816</td>\n",
       "      <td>-0.050208</td>\n",
       "      <td>-4.082826</td>\n",
       "      <td>-0.449032</td>\n",
       "      <td>0.647842</td>\n",
       "      <td>0.417809</td>\n",
       "      <td>0.073842</td>\n",
       "      <td>...</td>\n",
       "      <td>-1.000466</td>\n",
       "      <td>-1.175968</td>\n",
       "      <td>0.299093</td>\n",
       "      <td>-1.187048</td>\n",
       "      <td>-0.499101</td>\n",
       "      <td>0.738016</td>\n",
       "      <td>0.632842</td>\n",
       "      <td>0.850430</td>\n",
       "      <td>-2.211427</td>\n",
       "      <td>1.083040</td>\n",
       "    </tr>\n",
       "    <tr>\n",
       "      <th>2</th>\n",
       "      <td>-6.394956</td>\n",
       "      <td>-2.954897</td>\n",
       "      <td>1.600033</td>\n",
       "      <td>-0.479463</td>\n",
       "      <td>-1.217065</td>\n",
       "      <td>-3.986472</td>\n",
       "      <td>-0.812934</td>\n",
       "      <td>0.472509</td>\n",
       "      <td>1.536917</td>\n",
       "      <td>1.989765</td>\n",
       "      <td>...</td>\n",
       "      <td>-1.703212</td>\n",
       "      <td>0.713673</td>\n",
       "      <td>0.330699</td>\n",
       "      <td>0.036953</td>\n",
       "      <td>-0.204944</td>\n",
       "      <td>0.930597</td>\n",
       "      <td>-0.693151</td>\n",
       "      <td>-0.572443</td>\n",
       "      <td>0.835598</td>\n",
       "      <td>-0.751483</td>\n",
       "    </tr>\n",
       "    <tr>\n",
       "      <th>3</th>\n",
       "      <td>-6.681355</td>\n",
       "      <td>-2.055031</td>\n",
       "      <td>1.144864</td>\n",
       "      <td>-0.517872</td>\n",
       "      <td>-0.168057</td>\n",
       "      <td>-3.929032</td>\n",
       "      <td>-0.718259</td>\n",
       "      <td>0.555827</td>\n",
       "      <td>0.096472</td>\n",
       "      <td>0.724261</td>\n",
       "      <td>...</td>\n",
       "      <td>0.434870</td>\n",
       "      <td>1.571784</td>\n",
       "      <td>-1.266089</td>\n",
       "      <td>1.584173</td>\n",
       "      <td>-0.290301</td>\n",
       "      <td>0.068907</td>\n",
       "      <td>-1.148258</td>\n",
       "      <td>1.904273</td>\n",
       "      <td>0.322937</td>\n",
       "      <td>-0.318100</td>\n",
       "    </tr>\n",
       "    <tr>\n",
       "      <th>4</th>\n",
       "      <td>-5.716713</td>\n",
       "      <td>-2.163729</td>\n",
       "      <td>0.877930</td>\n",
       "      <td>-0.605268</td>\n",
       "      <td>0.082372</td>\n",
       "      <td>-4.261466</td>\n",
       "      <td>-0.679734</td>\n",
       "      <td>0.739369</td>\n",
       "      <td>0.490033</td>\n",
       "      <td>0.546437</td>\n",
       "      <td>...</td>\n",
       "      <td>0.626112</td>\n",
       "      <td>-0.435030</td>\n",
       "      <td>2.112485</td>\n",
       "      <td>1.101894</td>\n",
       "      <td>1.746205</td>\n",
       "      <td>-0.445612</td>\n",
       "      <td>-1.518138</td>\n",
       "      <td>0.299177</td>\n",
       "      <td>-0.020655</td>\n",
       "      <td>0.234824</td>\n",
       "    </tr>\n",
       "    <tr>\n",
       "      <th>...</th>\n",
       "      <td>...</td>\n",
       "      <td>...</td>\n",
       "      <td>...</td>\n",
       "      <td>...</td>\n",
       "      <td>...</td>\n",
       "      <td>...</td>\n",
       "      <td>...</td>\n",
       "      <td>...</td>\n",
       "      <td>...</td>\n",
       "      <td>...</td>\n",
       "      <td>...</td>\n",
       "      <td>...</td>\n",
       "      <td>...</td>\n",
       "      <td>...</td>\n",
       "      <td>...</td>\n",
       "      <td>...</td>\n",
       "      <td>...</td>\n",
       "      <td>...</td>\n",
       "      <td>...</td>\n",
       "      <td>...</td>\n",
       "      <td>...</td>\n",
       "    </tr>\n",
       "    <tr>\n",
       "      <th>27666</th>\n",
       "      <td>-6.047007</td>\n",
       "      <td>-2.072704</td>\n",
       "      <td>0.668214</td>\n",
       "      <td>-0.254932</td>\n",
       "      <td>0.099894</td>\n",
       "      <td>-1.477478</td>\n",
       "      <td>-0.703836</td>\n",
       "      <td>-0.327026</td>\n",
       "      <td>0.504125</td>\n",
       "      <td>0.222820</td>\n",
       "      <td>...</td>\n",
       "      <td>-1.449840</td>\n",
       "      <td>-0.050902</td>\n",
       "      <td>-1.240334</td>\n",
       "      <td>-0.750522</td>\n",
       "      <td>-1.168852</td>\n",
       "      <td>0.048051</td>\n",
       "      <td>0.432534</td>\n",
       "      <td>-0.003478</td>\n",
       "      <td>-0.609472</td>\n",
       "      <td>-0.348196</td>\n",
       "    </tr>\n",
       "    <tr>\n",
       "      <th>27667</th>\n",
       "      <td>-6.569392</td>\n",
       "      <td>-1.932956</td>\n",
       "      <td>0.602381</td>\n",
       "      <td>0.253941</td>\n",
       "      <td>-0.341952</td>\n",
       "      <td>4.064471</td>\n",
       "      <td>-1.502157</td>\n",
       "      <td>-2.467482</td>\n",
       "      <td>0.281797</td>\n",
       "      <td>0.812378</td>\n",
       "      <td>...</td>\n",
       "      <td>0.721433</td>\n",
       "      <td>1.197452</td>\n",
       "      <td>-0.700384</td>\n",
       "      <td>-3.483315</td>\n",
       "      <td>-0.371596</td>\n",
       "      <td>0.478422</td>\n",
       "      <td>-1.537939</td>\n",
       "      <td>2.030344</td>\n",
       "      <td>-1.080110</td>\n",
       "      <td>-0.409972</td>\n",
       "    </tr>\n",
       "    <tr>\n",
       "      <th>27668</th>\n",
       "      <td>-6.232087</td>\n",
       "      <td>-1.834862</td>\n",
       "      <td>2.097659</td>\n",
       "      <td>-0.566552</td>\n",
       "      <td>-0.288520</td>\n",
       "      <td>-4.034954</td>\n",
       "      <td>0.457435</td>\n",
       "      <td>0.315611</td>\n",
       "      <td>0.981373</td>\n",
       "      <td>0.483152</td>\n",
       "      <td>...</td>\n",
       "      <td>0.662459</td>\n",
       "      <td>-1.293272</td>\n",
       "      <td>0.067110</td>\n",
       "      <td>0.357502</td>\n",
       "      <td>-0.155424</td>\n",
       "      <td>-0.658622</td>\n",
       "      <td>2.016063</td>\n",
       "      <td>-0.359339</td>\n",
       "      <td>0.993638</td>\n",
       "      <td>0.130081</td>\n",
       "    </tr>\n",
       "    <tr>\n",
       "      <th>27669</th>\n",
       "      <td>-6.387326</td>\n",
       "      <td>-0.387639</td>\n",
       "      <td>-1.090173</td>\n",
       "      <td>1.499431</td>\n",
       "      <td>0.629389</td>\n",
       "      <td>31.163396</td>\n",
       "      <td>-3.186039</td>\n",
       "      <td>-12.114586</td>\n",
       "      <td>-0.543894</td>\n",
       "      <td>-1.469931</td>\n",
       "      <td>...</td>\n",
       "      <td>-0.838120</td>\n",
       "      <td>0.584897</td>\n",
       "      <td>-1.355164</td>\n",
       "      <td>-1.358166</td>\n",
       "      <td>1.344522</td>\n",
       "      <td>-0.526878</td>\n",
       "      <td>-0.230260</td>\n",
       "      <td>-0.459776</td>\n",
       "      <td>2.507944</td>\n",
       "      <td>-1.379322</td>\n",
       "    </tr>\n",
       "    <tr>\n",
       "      <th>27670</th>\n",
       "      <td>-6.317132</td>\n",
       "      <td>-2.159943</td>\n",
       "      <td>1.085279</td>\n",
       "      <td>-0.551308</td>\n",
       "      <td>-0.256207</td>\n",
       "      <td>-4.151564</td>\n",
       "      <td>-0.860211</td>\n",
       "      <td>0.470046</td>\n",
       "      <td>0.246312</td>\n",
       "      <td>0.981830</td>\n",
       "      <td>...</td>\n",
       "      <td>0.169673</td>\n",
       "      <td>0.152567</td>\n",
       "      <td>0.655538</td>\n",
       "      <td>0.094223</td>\n",
       "      <td>-0.643895</td>\n",
       "      <td>-0.257323</td>\n",
       "      <td>0.054573</td>\n",
       "      <td>-0.807560</td>\n",
       "      <td>0.247731</td>\n",
       "      <td>2.318635</td>\n",
       "    </tr>\n",
       "  </tbody>\n",
       "</table>\n",
       "<p>27671 rows × 256 columns</p>\n",
       "</div>"
      ],
      "text/plain": [
       "              0         1         2         3         4          5         6  \\\n",
       "0     -6.227718 -2.070960  0.674094 -0.742135  0.309149  -4.006772 -0.664624   \n",
       "1     -6.081077 -1.960213  0.846482 -0.932816 -0.050208  -4.082826 -0.449032   \n",
       "2     -6.394956 -2.954897  1.600033 -0.479463 -1.217065  -3.986472 -0.812934   \n",
       "3     -6.681355 -2.055031  1.144864 -0.517872 -0.168057  -3.929032 -0.718259   \n",
       "4     -5.716713 -2.163729  0.877930 -0.605268  0.082372  -4.261466 -0.679734   \n",
       "...         ...       ...       ...       ...       ...        ...       ...   \n",
       "27666 -6.047007 -2.072704  0.668214 -0.254932  0.099894  -1.477478 -0.703836   \n",
       "27667 -6.569392 -1.932956  0.602381  0.253941 -0.341952   4.064471 -1.502157   \n",
       "27668 -6.232087 -1.834862  2.097659 -0.566552 -0.288520  -4.034954  0.457435   \n",
       "27669 -6.387326 -0.387639 -1.090173  1.499431  0.629389  31.163396 -3.186039   \n",
       "27670 -6.317132 -2.159943  1.085279 -0.551308 -0.256207  -4.151564 -0.860211   \n",
       "\n",
       "               7         8         9  ...       246       247       248  \\\n",
       "0       0.533987  0.024594 -0.195856  ... -2.114192 -0.605770  0.491399   \n",
       "1       0.647842  0.417809  0.073842  ... -1.000466 -1.175968  0.299093   \n",
       "2       0.472509  1.536917  1.989765  ... -1.703212  0.713673  0.330699   \n",
       "3       0.555827  0.096472  0.724261  ...  0.434870  1.571784 -1.266089   \n",
       "4       0.739369  0.490033  0.546437  ...  0.626112 -0.435030  2.112485   \n",
       "...          ...       ...       ...  ...       ...       ...       ...   \n",
       "27666  -0.327026  0.504125  0.222820  ... -1.449840 -0.050902 -1.240334   \n",
       "27667  -2.467482  0.281797  0.812378  ...  0.721433  1.197452 -0.700384   \n",
       "27668   0.315611  0.981373  0.483152  ...  0.662459 -1.293272  0.067110   \n",
       "27669 -12.114586 -0.543894 -1.469931  ... -0.838120  0.584897 -1.355164   \n",
       "27670   0.470046  0.246312  0.981830  ...  0.169673  0.152567  0.655538   \n",
       "\n",
       "            249       250       251       252       253       254       255  \n",
       "0     -0.166693  1.289197 -0.403863  0.238731  2.166737 -0.106487  1.486114  \n",
       "1     -1.187048 -0.499101  0.738016  0.632842  0.850430 -2.211427  1.083040  \n",
       "2      0.036953 -0.204944  0.930597 -0.693151 -0.572443  0.835598 -0.751483  \n",
       "3      1.584173 -0.290301  0.068907 -1.148258  1.904273  0.322937 -0.318100  \n",
       "4      1.101894  1.746205 -0.445612 -1.518138  0.299177 -0.020655  0.234824  \n",
       "...         ...       ...       ...       ...       ...       ...       ...  \n",
       "27666 -0.750522 -1.168852  0.048051  0.432534 -0.003478 -0.609472 -0.348196  \n",
       "27667 -3.483315 -0.371596  0.478422 -1.537939  2.030344 -1.080110 -0.409972  \n",
       "27668  0.357502 -0.155424 -0.658622  2.016063 -0.359339  0.993638  0.130081  \n",
       "27669 -1.358166  1.344522 -0.526878 -0.230260 -0.459776  2.507944 -1.379322  \n",
       "27670  0.094223 -0.643895 -0.257323  0.054573 -0.807560  0.247731  2.318635  \n",
       "\n",
       "[27671 rows x 256 columns]"
      ]
     },
     "execution_count": 2,
     "metadata": {},
     "output_type": "execute_result"
    }
   ],
   "source": [
    "train_x = pd.read_csv('/kaggle/input/2022-ai-w6p1/pca_train.csv')\n",
    "train_y = pd.read_csv('/kaggle/input/2022-ai-w6p1/train_label.csv')\n",
    "sample = pd.read_csv('/kaggle/input/2022-ai-w6p1/sample_submission.csv')\n",
    "test_x = pd.read_csv('/kaggle/input/2022-ai-w6p1/pca_test.csv')\n",
    "\n",
    "train_x"
   ]
  },
  {
   "cell_type": "code",
   "execution_count": 3,
   "id": "0fb5dc04",
   "metadata": {
    "execution": {
     "iopub.execute_input": "2022-10-08T12:11:11.721844Z",
     "iopub.status.busy": "2022-10-08T12:11:11.721460Z",
     "iopub.status.idle": "2022-10-08T12:11:11.734830Z",
     "shell.execute_reply": "2022-10-08T12:11:11.733631Z"
    },
    "papermill": {
     "duration": 0.022225,
     "end_time": "2022-10-08T12:11:11.737268",
     "exception": false,
     "start_time": "2022-10-08T12:11:11.715043",
     "status": "completed"
    },
    "tags": []
   },
   "outputs": [
    {
     "data": {
      "text/plain": [
       "0        136\n",
       "1         90\n",
       "2        112\n",
       "3        165\n",
       "4         73\n",
       "        ... \n",
       "27666      9\n",
       "27667    132\n",
       "27668     18\n",
       "27669     41\n",
       "27670    114\n",
       "Name: label, Length: 27671, dtype: int64"
      ]
     },
     "execution_count": 3,
     "metadata": {},
     "output_type": "execute_result"
    }
   ],
   "source": [
    "train_y = train_y['label']\n",
    "train_y"
   ]
  },
  {
   "cell_type": "code",
   "execution_count": 4,
   "id": "ccc9685e",
   "metadata": {
    "execution": {
     "iopub.execute_input": "2022-10-08T12:11:11.749949Z",
     "iopub.status.busy": "2022-10-08T12:11:11.749094Z",
     "iopub.status.idle": "2022-10-08T12:11:13.519447Z",
     "shell.execute_reply": "2022-10-08T12:11:13.518138Z"
    },
    "papermill": {
     "duration": 1.780214,
     "end_time": "2022-10-08T12:11:13.522824",
     "exception": false,
     "start_time": "2022-10-08T12:11:11.742610",
     "status": "completed"
    },
    "tags": []
   },
   "outputs": [
    {
     "data": {
      "text/plain": [
       "tensor([[-6.2277, -2.0710,  0.6741,  ...,  2.1667, -0.1065,  1.4861],\n",
       "        [-6.0811, -1.9602,  0.8465,  ...,  0.8504, -2.2114,  1.0830],\n",
       "        [-6.3950, -2.9549,  1.6000,  ..., -0.5724,  0.8356, -0.7515],\n",
       "        ...,\n",
       "        [-6.2321, -1.8349,  2.0977,  ..., -0.3593,  0.9936,  0.1301],\n",
       "        [-6.3873, -0.3876, -1.0902,  ..., -0.4598,  2.5079, -1.3793],\n",
       "        [-6.3171, -2.1599,  1.0853,  ..., -0.8076,  0.2477,  2.3186]])"
      ]
     },
     "execution_count": 4,
     "metadata": {},
     "output_type": "execute_result"
    }
   ],
   "source": [
    "import torch\n",
    "import torch.optim as optim\n",
    "\n",
    "torch.manual_seed(777)\n",
    "x_train = torch.FloatTensor(train_x.values)\n",
    "x_test = torch.FloatTensor(test_x.values)\n",
    "y_train = torch.LongTensor(train_y.values)\n",
    "# y_train = y_train.view([-1, 1])\n",
    "\n",
    "\n",
    "x_train\n",
    "\n"
   ]
  },
  {
   "cell_type": "code",
   "execution_count": 5,
   "id": "d6bc5864",
   "metadata": {
    "execution": {
     "iopub.execute_input": "2022-10-08T12:11:13.536937Z",
     "iopub.status.busy": "2022-10-08T12:11:13.536333Z",
     "iopub.status.idle": "2022-10-08T12:11:13.541996Z",
     "shell.execute_reply": "2022-10-08T12:11:13.540856Z"
    },
    "papermill": {
     "duration": 0.014995,
     "end_time": "2022-10-08T12:11:13.544308",
     "exception": false,
     "start_time": "2022-10-08T12:11:13.529313",
     "status": "completed"
    },
    "tags": []
   },
   "outputs": [],
   "source": [
    "# # 모델 정의\n",
    "# # Layer 정의\n",
    "# linear = torch.nn.Linear(256,1,bias=True) # Fully Connected Layer\n",
    "# sigmoid = torch.nn.Sigmoid()"
   ]
  },
  {
   "cell_type": "code",
   "execution_count": 6,
   "id": "cc1d6fbc",
   "metadata": {
    "execution": {
     "iopub.execute_input": "2022-10-08T12:11:13.557236Z",
     "iopub.status.busy": "2022-10-08T12:11:13.556827Z",
     "iopub.status.idle": "2022-10-08T12:11:13.564414Z",
     "shell.execute_reply": "2022-10-08T12:11:13.563596Z"
    },
    "papermill": {
     "duration": 0.016393,
     "end_time": "2022-10-08T12:11:13.566496",
     "exception": false,
     "start_time": "2022-10-08T12:11:13.550103",
     "status": "completed"
    },
    "tags": []
   },
   "outputs": [
    {
     "data": {
      "text/plain": [
       "tensor([136,  90, 112,  ...,  18,  41, 114])"
      ]
     },
     "execution_count": 6,
     "metadata": {},
     "output_type": "execute_result"
    }
   ],
   "source": [
    "y_train"
   ]
  },
  {
   "cell_type": "code",
   "execution_count": 7,
   "id": "80918525",
   "metadata": {
    "execution": {
     "iopub.execute_input": "2022-10-08T12:11:13.579233Z",
     "iopub.status.busy": "2022-10-08T12:11:13.578832Z",
     "iopub.status.idle": "2022-10-08T12:11:13.610562Z",
     "shell.execute_reply": "2022-10-08T12:11:13.609722Z"
    },
    "papermill": {
     "duration": 0.041368,
     "end_time": "2022-10-08T12:11:13.613479",
     "exception": false,
     "start_time": "2022-10-08T12:11:13.572111",
     "status": "completed"
    },
    "tags": []
   },
   "outputs": [
    {
     "name": "stdout",
     "output_type": "stream",
     "text": [
      "tensor([[0., 0., 0.,  ..., 0., 0., 0.],\n",
      "        [0., 0., 0.,  ..., 0., 0., 0.],\n",
      "        [0., 0., 0.,  ..., 0., 0., 0.],\n",
      "        ...,\n",
      "        [0., 0., 0.,  ..., 0., 0., 0.],\n",
      "        [0., 0., 0.,  ..., 0., 0., 0.],\n",
      "        [0., 0., 0.,  ..., 0., 0., 0.]])\n"
     ]
    }
   ],
   "source": [
    "nb_class = 198\n",
    "nb_data = len(y_train)\n",
    "\n",
    "y_one_hot = torch.zeros(nb_data, nb_class)\n",
    "y_one_hot.scatter_(1, y_train.unsqueeze(1), 1)\n",
    "\n",
    "print(y_one_hot)"
   ]
  },
  {
   "cell_type": "code",
   "execution_count": 8,
   "id": "6566e962",
   "metadata": {
    "execution": {
     "iopub.execute_input": "2022-10-08T12:11:13.626370Z",
     "iopub.status.busy": "2022-10-08T12:11:13.625966Z",
     "iopub.status.idle": "2022-10-08T12:11:13.635491Z",
     "shell.execute_reply": "2022-10-08T12:11:13.634364Z"
    },
    "papermill": {
     "duration": 0.018678,
     "end_time": "2022-10-08T12:11:13.637914",
     "exception": false,
     "start_time": "2022-10-08T12:11:13.619236",
     "status": "completed"
    },
    "tags": []
   },
   "outputs": [
    {
     "data": {
      "text/plain": [
       "198"
      ]
     },
     "execution_count": 8,
     "metadata": {},
     "output_type": "execute_result"
    }
   ],
   "source": [
    "c = set(train_y)\n",
    "len(c)"
   ]
  },
  {
   "cell_type": "code",
   "execution_count": 9,
   "id": "6434816f",
   "metadata": {
    "execution": {
     "iopub.execute_input": "2022-10-08T12:11:13.651196Z",
     "iopub.status.busy": "2022-10-08T12:11:13.650575Z",
     "iopub.status.idle": "2022-10-08T12:11:13.665960Z",
     "shell.execute_reply": "2022-10-08T12:11:13.665173Z"
    },
    "papermill": {
     "duration": 0.024744,
     "end_time": "2022-10-08T12:11:13.668315",
     "exception": false,
     "start_time": "2022-10-08T12:11:13.643571",
     "status": "completed"
    },
    "tags": []
   },
   "outputs": [],
   "source": [
    "## 모델 설계\n",
    "layer1 = torch.nn.Linear(256,256,bias=True)\n",
    "layer2 = torch.nn.Linear(256,256,bias=True)\n",
    "layer3 = torch.nn.Linear(256,256,bias=True)\n",
    "layer4 = torch.nn.Linear(256,256,bias=True)\n",
    "layer5 = torch.nn.Linear(256,256,bias=True)\n",
    "layer6 = torch.nn.Linear(256,198,bias=True)\n",
    "layer7 = torch.nn.Linear(256,198,bias=True)\n",
    "\n",
    "sigmoid = torch.nn.Sigmoid()\n",
    "\n",
    "model = torch.nn.Sequential(layer6,sigmoid)"
   ]
  },
  {
   "cell_type": "code",
   "execution_count": 10,
   "id": "385977b2",
   "metadata": {
    "execution": {
     "iopub.execute_input": "2022-10-08T12:11:13.681638Z",
     "iopub.status.busy": "2022-10-08T12:11:13.681010Z",
     "iopub.status.idle": "2022-10-08T12:11:13.686440Z",
     "shell.execute_reply": "2022-10-08T12:11:13.685638Z"
    },
    "papermill": {
     "duration": 0.014587,
     "end_time": "2022-10-08T12:11:13.688596",
     "exception": false,
     "start_time": "2022-10-08T12:11:13.674009",
     "status": "completed"
    },
    "tags": []
   },
   "outputs": [],
   "source": [
    "# 모델 학습 환경 설정\n",
    "# Binary Cross Entropy Loss\n",
    "loss = torch.nn.BCELoss()\n",
    "optimizer = torch.optim.SGD(model.parameters(),lr=1)"
   ]
  },
  {
   "cell_type": "code",
   "execution_count": 11,
   "id": "f24dae5b",
   "metadata": {
    "execution": {
     "iopub.execute_input": "2022-10-08T12:11:13.702697Z",
     "iopub.status.busy": "2022-10-08T12:11:13.702026Z",
     "iopub.status.idle": "2022-10-08T12:32:42.840261Z",
     "shell.execute_reply": "2022-10-08T12:32:42.838928Z"
    },
    "papermill": {
     "duration": 1289.149384,
     "end_time": "2022-10-08T12:32:42.843642",
     "exception": false,
     "start_time": "2022-10-08T12:11:13.694258",
     "status": "completed"
    },
    "tags": []
   },
   "outputs": [
    {
     "name": "stdout",
     "output_type": "stream",
     "text": [
      "0 0.9479326605796814\n",
      "100 0.6660077571868896\n",
      "200 0.5637044906616211\n",
      "300 0.4877912998199463\n",
      "400 0.42982789874076843\n",
      "500 0.3844655156135559\n",
      "600 0.3481377065181732\n",
      "700 0.31876087188720703\n",
      "800 0.294488787651062\n",
      "900 0.27429863810539246\n",
      "1000 0.2571975886821747\n",
      "1100 0.24263326823711395\n",
      "1200 0.23005825281143188\n",
      "1300 0.21908500790596008\n",
      "1400 0.20951831340789795\n",
      "1500 0.2009759545326233\n",
      "1600 0.19344930350780487\n",
      "1700 0.1867380142211914\n",
      "1800 0.18070809543132782\n",
      "1900 0.17526328563690186\n",
      "2000 0.1703251451253891\n",
      "2100 0.16582785546779633\n",
      "2200 0.1617165207862854\n",
      "2300 0.1579294055700302\n",
      "2400 0.154458150267601\n",
      "2500 0.15120182931423187\n",
      "2600 0.14821800589561462\n",
      "2700 0.1454489529132843\n",
      "2800 0.14288662374019623\n",
      "2900 0.14048129320144653\n",
      "3000 0.13816654682159424\n",
      "3100 0.13597536087036133\n",
      "3200 0.13365642726421356\n",
      "3300 0.13180439174175262\n",
      "3400 0.13006223738193512\n",
      "3500 0.12841914594173431\n",
      "3600 0.1268671303987503\n",
      "3700 0.12539903819561005\n",
      "3800 0.12400835007429123\n",
      "3900 0.12268918752670288\n",
      "4000 0.121436208486557\n",
      "4100 0.12024461477994919\n",
      "4200 0.11911007761955261\n",
      "4300 0.11802863329648972\n",
      "4400 0.11699666827917099\n",
      "4500 0.11601095646619797\n",
      "4600 0.1150684729218483\n",
      "4700 0.11416646838188171\n",
      "4800 0.11330246925354004\n",
      "4900 0.11247409880161285\n",
      "5000 0.11167929321527481\n",
      "5100 0.11091604083776474\n",
      "5200 0.11018253862857819\n",
      "5300 0.10947712510824203\n",
      "5400 0.10879822075366974\n",
      "5500 0.10812903195619583\n",
      "5600 0.10749892145395279\n",
      "5700 0.10689116269350052\n",
      "5800 0.10630474984645844\n",
      "5900 0.1057385504245758\n",
      "6000 0.10519159585237503\n",
      "6100 0.10466291755437851\n",
      "6200 0.10415160655975342\n",
      "6300 0.1036248579621315\n",
      "6400 0.1031445562839508\n",
      "6500 0.1026802733540535\n",
      "6600 0.10223036259412766\n",
      "6700 0.10179414600133896\n",
      "6800 0.10137102007865906\n",
      "6900 0.10096041113138199\n",
      "7000 0.10054641216993332\n",
      "7100 0.10015895217657089\n",
      "7200 0.09978249669075012\n",
      "7300 0.0994013249874115\n",
      "7400 0.09904538840055466\n",
      "7500 0.0986991822719574\n",
      "7600 0.09836228936910629\n",
      "7700 0.09803438931703568\n",
      "7800 0.09769948571920395\n",
      "7900 0.09738798439502716\n",
      "8000 0.09708455950021744\n",
      "8100 0.0967889204621315\n",
      "8200 0.09650076925754547\n",
      "8300 0.09621979296207428\n",
      "8400 0.09594570100307465\n",
      "8500 0.09567828476428986\n",
      "8600 0.09541727602481842\n",
      "8700 0.09516245871782303\n",
      "8800 0.09491356462240219\n",
      "8900 0.09467040002346039\n",
      "9000 0.0944327712059021\n",
      "9100 0.0942004919052124\n",
      "9200 0.09397337585687637\n",
      "9300 0.09375126659870148\n",
      "9400 0.09353398531675339\n",
      "9500 0.09332139045000076\n",
      "9600 0.09311334043741226\n",
      "9700 0.09290966391563416\n",
      "9800 0.09271024912595749\n",
      "9900 0.09251495450735092\n"
     ]
    }
   ],
   "source": [
    "# for stop in range(10000):\n",
    "    \n",
    "#     # 그래디언트 초기화\n",
    "#     optimizer.zero_grad()\n",
    "#     # Forward 계산\n",
    "#     hypothesis = model(x_train)\n",
    "    \n",
    "#     # Error 계산\n",
    "#     cost = loss(hypothesis, y_train)\n",
    "#     # Backward 계산 \n",
    "#     cost.backward()\n",
    "#     # 가중치 갱신\n",
    "#     optimizer.step()\n",
    "\n",
    "#     if stop % 100 == 0:\n",
    "#         print(stop, cost.item())\n",
    "        \n",
    "        \n",
    "for stop in range(10000):\n",
    "    \n",
    "    # 그래디언트 초기화\n",
    "    optimizer.zero_grad()\n",
    "    # Forward 계산\n",
    "    hypothesis = model(x_train)\n",
    "    # Error 계산\n",
    "    cost = loss(hypothesis, y_one_hot)\n",
    "#     print(hypothesis)\n",
    "    # Backward 계산 \n",
    "    cost.backward()\n",
    "    # 가중치 갱신\n",
    "    optimizer.step()\n",
    "\n",
    "    if stop % 100 == 0:\n",
    "        print(stop, cost.item())\n",
    "\n"
   ]
  },
  {
   "cell_type": "code",
   "execution_count": 12,
   "id": "d46cd416",
   "metadata": {
    "execution": {
     "iopub.execute_input": "2022-10-08T12:32:42.870071Z",
     "iopub.status.busy": "2022-10-08T12:32:42.869586Z",
     "iopub.status.idle": "2022-10-08T12:32:42.935441Z",
     "shell.execute_reply": "2022-10-08T12:32:42.934253Z"
    },
    "papermill": {
     "duration": 0.082245,
     "end_time": "2022-10-08T12:32:42.938408",
     "exception": false,
     "start_time": "2022-10-08T12:32:42.856163",
     "status": "completed"
    },
    "tags": []
   },
   "outputs": [
    {
     "name": "stdout",
     "output_type": "stream",
     "text": [
      "tensor([[0.0204, 0.0198, 0.0090,  ..., 0.0211, 0.0227, 0.0117],\n",
      "        [0.0227, 0.0203, 0.0183,  ..., 0.0227, 0.0210, 0.0172],\n",
      "        [0.0272, 0.0221, 0.0152,  ..., 0.0214, 0.0203, 0.0118],\n",
      "        ...,\n",
      "        [0.0198, 0.0206, 0.0190,  ..., 0.0187, 0.0189, 0.0163],\n",
      "        [0.0192, 0.0229, 0.0349,  ..., 0.0290, 0.0319, 0.0250],\n",
      "        [0.0206, 0.0199, 0.0121,  ..., 0.0206, 0.0186, 0.0126]],\n",
      "       grad_fn=<SigmoidBackward0>)\n",
      "tensor([126,  83, 112,  ...,  18,  41, 114])\n",
      "0.622059166431427\n"
     ]
    }
   ],
   "source": [
    "hypothesis = model(x_train)\n",
    "predict = torch.argmax(hypothesis, dim=1)\n",
    "print(hypothesis)\n",
    "print(predict)\n",
    "\n",
    "accuracy = (predict == y_train).float().mean()\n",
    "print(accuracy.item())"
   ]
  },
  {
   "cell_type": "code",
   "execution_count": 13,
   "id": "06af5bb4",
   "metadata": {
    "execution": {
     "iopub.execute_input": "2022-10-08T12:32:42.964803Z",
     "iopub.status.busy": "2022-10-08T12:32:42.964366Z",
     "iopub.status.idle": "2022-10-08T12:32:42.997908Z",
     "shell.execute_reply": "2022-10-08T12:32:42.996337Z"
    },
    "papermill": {
     "duration": 0.051193,
     "end_time": "2022-10-08T12:32:43.001757",
     "exception": false,
     "start_time": "2022-10-08T12:32:42.950564",
     "status": "completed"
    },
    "tags": []
   },
   "outputs": [
    {
     "name": "stdout",
     "output_type": "stream",
     "text": [
      "tensor([[0.0225, 0.0180, 0.0130,  ..., 0.0204, 0.0210, 0.0129],\n",
      "        [0.0247, 0.0205, 0.0114,  ..., 0.0209, 0.0202, 0.0125],\n",
      "        [0.0222, 0.0211, 0.0142,  ..., 0.0191, 0.0195, 0.0145],\n",
      "        ...,\n",
      "        [0.0206, 0.0241, 0.0121,  ..., 0.0197, 0.0193, 0.0091],\n",
      "        [0.0187, 0.0181, 0.0148,  ..., 0.0190, 0.0188, 0.0136],\n",
      "        [0.0186, 0.0199, 0.0129,  ..., 0.0191, 0.0195, 0.0119]],\n",
      "       grad_fn=<SigmoidBackward0>)\n",
      "tensor([113, 128,  68,  ...,  23,  68, 117])\n"
     ]
    }
   ],
   "source": [
    "hypothesis = model(x_test)\n",
    "predict = torch.argmax(hypothesis, dim=1)\n",
    "print(hypothesis)\n",
    "print(predict)"
   ]
  },
  {
   "cell_type": "code",
   "execution_count": 14,
   "id": "636b8899",
   "metadata": {
    "execution": {
     "iopub.execute_input": "2022-10-08T12:32:43.028203Z",
     "iopub.status.busy": "2022-10-08T12:32:43.027281Z",
     "iopub.status.idle": "2022-10-08T12:32:43.041561Z",
     "shell.execute_reply": "2022-10-08T12:32:43.040161Z"
    },
    "papermill": {
     "duration": 0.030339,
     "end_time": "2022-10-08T12:32:43.044117",
     "exception": false,
     "start_time": "2022-10-08T12:32:43.013778",
     "status": "completed"
    },
    "tags": []
   },
   "outputs": [
    {
     "data": {
      "text/html": [
       "<div>\n",
       "<style scoped>\n",
       "    .dataframe tbody tr th:only-of-type {\n",
       "        vertical-align: middle;\n",
       "    }\n",
       "\n",
       "    .dataframe tbody tr th {\n",
       "        vertical-align: top;\n",
       "    }\n",
       "\n",
       "    .dataframe thead th {\n",
       "        text-align: right;\n",
       "    }\n",
       "</style>\n",
       "<table border=\"1\" class=\"dataframe\">\n",
       "  <thead>\n",
       "    <tr style=\"text-align: right;\">\n",
       "      <th></th>\n",
       "      <th>id</th>\n",
       "      <th>label</th>\n",
       "    </tr>\n",
       "  </thead>\n",
       "  <tbody>\n",
       "    <tr>\n",
       "      <th>0</th>\n",
       "      <td>0</td>\n",
       "      <td>113</td>\n",
       "    </tr>\n",
       "    <tr>\n",
       "      <th>1</th>\n",
       "      <td>1</td>\n",
       "      <td>128</td>\n",
       "    </tr>\n",
       "    <tr>\n",
       "      <th>2</th>\n",
       "      <td>2</td>\n",
       "      <td>68</td>\n",
       "    </tr>\n",
       "    <tr>\n",
       "      <th>3</th>\n",
       "      <td>3</td>\n",
       "      <td>28</td>\n",
       "    </tr>\n",
       "    <tr>\n",
       "      <th>4</th>\n",
       "      <td>4</td>\n",
       "      <td>121</td>\n",
       "    </tr>\n",
       "    <tr>\n",
       "      <th>...</th>\n",
       "      <td>...</td>\n",
       "      <td>...</td>\n",
       "    </tr>\n",
       "    <tr>\n",
       "      <th>13624</th>\n",
       "      <td>13624</td>\n",
       "      <td>83</td>\n",
       "    </tr>\n",
       "    <tr>\n",
       "      <th>13625</th>\n",
       "      <td>13625</td>\n",
       "      <td>69</td>\n",
       "    </tr>\n",
       "    <tr>\n",
       "      <th>13626</th>\n",
       "      <td>13626</td>\n",
       "      <td>23</td>\n",
       "    </tr>\n",
       "    <tr>\n",
       "      <th>13627</th>\n",
       "      <td>13627</td>\n",
       "      <td>68</td>\n",
       "    </tr>\n",
       "    <tr>\n",
       "      <th>13628</th>\n",
       "      <td>13628</td>\n",
       "      <td>117</td>\n",
       "    </tr>\n",
       "  </tbody>\n",
       "</table>\n",
       "<p>13629 rows × 2 columns</p>\n",
       "</div>"
      ],
      "text/plain": [
       "          id  label\n",
       "0          0    113\n",
       "1          1    128\n",
       "2          2     68\n",
       "3          3     28\n",
       "4          4    121\n",
       "...      ...    ...\n",
       "13624  13624     83\n",
       "13625  13625     69\n",
       "13626  13626     23\n",
       "13627  13627     68\n",
       "13628  13628    117\n",
       "\n",
       "[13629 rows x 2 columns]"
      ]
     },
     "execution_count": 14,
     "metadata": {},
     "output_type": "execute_result"
    }
   ],
   "source": [
    "sample['label'] = predict.detach().numpy()\n",
    "\n",
    "sample"
   ]
  },
  {
   "cell_type": "code",
   "execution_count": 15,
   "id": "bcd8aed1",
   "metadata": {
    "execution": {
     "iopub.execute_input": "2022-10-08T12:32:43.070226Z",
     "iopub.status.busy": "2022-10-08T12:32:43.069750Z",
     "iopub.status.idle": "2022-10-08T12:32:43.093290Z",
     "shell.execute_reply": "2022-10-08T12:32:43.091959Z"
    },
    "papermill": {
     "duration": 0.039845,
     "end_time": "2022-10-08T12:32:43.096186",
     "exception": false,
     "start_time": "2022-10-08T12:32:43.056341",
     "status": "completed"
    },
    "tags": []
   },
   "outputs": [],
   "source": [
    "sample.to_csv('submit.csv', index = None)"
   ]
  },
  {
   "cell_type": "code",
   "execution_count": null,
   "id": "7e9ba8ae",
   "metadata": {
    "papermill": {
     "duration": 0.011704,
     "end_time": "2022-10-08T12:32:43.120615",
     "exception": false,
     "start_time": "2022-10-08T12:32:43.108911",
     "status": "completed"
    },
    "tags": []
   },
   "outputs": [],
   "source": []
  }
 ],
 "metadata": {
  "kernelspec": {
   "display_name": "Python 3",
   "language": "python",
   "name": "python3"
  },
  "language_info": {
   "codemirror_mode": {
    "name": "ipython",
    "version": 3
   },
   "file_extension": ".py",
   "mimetype": "text/x-python",
   "name": "python",
   "nbconvert_exporter": "python",
   "pygments_lexer": "ipython3",
   "version": "3.7.12"
  },
  "papermill": {
   "default_parameters": {},
   "duration": 1306.930386,
   "end_time": "2022-10-08T12:32:43.961275",
   "environment_variables": {},
   "exception": null,
   "input_path": "__notebook__.ipynb",
   "output_path": "__notebook__.ipynb",
   "parameters": {},
   "start_time": "2022-10-08T12:10:57.030889",
   "version": "2.3.4"
  }
 },
 "nbformat": 4,
 "nbformat_minor": 5
}
