{
 "cells": [
  {
   "cell_type": "code",
   "execution_count": 1,
   "id": "816275a7",
   "metadata": {
    "_cell_guid": "b1076dfc-b9ad-4769-8c92-a6c4dae69d19",
    "_uuid": "8f2839f25d086af736a60e9eeb907d3b93b6e0e5",
    "execution": {
     "iopub.execute_input": "2022-09-16T15:42:00.051272Z",
     "iopub.status.busy": "2022-09-16T15:42:00.050751Z",
     "iopub.status.idle": "2022-09-16T15:42:00.065859Z",
     "shell.execute_reply": "2022-09-16T15:42:00.064948Z"
    },
    "papermill": {
     "duration": 0.026362,
     "end_time": "2022-09-16T15:42:00.069148",
     "exception": false,
     "start_time": "2022-09-16T15:42:00.042786",
     "status": "completed"
    },
    "tags": []
   },
   "outputs": [
    {
     "name": "stdout",
     "output_type": "stream",
     "text": [
      "/kaggle/input/2022-ai-w3p1/train.csv\n",
      "/kaggle/input/2022-ai-w3p1/test.csv\n",
      "/kaggle/input/2022-ai-w3p1/submit_sample.csv\n"
     ]
    }
   ],
   "source": [
    "# This Python 3 environment comes with many helpful analytics libraries installed\n",
    "# It is defined by the kaggle/python Docker image: https://github.com/kaggle/docker-python\n",
    "# For example, here's several helpful packages to load\n",
    "\n",
    "import numpy as np # linear algebra\n",
    "import pandas as pd # data processing, CSV file I/O (e.g. pd.read_csv)\n",
    "\n",
    "# Input data files are available in the read-only \"../input/\" directory\n",
    "# For example, running this (by clicking run or pressing Shift+Enter) will list all files under the input directory\n",
    "\n",
    "import os\n",
    "for dirname, _, filenames in os.walk('/kaggle/input'):\n",
    "    for filename in filenames:\n",
    "        print(os.path.join(dirname, filename))\n",
    "\n",
    "# You can write up to 20GB to the current directory (/kaggle/working/) that gets preserved as output when you create a version using \"Save & Run All\" \n",
    "# You can also write temporary files to /kaggle/temp/, but they won't be saved outside of the current session"
   ]
  },
  {
   "cell_type": "code",
   "execution_count": 2,
   "id": "b706ea97",
   "metadata": {
    "execution": {
     "iopub.execute_input": "2022-09-16T15:42:00.083445Z",
     "iopub.status.busy": "2022-09-16T15:42:00.082992Z",
     "iopub.status.idle": "2022-09-16T15:42:00.118564Z",
     "shell.execute_reply": "2022-09-16T15:42:00.117025Z"
    },
    "papermill": {
     "duration": 0.046207,
     "end_time": "2022-09-16T15:42:00.122206",
     "exception": false,
     "start_time": "2022-09-16T15:42:00.075999",
     "status": "completed"
    },
    "tags": []
   },
   "outputs": [],
   "source": [
    "train_data = pd.read_csv('/kaggle/input/2022-ai-w3p1/train.csv')\n",
    "test_data = pd.read_csv('/kaggle/input/2022-ai-w3p1/test.csv')\n",
    "sample_data = pd.read_csv('/kaggle/input/2022-ai-w3p1/submit_sample.csv')"
   ]
  },
  {
   "cell_type": "code",
   "execution_count": 3,
   "id": "e39d2e94",
   "metadata": {
    "execution": {
     "iopub.execute_input": "2022-09-16T15:42:00.140054Z",
     "iopub.status.busy": "2022-09-16T15:42:00.139667Z",
     "iopub.status.idle": "2022-09-16T15:42:00.155938Z",
     "shell.execute_reply": "2022-09-16T15:42:00.155037Z"
    },
    "papermill": {
     "duration": 0.029318,
     "end_time": "2022-09-16T15:42:00.158973",
     "exception": false,
     "start_time": "2022-09-16T15:42:00.129655",
     "status": "completed"
    },
    "tags": []
   },
   "outputs": [
    {
     "data": {
      "text/plain": [
       "0       2123\n",
       "1       2123\n",
       "2       2123\n",
       "3       2020\n",
       "4       2060\n",
       "        ... \n",
       "2552    4226\n",
       "2553    4200\n",
       "2554    4224\n",
       "2555    4219\n",
       "2556    4219\n",
       "Name: avgPrice, Length: 2557, dtype: int64"
      ]
     },
     "execution_count": 3,
     "metadata": {},
     "output_type": "execute_result"
    }
   ],
   "source": [
    "train_y = train_data['avgPrice']\n",
    "train_y"
   ]
  },
  {
   "cell_type": "code",
   "execution_count": 4,
   "id": "ba051239",
   "metadata": {
    "execution": {
     "iopub.execute_input": "2022-09-16T15:42:00.175702Z",
     "iopub.status.busy": "2022-09-16T15:42:00.174731Z",
     "iopub.status.idle": "2022-09-16T15:42:00.201782Z",
     "shell.execute_reply": "2022-09-16T15:42:00.200638Z"
    },
    "papermill": {
     "duration": 0.037247,
     "end_time": "2022-09-16T15:42:00.204246",
     "exception": false,
     "start_time": "2022-09-16T15:42:00.166999",
     "status": "completed"
    },
    "tags": []
   },
   "outputs": [
    {
     "data": {
      "text/html": [
       "<div>\n",
       "<style scoped>\n",
       "    .dataframe tbody tr th:only-of-type {\n",
       "        vertical-align: middle;\n",
       "    }\n",
       "\n",
       "    .dataframe tbody tr th {\n",
       "        vertical-align: top;\n",
       "    }\n",
       "\n",
       "    .dataframe thead th {\n",
       "        text-align: right;\n",
       "    }\n",
       "</style>\n",
       "<table border=\"1\" class=\"dataframe\">\n",
       "  <thead>\n",
       "    <tr style=\"text-align: right;\">\n",
       "      <th></th>\n",
       "      <th>avgTemp</th>\n",
       "      <th>minTemp</th>\n",
       "      <th>maxTemp</th>\n",
       "      <th>rainFall</th>\n",
       "    </tr>\n",
       "  </thead>\n",
       "  <tbody>\n",
       "    <tr>\n",
       "      <th>0</th>\n",
       "      <td>-4.9</td>\n",
       "      <td>-11.0</td>\n",
       "      <td>0.9</td>\n",
       "      <td>0.0</td>\n",
       "    </tr>\n",
       "    <tr>\n",
       "      <th>1</th>\n",
       "      <td>-3.1</td>\n",
       "      <td>-5.5</td>\n",
       "      <td>5.5</td>\n",
       "      <td>0.8</td>\n",
       "    </tr>\n",
       "    <tr>\n",
       "      <th>2</th>\n",
       "      <td>-2.9</td>\n",
       "      <td>-6.9</td>\n",
       "      <td>1.4</td>\n",
       "      <td>0.0</td>\n",
       "    </tr>\n",
       "    <tr>\n",
       "      <th>3</th>\n",
       "      <td>-1.8</td>\n",
       "      <td>-5.1</td>\n",
       "      <td>2.2</td>\n",
       "      <td>5.9</td>\n",
       "    </tr>\n",
       "    <tr>\n",
       "      <th>4</th>\n",
       "      <td>-5.2</td>\n",
       "      <td>-8.7</td>\n",
       "      <td>-1.8</td>\n",
       "      <td>0.7</td>\n",
       "    </tr>\n",
       "    <tr>\n",
       "      <th>...</th>\n",
       "      <td>...</td>\n",
       "      <td>...</td>\n",
       "      <td>...</td>\n",
       "      <td>...</td>\n",
       "    </tr>\n",
       "    <tr>\n",
       "      <th>2552</th>\n",
       "      <td>1.2</td>\n",
       "      <td>-3.2</td>\n",
       "      <td>4.5</td>\n",
       "      <td>2.1</td>\n",
       "    </tr>\n",
       "    <tr>\n",
       "      <th>2553</th>\n",
       "      <td>-1.4</td>\n",
       "      <td>-6.5</td>\n",
       "      <td>4.8</td>\n",
       "      <td>0.0</td>\n",
       "    </tr>\n",
       "    <tr>\n",
       "      <th>2554</th>\n",
       "      <td>-1.3</td>\n",
       "      <td>-4.5</td>\n",
       "      <td>2.1</td>\n",
       "      <td>0.2</td>\n",
       "    </tr>\n",
       "    <tr>\n",
       "      <th>2555</th>\n",
       "      <td>-1.4</td>\n",
       "      <td>-7.0</td>\n",
       "      <td>4.6</td>\n",
       "      <td>0.0</td>\n",
       "    </tr>\n",
       "    <tr>\n",
       "      <th>2556</th>\n",
       "      <td>1.7</td>\n",
       "      <td>-2.9</td>\n",
       "      <td>7.1</td>\n",
       "      <td>0.0</td>\n",
       "    </tr>\n",
       "  </tbody>\n",
       "</table>\n",
       "<p>2557 rows × 4 columns</p>\n",
       "</div>"
      ],
      "text/plain": [
       "      avgTemp  minTemp  maxTemp  rainFall\n",
       "0        -4.9    -11.0      0.9       0.0\n",
       "1        -3.1     -5.5      5.5       0.8\n",
       "2        -2.9     -6.9      1.4       0.0\n",
       "3        -1.8     -5.1      2.2       5.9\n",
       "4        -5.2     -8.7     -1.8       0.7\n",
       "...       ...      ...      ...       ...\n",
       "2552      1.2     -3.2      4.5       2.1\n",
       "2553     -1.4     -6.5      4.8       0.0\n",
       "2554     -1.3     -4.5      2.1       0.2\n",
       "2555     -1.4     -7.0      4.6       0.0\n",
       "2556      1.7     -2.9      7.1       0.0\n",
       "\n",
       "[2557 rows x 4 columns]"
      ]
     },
     "execution_count": 4,
     "metadata": {},
     "output_type": "execute_result"
    }
   ],
   "source": [
    "train_x = train_data.drop(['avgPrice','year'], axis = 1)\n",
    "train_x"
   ]
  },
  {
   "cell_type": "code",
   "execution_count": 5,
   "id": "8779a7c8",
   "metadata": {
    "execution": {
     "iopub.execute_input": "2022-09-16T15:42:00.218394Z",
     "iopub.status.busy": "2022-09-16T15:42:00.217103Z",
     "iopub.status.idle": "2022-09-16T15:42:02.177434Z",
     "shell.execute_reply": "2022-09-16T15:42:02.176087Z"
    },
    "papermill": {
     "duration": 1.970602,
     "end_time": "2022-09-16T15:42:02.180502",
     "exception": false,
     "start_time": "2022-09-16T15:42:00.209900",
     "status": "completed"
    },
    "tags": []
   },
   "outputs": [],
   "source": [
    "import torch\n",
    "import torch.optim as optim"
   ]
  },
  {
   "cell_type": "code",
   "execution_count": 6,
   "id": "278bd68d",
   "metadata": {
    "execution": {
     "iopub.execute_input": "2022-09-16T15:42:02.193967Z",
     "iopub.status.busy": "2022-09-16T15:42:02.193302Z",
     "iopub.status.idle": "2022-09-16T15:42:02.203902Z",
     "shell.execute_reply": "2022-09-16T15:42:02.202556Z"
    },
    "papermill": {
     "duration": 0.020425,
     "end_time": "2022-09-16T15:42:02.206577",
     "exception": false,
     "start_time": "2022-09-16T15:42:02.186152",
     "status": "completed"
    },
    "tags": []
   },
   "outputs": [
    {
     "data": {
      "text/plain": [
       "<torch._C.Generator at 0x7efe7470e3d0>"
      ]
     },
     "execution_count": 6,
     "metadata": {},
     "output_type": "execute_result"
    }
   ],
   "source": [
    "torch.manual_seed(1)"
   ]
  },
  {
   "cell_type": "code",
   "execution_count": 7,
   "id": "ab1e71ad",
   "metadata": {
    "execution": {
     "iopub.execute_input": "2022-09-16T15:42:02.220080Z",
     "iopub.status.busy": "2022-09-16T15:42:02.219641Z",
     "iopub.status.idle": "2022-09-16T15:42:02.227640Z",
     "shell.execute_reply": "2022-09-16T15:42:02.226714Z"
    },
    "papermill": {
     "duration": 0.017519,
     "end_time": "2022-09-16T15:42:02.229810",
     "exception": false,
     "start_time": "2022-09-16T15:42:02.212291",
     "status": "completed"
    },
    "tags": []
   },
   "outputs": [
    {
     "data": {
      "text/plain": [
       "array([[ -4.9, -11. ,   0.9,   0. ],\n",
       "       [ -3.1,  -5.5,   5.5,   0.8],\n",
       "       [ -2.9,  -6.9,   1.4,   0. ],\n",
       "       ...,\n",
       "       [ -1.3,  -4.5,   2.1,   0.2],\n",
       "       [ -1.4,  -7. ,   4.6,   0. ],\n",
       "       [  1.7,  -2.9,   7.1,   0. ]])"
      ]
     },
     "execution_count": 7,
     "metadata": {},
     "output_type": "execute_result"
    }
   ],
   "source": [
    "train_x.values"
   ]
  },
  {
   "cell_type": "code",
   "execution_count": 8,
   "id": "e256ef4d",
   "metadata": {
    "execution": {
     "iopub.execute_input": "2022-09-16T15:42:02.243598Z",
     "iopub.status.busy": "2022-09-16T15:42:02.242654Z",
     "iopub.status.idle": "2022-09-16T15:42:02.248559Z",
     "shell.execute_reply": "2022-09-16T15:42:02.247426Z"
    },
    "papermill": {
     "duration": 0.015688,
     "end_time": "2022-09-16T15:42:02.251283",
     "exception": false,
     "start_time": "2022-09-16T15:42:02.235595",
     "status": "completed"
    },
    "tags": []
   },
   "outputs": [],
   "source": [
    "x_train = torch.FloatTensor(train_x.values)"
   ]
  },
  {
   "cell_type": "code",
   "execution_count": 9,
   "id": "acca39a9",
   "metadata": {
    "execution": {
     "iopub.execute_input": "2022-09-16T15:42:02.265485Z",
     "iopub.status.busy": "2022-09-16T15:42:02.264958Z",
     "iopub.status.idle": "2022-09-16T15:42:02.279709Z",
     "shell.execute_reply": "2022-09-16T15:42:02.278746Z"
    },
    "papermill": {
     "duration": 0.024809,
     "end_time": "2022-09-16T15:42:02.282060",
     "exception": false,
     "start_time": "2022-09-16T15:42:02.257251",
     "status": "completed"
    },
    "tags": []
   },
   "outputs": [
    {
     "data": {
      "text/plain": [
       "tensor([[ 4.0000, -1.4000,  9.5000,  0.1000],\n",
       "        [-1.7000, -5.4000,  1.4000,  3.3000],\n",
       "        [ 1.4000, -2.0000,  5.0000,  0.0000],\n",
       "        [ 3.6000, -2.5000, 11.1000,  0.1000],\n",
       "        [ 5.0000, -1.6000, 11.3000,  0.0000],\n",
       "        [ 7.3000,  0.7000, 13.6000,  0.7000],\n",
       "        [12.3000,  7.2000, 17.7000,  0.0000],\n",
       "        [19.8000, 11.9000, 27.7000,  0.0000],\n",
       "        [17.5000, 12.3000, 24.5000,  2.9000],\n",
       "        [20.6000, 11.8000, 28.3000,  0.0000],\n",
       "        [18.4000, 15.9000, 21.2000,  5.5000],\n",
       "        [24.7000, 18.6000, 31.5000,  0.0000],\n",
       "        [26.1000, 24.1000, 28.5000, 26.7000],\n",
       "        [26.0000, 22.2000, 30.2000, 11.3000],\n",
       "        [25.6000, 23.5000, 28.4000, 11.6000],\n",
       "        [23.2000, 17.9000, 29.6000,  0.0000],\n",
       "        [21.3000, 16.0000, 27.6000,  0.0000],\n",
       "        [17.3000,  9.9000, 25.9000,  0.0000],\n",
       "        [20.4000, 16.3000, 26.5000,  0.0000],\n",
       "        [12.7000,  6.9000, 19.5000,  0.0000],\n",
       "        [ 5.5000,  1.2000, 10.3000,  0.0000],\n",
       "        [ 5.3000,  0.1000, 10.7000,  0.5000],\n",
       "        [-0.2000, -7.3000,  5.7000,  0.3000],\n",
       "        [ 0.2000, -2.7000,  3.5000,  0.0000]])"
      ]
     },
     "execution_count": 9,
     "metadata": {},
     "output_type": "execute_result"
    }
   ],
   "source": [
    "x_test = torch.FloatTensor(test_data.drop('year', axis = 1).values)\n",
    "x_test"
   ]
  },
  {
   "cell_type": "code",
   "execution_count": 10,
   "id": "ca680b1c",
   "metadata": {
    "execution": {
     "iopub.execute_input": "2022-09-16T15:42:02.296034Z",
     "iopub.status.busy": "2022-09-16T15:42:02.295398Z",
     "iopub.status.idle": "2022-09-16T15:42:02.303544Z",
     "shell.execute_reply": "2022-09-16T15:42:02.302431Z"
    },
    "papermill": {
     "duration": 0.01807,
     "end_time": "2022-09-16T15:42:02.306116",
     "exception": false,
     "start_time": "2022-09-16T15:42:02.288046",
     "status": "completed"
    },
    "tags": []
   },
   "outputs": [
    {
     "data": {
      "text/plain": [
       "tensor([2123., 2123., 2123.,  ..., 4224., 4219., 4219.])"
      ]
     },
     "execution_count": 10,
     "metadata": {},
     "output_type": "execute_result"
    }
   ],
   "source": [
    "y_train = torch.FloatTensor(train_y.values)\n",
    "y_train"
   ]
  },
  {
   "cell_type": "code",
   "execution_count": 11,
   "id": "e6c3b632",
   "metadata": {
    "execution": {
     "iopub.execute_input": "2022-09-16T15:42:02.320292Z",
     "iopub.status.busy": "2022-09-16T15:42:02.319641Z",
     "iopub.status.idle": "2022-09-16T15:42:02.324736Z",
     "shell.execute_reply": "2022-09-16T15:42:02.323728Z"
    },
    "papermill": {
     "duration": 0.015261,
     "end_time": "2022-09-16T15:42:02.327420",
     "exception": false,
     "start_time": "2022-09-16T15:42:02.312159",
     "status": "completed"
    },
    "tags": []
   },
   "outputs": [],
   "source": [
    "# x1_train = torch.FloatTensor(train_x['avgTemp'])\n",
    "# x2_train = torch.FloatTensor(train_x['minTemp'])\n",
    "# x3_train = torch.FloatTensor(train_x['maxTemp'])\n",
    "# x4_train = torch.FloatTensor(train_x['rainFall'])\n",
    "# x5_train = torch.FloatTensor(train_x['year'])\n",
    "\n",
    "# y_train = torch.FloatTensor(train_y)\n",
    "# x1_train"
   ]
  },
  {
   "cell_type": "code",
   "execution_count": 12,
   "id": "c617808d",
   "metadata": {
    "execution": {
     "iopub.execute_input": "2022-09-16T15:42:02.341174Z",
     "iopub.status.busy": "2022-09-16T15:42:02.340653Z",
     "iopub.status.idle": "2022-09-16T15:43:09.122247Z",
     "shell.execute_reply": "2022-09-16T15:43:09.120858Z"
    },
    "papermill": {
     "duration": 66.791966,
     "end_time": "2022-09-16T15:43:09.125460",
     "exception": false,
     "start_time": "2022-09-16T15:42:02.333494",
     "status": "completed"
    },
    "tags": []
   },
   "outputs": [
    {
     "name": "stdout",
     "output_type": "stream",
     "text": [
      "Epoch    0/2000 hypothesis: tensor([0., 0., 0.,  ..., 0., 0., 0.]) Cost: 12013343.000000\n",
      "Epoch  100/2000 hypothesis: tensor([2830.8247, 2793.9939, 2018.8015,  ..., 1655.0349, 2861.5024,\n",
      "        2561.2146]) Cost: 2373769.000000\n",
      "Epoch  200/2000 hypothesis: tensor([2861.5107, 2846.5940, 2052.1277,  ..., 1687.2205, 2889.8330,\n",
      "        2587.9204]) Cost: 2359780.000000\n",
      "Epoch  300/2000 hypothesis: tensor([2863.4580, 2875.1233, 2065.8447,  ..., 1704.6511, 2893.8989,\n",
      "        2596.8208]) Cost: 2346367.000000\n",
      "Epoch  400/2000 hypothesis: tensor([2865.1812, 2902.6282, 2079.2190,  ..., 1721.7421, 2897.7041,\n",
      "        2605.4270]) Cost: 2333321.250000\n",
      "Epoch  500/2000 hypothesis: tensor([2866.9209, 2929.3237, 2092.4160,  ..., 1738.6179, 2901.4529,\n",
      "        2613.8906]) Cost: 2320630.750000\n",
      "Epoch  600/2000 hypothesis: tensor([2868.6790, 2955.2322, 2105.4409,  ..., 1755.2837, 2905.1484,\n",
      "        2622.2156]) Cost: 2308284.000000\n",
      "Epoch  700/2000 hypothesis: tensor([2870.4536, 2980.3716, 2118.2949,  ..., 1771.7416, 2908.7910,\n",
      "        2630.4036]) Cost: 2296271.250000\n",
      "Epoch  800/2000 hypothesis: tensor([2872.2444, 3004.7617, 2130.9819,  ..., 1787.9949, 2912.3821,\n",
      "        2638.4580]) Cost: 2284581.500000\n",
      "Epoch  900/2000 hypothesis: tensor([2874.0498, 3028.4199, 2143.5029,  ..., 1804.0460, 2915.9214,\n",
      "        2646.3801]) Cost: 2273205.500000\n",
      "Epoch 1000/2000 hypothesis: tensor([2875.8694, 3051.3650, 2155.8613,  ..., 1819.8983, 2919.4111,\n",
      "        2654.1741]) Cost: 2262133.000000\n",
      "Epoch 1100/2000 hypothesis: tensor([2877.7026, 3073.6147, 2168.0598,  ..., 1835.5544, 2922.8516,\n",
      "        2661.8411]) Cost: 2251355.250000\n",
      "Epoch 1200/2000 hypothesis: tensor([2879.5481, 3095.1851, 2180.0999,  ..., 1851.0168, 2926.2429,\n",
      "        2669.3833]) Cost: 2240863.000000\n",
      "Epoch 1300/2000 hypothesis: tensor([2881.4055, 3116.0938, 2191.9844,  ..., 1866.2888, 2929.5869,\n",
      "        2676.8037]) Cost: 2230648.000000\n",
      "Epoch 1400/2000 hypothesis: tensor([2883.2732, 3136.3564, 2203.7153,  ..., 1881.3721, 2932.8835,\n",
      "        2684.1040]) Cost: 2220701.500000\n",
      "Epoch 1500/2000 hypothesis: tensor([2885.1516, 3155.9893, 2215.2954,  ..., 1896.2701, 2936.1340,\n",
      "        2691.2866]) Cost: 2211015.750000\n",
      "Epoch 1600/2000 hypothesis: tensor([2887.0388, 3175.0078, 2226.7263,  ..., 1910.9849, 2939.3389,\n",
      "        2698.3535]) Cost: 2201582.750000\n",
      "Epoch 1700/2000 hypothesis: tensor([2888.9348, 3193.4272, 2238.0103,  ..., 1925.5193, 2942.4988,\n",
      "        2705.3066]) Cost: 2192395.500000\n",
      "Epoch 1800/2000 hypothesis: tensor([2890.8389, 3211.2629, 2249.1499,  ..., 1939.8757, 2945.6150,\n",
      "        2712.1487]) Cost: 2183446.000000\n",
      "Epoch 1900/2000 hypothesis: tensor([2892.7500, 3228.5288, 2260.1465,  ..., 1954.0564, 2948.6875,\n",
      "        2718.8809]) Cost: 2174728.000000\n",
      "Epoch 2000/2000 hypothesis: tensor([2894.6682, 3245.2397, 2271.0034,  ..., 1968.0642, 2951.7175,\n",
      "        2725.5059]) Cost: 2166234.250000\n"
     ]
    }
   ],
   "source": [
    "# 모델 초기화\n",
    "\n",
    "W = torch.zeros((4, 1), requires_grad=True)\n",
    "b = torch.zeros(1, requires_grad=True)\n",
    "# optimizer 설정\n",
    "optimizer = optim.SGD([W, b], lr=1e-3)\n",
    "\n",
    "nb_epochs = 2000\n",
    "for epoch in range(nb_epochs + 1):\n",
    "    \n",
    "    # H(x) 계산\n",
    "    # Matrix 연산!!\n",
    "    hypothesis = x_train.matmul(W) + b # or .mm or @\n",
    "\n",
    "    # cost 계산\n",
    "    cost = torch.mean((hypothesis - y_train) ** 2)\n",
    "\n",
    "    # cost로 H(x) 개선\n",
    "    optimizer.zero_grad()\n",
    "    cost.backward()\n",
    "    optimizer.step()\n",
    "\n",
    "    # 100번마다 로그 출력\n",
    "    \n",
    "    if epoch %100==0:\n",
    "        print('Epoch {:4d}/{} hypothesis: {} Cost: {:.6f}'.format(epoch, nb_epochs, hypothesis.squeeze().detach(), cost.item()))# 모델 초기화\n"
   ]
  },
  {
   "cell_type": "code",
   "execution_count": null,
   "id": "11696a2b",
   "metadata": {
    "execution": {
     "iopub.execute_input": "2022-09-16T15:00:28.454259Z",
     "iopub.status.busy": "2022-09-16T15:00:28.453421Z",
     "iopub.status.idle": "2022-09-16T15:00:28.461972Z",
     "shell.execute_reply": "2022-09-16T15:00:28.460729Z",
     "shell.execute_reply.started": "2022-09-16T15:00:28.454215Z"
    },
    "papermill": {
     "duration": 0.008066,
     "end_time": "2022-09-16T15:43:09.140861",
     "exception": false,
     "start_time": "2022-09-16T15:43:09.132795",
     "status": "completed"
    },
    "tags": []
   },
   "outputs": [],
   "source": []
  },
  {
   "cell_type": "code",
   "execution_count": 13,
   "id": "1bbeafef",
   "metadata": {
    "execution": {
     "iopub.execute_input": "2022-09-16T15:43:09.157195Z",
     "iopub.status.busy": "2022-09-16T15:43:09.156781Z",
     "iopub.status.idle": "2022-09-16T15:43:09.162307Z",
     "shell.execute_reply": "2022-09-16T15:43:09.161001Z"
    },
    "papermill": {
     "duration": 0.016629,
     "end_time": "2022-09-16T15:43:09.164605",
     "exception": false,
     "start_time": "2022-09-16T15:43:09.147976",
     "status": "completed"
    },
    "tags": []
   },
   "outputs": [],
   "source": [
    "# w1 = torch.zeros(1, requires_grad=True)\n",
    "# w2 = torch.zeros(1, requires_grad=True)\n",
    "# w3 = torch.zeros(1, requires_grad=True)\n",
    "# w4 = torch.zeros(1, requires_grad=True)\n",
    "# b = torch.zeros(1, requires_grad=True)\n",
    "\n",
    "\n",
    "# # optimizer 설정\n",
    "# optimizer = optim.SGD([w1, w2, w3, w4, b], lr=1e-5)\n",
    "\n",
    "# nb_epochs = 1000\n",
    "# for epoch in range(1000 + 1):\n",
    "    \n",
    "#     # H(x) 계산\n",
    "#     hypothesis = x1_train * w1 + x2_train * w2 + x3_train * w3 + x4_train * w4 +b\n",
    "\n",
    "#     # cost 계산\n",
    "#     cost = torch.mean((hypothesis - y_train) ** 2)\n",
    "\n",
    "#     # cost로 H(x) 개선\n",
    "#     optimizer.zero_grad()\n",
    "#     cost.backward()\n",
    "#     optimizer.step()\n",
    "\n",
    "#     # 100번마다 로그 출력\n",
    "#     if epoch % 100 == 0:\n",
    "        \n",
    "#         print('Epoch {:4d}/{} w1: {:.3f} w2: {:.3f} w3: {:.3f} b: {:.3f} Cost: {:.6f}'.format(\n",
    "#             epoch, nb_epochs, w1.item(), w2.item(), w3.item(), b.item(), cost.item()\n",
    "#         ))"
   ]
  },
  {
   "cell_type": "code",
   "execution_count": 14,
   "id": "47e6ae77",
   "metadata": {
    "execution": {
     "iopub.execute_input": "2022-09-16T15:43:09.181135Z",
     "iopub.status.busy": "2022-09-16T15:43:09.180731Z",
     "iopub.status.idle": "2022-09-16T15:43:09.187924Z",
     "shell.execute_reply": "2022-09-16T15:43:09.187153Z"
    },
    "papermill": {
     "duration": 0.0181,
     "end_time": "2022-09-16T15:43:09.189992",
     "exception": false,
     "start_time": "2022-09-16T15:43:09.171892",
     "status": "completed"
    },
    "tags": []
   },
   "outputs": [
    {
     "data": {
      "text/plain": [
       "tensor([[2897.8574],\n",
       "        [2047.2784],\n",
       "        [2090.2358],\n",
       "        [3511.5947],\n",
       "        [3275.6665],\n",
       "        [3342.4067],\n",
       "        [2986.0322],\n",
       "        [4141.5000],\n",
       "        [3621.4585],\n",
       "        [4214.5234],\n",
       "        [2269.2617],\n",
       "        [3716.3022],\n",
       "        [2961.3442],\n",
       "        [3142.8828],\n",
       "        [2560.7783],\n",
       "        [3482.2036],\n",
       "        [3419.8940],\n",
       "        [4219.8184],\n",
       "        [3200.9312],\n",
       "        [3454.3979],\n",
       "        [2599.2217],\n",
       "        [2884.2256],\n",
       "        [3143.4590],\n",
       "        [1925.6448]], grad_fn=<AddBackward0>)"
      ]
     },
     "execution_count": 14,
     "metadata": {},
     "output_type": "execute_result"
    }
   ],
   "source": [
    "y_pred = x_test.matmul(W) + b\n",
    "y_pred"
   ]
  },
  {
   "cell_type": "code",
   "execution_count": 15,
   "id": "d14c4abe",
   "metadata": {
    "execution": {
     "iopub.execute_input": "2022-09-16T15:43:09.206999Z",
     "iopub.status.busy": "2022-09-16T15:43:09.206381Z",
     "iopub.status.idle": "2022-09-16T15:43:09.218899Z",
     "shell.execute_reply": "2022-09-16T15:43:09.217841Z"
    },
    "papermill": {
     "duration": 0.023922,
     "end_time": "2022-09-16T15:43:09.221448",
     "exception": false,
     "start_time": "2022-09-16T15:43:09.197526",
     "status": "completed"
    },
    "tags": []
   },
   "outputs": [],
   "source": [
    "submit = pd.DataFrame()\n",
    "\n",
    "submit['id'] = pd.Series(range(len(y_pred)))\n",
    "submit['Expected'] = y_pred.detach().numpy()\n",
    "submit.to_csv('submit.csv', index = None)"
   ]
  },
  {
   "cell_type": "code",
   "execution_count": 16,
   "id": "69990603",
   "metadata": {
    "execution": {
     "iopub.execute_input": "2022-09-16T15:43:09.238800Z",
     "iopub.status.busy": "2022-09-16T15:43:09.238157Z",
     "iopub.status.idle": "2022-09-16T15:43:09.249328Z",
     "shell.execute_reply": "2022-09-16T15:43:09.248075Z"
    },
    "papermill": {
     "duration": 0.022799,
     "end_time": "2022-09-16T15:43:09.251913",
     "exception": false,
     "start_time": "2022-09-16T15:43:09.229114",
     "status": "completed"
    },
    "tags": []
   },
   "outputs": [
    {
     "data": {
      "text/html": [
       "<div>\n",
       "<style scoped>\n",
       "    .dataframe tbody tr th:only-of-type {\n",
       "        vertical-align: middle;\n",
       "    }\n",
       "\n",
       "    .dataframe tbody tr th {\n",
       "        vertical-align: top;\n",
       "    }\n",
       "\n",
       "    .dataframe thead th {\n",
       "        text-align: right;\n",
       "    }\n",
       "</style>\n",
       "<table border=\"1\" class=\"dataframe\">\n",
       "  <thead>\n",
       "    <tr style=\"text-align: right;\">\n",
       "      <th></th>\n",
       "      <th>id</th>\n",
       "      <th>Expected</th>\n",
       "    </tr>\n",
       "  </thead>\n",
       "  <tbody>\n",
       "    <tr>\n",
       "      <th>0</th>\n",
       "      <td>0</td>\n",
       "      <td>2897.857422</td>\n",
       "    </tr>\n",
       "    <tr>\n",
       "      <th>1</th>\n",
       "      <td>1</td>\n",
       "      <td>2047.278442</td>\n",
       "    </tr>\n",
       "    <tr>\n",
       "      <th>2</th>\n",
       "      <td>2</td>\n",
       "      <td>2090.235840</td>\n",
       "    </tr>\n",
       "    <tr>\n",
       "      <th>3</th>\n",
       "      <td>3</td>\n",
       "      <td>3511.594727</td>\n",
       "    </tr>\n",
       "    <tr>\n",
       "      <th>4</th>\n",
       "      <td>4</td>\n",
       "      <td>3275.666504</td>\n",
       "    </tr>\n",
       "    <tr>\n",
       "      <th>5</th>\n",
       "      <td>5</td>\n",
       "      <td>3342.406738</td>\n",
       "    </tr>\n",
       "    <tr>\n",
       "      <th>6</th>\n",
       "      <td>6</td>\n",
       "      <td>2986.032227</td>\n",
       "    </tr>\n",
       "    <tr>\n",
       "      <th>7</th>\n",
       "      <td>7</td>\n",
       "      <td>4141.500000</td>\n",
       "    </tr>\n",
       "    <tr>\n",
       "      <th>8</th>\n",
       "      <td>8</td>\n",
       "      <td>3621.458496</td>\n",
       "    </tr>\n",
       "    <tr>\n",
       "      <th>9</th>\n",
       "      <td>9</td>\n",
       "      <td>4214.523438</td>\n",
       "    </tr>\n",
       "    <tr>\n",
       "      <th>10</th>\n",
       "      <td>10</td>\n",
       "      <td>2269.261719</td>\n",
       "    </tr>\n",
       "    <tr>\n",
       "      <th>11</th>\n",
       "      <td>11</td>\n",
       "      <td>3716.302246</td>\n",
       "    </tr>\n",
       "    <tr>\n",
       "      <th>12</th>\n",
       "      <td>12</td>\n",
       "      <td>2961.344238</td>\n",
       "    </tr>\n",
       "    <tr>\n",
       "      <th>13</th>\n",
       "      <td>13</td>\n",
       "      <td>3142.882812</td>\n",
       "    </tr>\n",
       "    <tr>\n",
       "      <th>14</th>\n",
       "      <td>14</td>\n",
       "      <td>2560.778320</td>\n",
       "    </tr>\n",
       "    <tr>\n",
       "      <th>15</th>\n",
       "      <td>15</td>\n",
       "      <td>3482.203613</td>\n",
       "    </tr>\n",
       "    <tr>\n",
       "      <th>16</th>\n",
       "      <td>16</td>\n",
       "      <td>3419.894043</td>\n",
       "    </tr>\n",
       "    <tr>\n",
       "      <th>17</th>\n",
       "      <td>17</td>\n",
       "      <td>4219.818359</td>\n",
       "    </tr>\n",
       "    <tr>\n",
       "      <th>18</th>\n",
       "      <td>18</td>\n",
       "      <td>3200.931152</td>\n",
       "    </tr>\n",
       "    <tr>\n",
       "      <th>19</th>\n",
       "      <td>19</td>\n",
       "      <td>3454.397949</td>\n",
       "    </tr>\n",
       "    <tr>\n",
       "      <th>20</th>\n",
       "      <td>20</td>\n",
       "      <td>2599.221680</td>\n",
       "    </tr>\n",
       "    <tr>\n",
       "      <th>21</th>\n",
       "      <td>21</td>\n",
       "      <td>2884.225586</td>\n",
       "    </tr>\n",
       "    <tr>\n",
       "      <th>22</th>\n",
       "      <td>22</td>\n",
       "      <td>3143.458984</td>\n",
       "    </tr>\n",
       "    <tr>\n",
       "      <th>23</th>\n",
       "      <td>23</td>\n",
       "      <td>1925.644775</td>\n",
       "    </tr>\n",
       "  </tbody>\n",
       "</table>\n",
       "</div>"
      ],
      "text/plain": [
       "    id     Expected\n",
       "0    0  2897.857422\n",
       "1    1  2047.278442\n",
       "2    2  2090.235840\n",
       "3    3  3511.594727\n",
       "4    4  3275.666504\n",
       "5    5  3342.406738\n",
       "6    6  2986.032227\n",
       "7    7  4141.500000\n",
       "8    8  3621.458496\n",
       "9    9  4214.523438\n",
       "10  10  2269.261719\n",
       "11  11  3716.302246\n",
       "12  12  2961.344238\n",
       "13  13  3142.882812\n",
       "14  14  2560.778320\n",
       "15  15  3482.203613\n",
       "16  16  3419.894043\n",
       "17  17  4219.818359\n",
       "18  18  3200.931152\n",
       "19  19  3454.397949\n",
       "20  20  2599.221680\n",
       "21  21  2884.225586\n",
       "22  22  3143.458984\n",
       "23  23  1925.644775"
      ]
     },
     "execution_count": 16,
     "metadata": {},
     "output_type": "execute_result"
    }
   ],
   "source": [
    "submit"
   ]
  },
  {
   "cell_type": "code",
   "execution_count": 17,
   "id": "e224a70d",
   "metadata": {
    "execution": {
     "iopub.execute_input": "2022-09-16T15:43:09.269381Z",
     "iopub.status.busy": "2022-09-16T15:43:09.268892Z",
     "iopub.status.idle": "2022-09-16T15:43:09.281035Z",
     "shell.execute_reply": "2022-09-16T15:43:09.279729Z"
    },
    "papermill": {
     "duration": 0.023689,
     "end_time": "2022-09-16T15:43:09.283415",
     "exception": false,
     "start_time": "2022-09-16T15:43:09.259726",
     "status": "completed"
    },
    "tags": []
   },
   "outputs": [
    {
     "data": {
      "text/html": [
       "<div>\n",
       "<style scoped>\n",
       "    .dataframe tbody tr th:only-of-type {\n",
       "        vertical-align: middle;\n",
       "    }\n",
       "\n",
       "    .dataframe tbody tr th {\n",
       "        vertical-align: top;\n",
       "    }\n",
       "\n",
       "    .dataframe thead th {\n",
       "        text-align: right;\n",
       "    }\n",
       "</style>\n",
       "<table border=\"1\" class=\"dataframe\">\n",
       "  <thead>\n",
       "    <tr style=\"text-align: right;\">\n",
       "      <th></th>\n",
       "      <th>id</th>\n",
       "      <th>Expected</th>\n",
       "    </tr>\n",
       "  </thead>\n",
       "  <tbody>\n",
       "    <tr>\n",
       "      <th>0</th>\n",
       "      <td>0</td>\n",
       "      <td>2897.857422</td>\n",
       "    </tr>\n",
       "    <tr>\n",
       "      <th>1</th>\n",
       "      <td>1</td>\n",
       "      <td>2047.278442</td>\n",
       "    </tr>\n",
       "    <tr>\n",
       "      <th>2</th>\n",
       "      <td>2</td>\n",
       "      <td>2090.235840</td>\n",
       "    </tr>\n",
       "    <tr>\n",
       "      <th>3</th>\n",
       "      <td>3</td>\n",
       "      <td>3511.594727</td>\n",
       "    </tr>\n",
       "    <tr>\n",
       "      <th>4</th>\n",
       "      <td>4</td>\n",
       "      <td>3275.666504</td>\n",
       "    </tr>\n",
       "    <tr>\n",
       "      <th>5</th>\n",
       "      <td>5</td>\n",
       "      <td>3342.406738</td>\n",
       "    </tr>\n",
       "    <tr>\n",
       "      <th>6</th>\n",
       "      <td>6</td>\n",
       "      <td>2986.032227</td>\n",
       "    </tr>\n",
       "    <tr>\n",
       "      <th>7</th>\n",
       "      <td>7</td>\n",
       "      <td>4141.500000</td>\n",
       "    </tr>\n",
       "    <tr>\n",
       "      <th>8</th>\n",
       "      <td>8</td>\n",
       "      <td>3621.458496</td>\n",
       "    </tr>\n",
       "    <tr>\n",
       "      <th>9</th>\n",
       "      <td>9</td>\n",
       "      <td>4214.523438</td>\n",
       "    </tr>\n",
       "    <tr>\n",
       "      <th>10</th>\n",
       "      <td>10</td>\n",
       "      <td>2269.261719</td>\n",
       "    </tr>\n",
       "    <tr>\n",
       "      <th>11</th>\n",
       "      <td>11</td>\n",
       "      <td>3716.302246</td>\n",
       "    </tr>\n",
       "    <tr>\n",
       "      <th>12</th>\n",
       "      <td>12</td>\n",
       "      <td>2961.344238</td>\n",
       "    </tr>\n",
       "    <tr>\n",
       "      <th>13</th>\n",
       "      <td>13</td>\n",
       "      <td>3142.882812</td>\n",
       "    </tr>\n",
       "    <tr>\n",
       "      <th>14</th>\n",
       "      <td>14</td>\n",
       "      <td>2560.778320</td>\n",
       "    </tr>\n",
       "    <tr>\n",
       "      <th>15</th>\n",
       "      <td>15</td>\n",
       "      <td>3482.203613</td>\n",
       "    </tr>\n",
       "    <tr>\n",
       "      <th>16</th>\n",
       "      <td>16</td>\n",
       "      <td>3419.894043</td>\n",
       "    </tr>\n",
       "    <tr>\n",
       "      <th>17</th>\n",
       "      <td>17</td>\n",
       "      <td>4219.818359</td>\n",
       "    </tr>\n",
       "    <tr>\n",
       "      <th>18</th>\n",
       "      <td>18</td>\n",
       "      <td>3200.931152</td>\n",
       "    </tr>\n",
       "    <tr>\n",
       "      <th>19</th>\n",
       "      <td>19</td>\n",
       "      <td>3454.397949</td>\n",
       "    </tr>\n",
       "    <tr>\n",
       "      <th>20</th>\n",
       "      <td>20</td>\n",
       "      <td>2599.221680</td>\n",
       "    </tr>\n",
       "    <tr>\n",
       "      <th>21</th>\n",
       "      <td>21</td>\n",
       "      <td>2884.225586</td>\n",
       "    </tr>\n",
       "    <tr>\n",
       "      <th>22</th>\n",
       "      <td>22</td>\n",
       "      <td>3143.458984</td>\n",
       "    </tr>\n",
       "    <tr>\n",
       "      <th>23</th>\n",
       "      <td>23</td>\n",
       "      <td>1925.644775</td>\n",
       "    </tr>\n",
       "  </tbody>\n",
       "</table>\n",
       "</div>"
      ],
      "text/plain": [
       "    id     Expected\n",
       "0    0  2897.857422\n",
       "1    1  2047.278442\n",
       "2    2  2090.235840\n",
       "3    3  3511.594727\n",
       "4    4  3275.666504\n",
       "5    5  3342.406738\n",
       "6    6  2986.032227\n",
       "7    7  4141.500000\n",
       "8    8  3621.458496\n",
       "9    9  4214.523438\n",
       "10  10  2269.261719\n",
       "11  11  3716.302246\n",
       "12  12  2961.344238\n",
       "13  13  3142.882812\n",
       "14  14  2560.778320\n",
       "15  15  3482.203613\n",
       "16  16  3419.894043\n",
       "17  17  4219.818359\n",
       "18  18  3200.931152\n",
       "19  19  3454.397949\n",
       "20  20  2599.221680\n",
       "21  21  2884.225586\n",
       "22  22  3143.458984\n",
       "23  23  1925.644775"
      ]
     },
     "execution_count": 17,
     "metadata": {},
     "output_type": "execute_result"
    }
   ],
   "source": [
    "submit"
   ]
  }
 ],
 "metadata": {
  "kernelspec": {
   "display_name": "Python 3",
   "language": "python",
   "name": "python3"
  },
  "language_info": {
   "codemirror_mode": {
    "name": "ipython",
    "version": 3
   },
   "file_extension": ".py",
   "mimetype": "text/x-python",
   "name": "python",
   "nbconvert_exporter": "python",
   "pygments_lexer": "ipython3",
   "version": "3.7.12"
  },
  "papermill": {
   "default_parameters": {},
   "duration": 80.352516,
   "end_time": "2022-09-16T15:43:10.114317",
   "environment_variables": {},
   "exception": null,
   "input_path": "__notebook__.ipynb",
   "output_path": "__notebook__.ipynb",
   "parameters": {},
   "start_time": "2022-09-16T15:41:49.761801",
   "version": "2.3.4"
  }
 },
 "nbformat": 4,
 "nbformat_minor": 5
}
