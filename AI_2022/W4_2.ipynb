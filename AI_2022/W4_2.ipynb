{
 "cells": [
  {
   "cell_type": "code",
   "execution_count": 1,
   "id": "be9a0b83",
   "metadata": {
    "_cell_guid": "b1076dfc-b9ad-4769-8c92-a6c4dae69d19",
    "_uuid": "8f2839f25d086af736a60e9eeb907d3b93b6e0e5",
    "execution": {
     "iopub.execute_input": "2022-09-22T04:00:22.377966Z",
     "iopub.status.busy": "2022-09-22T04:00:22.377474Z",
     "iopub.status.idle": "2022-09-22T04:00:22.390786Z",
     "shell.execute_reply": "2022-09-22T04:00:22.389707Z"
    },
    "papermill": {
     "duration": 0.02435,
     "end_time": "2022-09-22T04:00:22.393628",
     "exception": false,
     "start_time": "2022-09-22T04:00:22.369278",
     "status": "completed"
    },
    "tags": []
   },
   "outputs": [
    {
     "name": "stdout",
     "output_type": "stream",
     "text": [
      "/kaggle/input/2022-ai-w4p2/sample.csv\n",
      "/kaggle/input/2022-ai-w4p2/train.csv\n",
      "/kaggle/input/2022-ai-w4p2/test.csv\n"
     ]
    }
   ],
   "source": [
    "# This Python 3 environment comes with many helpful analytics libraries installed\n",
    "# It is defined by the kaggle/python Docker image: https://github.com/kaggle/docker-python\n",
    "# For example, here's several helpful packages to load\n",
    "\n",
    "import numpy as np # linear algebra\n",
    "import pandas as pd # data processing, CSV file I/O (e.g. pd.read_csv)\n",
    "\n",
    "# Input data files are available in the read-only \"../input/\" directory\n",
    "# For example, running this (by clicking run or pressing Shift+Enter) will list all files under the input directory\n",
    "\n",
    "import os\n",
    "for dirname, _, filenames in os.walk('/kaggle/input'):\n",
    "    for filename in filenames:\n",
    "        print(os.path.join(dirname, filename))\n",
    "\n",
    "# You can write up to 20GB to the current directory (/kaggle/working/) that gets preserved as output when you create a version using \"Save & Run All\" \n",
    "# You can also write temporary files to /kaggle/temp/, but they won't be saved outside of the current session"
   ]
  },
  {
   "cell_type": "code",
   "execution_count": 2,
   "id": "65fa0d87",
   "metadata": {
    "execution": {
     "iopub.execute_input": "2022-09-22T04:00:22.407405Z",
     "iopub.status.busy": "2022-09-22T04:00:22.406334Z",
     "iopub.status.idle": "2022-09-22T04:00:22.440345Z",
     "shell.execute_reply": "2022-09-22T04:00:22.439253Z"
    },
    "papermill": {
     "duration": 0.043773,
     "end_time": "2022-09-22T04:00:22.443178",
     "exception": false,
     "start_time": "2022-09-22T04:00:22.399405",
     "status": "completed"
    },
    "tags": []
   },
   "outputs": [],
   "source": [
    "train_data = pd.read_csv('/kaggle/input/2022-ai-w4p2/train.csv')\n",
    "test_data = pd.read_csv('/kaggle/input/2022-ai-w4p2/test.csv')"
   ]
  },
  {
   "cell_type": "code",
   "execution_count": 3,
   "id": "e9460531",
   "metadata": {
    "execution": {
     "iopub.execute_input": "2022-09-22T04:00:22.455892Z",
     "iopub.status.busy": "2022-09-22T04:00:22.455513Z",
     "iopub.status.idle": "2022-09-22T04:00:23.635060Z",
     "shell.execute_reply": "2022-09-22T04:00:23.633701Z"
    },
    "papermill": {
     "duration": 1.188738,
     "end_time": "2022-09-22T04:00:23.637579",
     "exception": false,
     "start_time": "2022-09-22T04:00:22.448841",
     "status": "completed"
    },
    "tags": []
   },
   "outputs": [
    {
     "data": {
      "text/html": [
       "<div>\n",
       "<style scoped>\n",
       "    .dataframe tbody tr th:only-of-type {\n",
       "        vertical-align: middle;\n",
       "    }\n",
       "\n",
       "    .dataframe tbody tr th {\n",
       "        vertical-align: top;\n",
       "    }\n",
       "\n",
       "    .dataframe thead th {\n",
       "        text-align: right;\n",
       "    }\n",
       "</style>\n",
       "<table border=\"1\" class=\"dataframe\">\n",
       "  <thead>\n",
       "    <tr style=\"text-align: right;\">\n",
       "      <th></th>\n",
       "      <th>N</th>\n",
       "      <th>P</th>\n",
       "      <th>K</th>\n",
       "      <th>temperature</th>\n",
       "      <th>humidity</th>\n",
       "      <th>ph</th>\n",
       "      <th>rainfall</th>\n",
       "      <th>label</th>\n",
       "    </tr>\n",
       "  </thead>\n",
       "  <tbody>\n",
       "    <tr>\n",
       "      <th>0</th>\n",
       "      <td>22</td>\n",
       "      <td>36</td>\n",
       "      <td>16</td>\n",
       "      <td>30.581395</td>\n",
       "      <td>50.771481</td>\n",
       "      <td>8.184229</td>\n",
       "      <td>64.585596</td>\n",
       "      <td>13</td>\n",
       "    </tr>\n",
       "    <tr>\n",
       "      <th>1</th>\n",
       "      <td>18</td>\n",
       "      <td>27</td>\n",
       "      <td>41</td>\n",
       "      <td>22.365094</td>\n",
       "      <td>92.308824</td>\n",
       "      <td>7.175344</td>\n",
       "      <td>104.821633</td>\n",
       "      <td>19</td>\n",
       "    </tr>\n",
       "    <tr>\n",
       "      <th>2</th>\n",
       "      <td>61</td>\n",
       "      <td>68</td>\n",
       "      <td>50</td>\n",
       "      <td>35.214628</td>\n",
       "      <td>91.497251</td>\n",
       "      <td>6.793245</td>\n",
       "      <td>243.074507</td>\n",
       "      <td>17</td>\n",
       "    </tr>\n",
       "    <tr>\n",
       "      <th>3</th>\n",
       "      <td>26</td>\n",
       "      <td>72</td>\n",
       "      <td>22</td>\n",
       "      <td>28.767949</td>\n",
       "      <td>37.577921</td>\n",
       "      <td>4.674942</td>\n",
       "      <td>91.720849</td>\n",
       "      <td>18</td>\n",
       "    </tr>\n",
       "    <tr>\n",
       "      <th>4</th>\n",
       "      <td>2</td>\n",
       "      <td>140</td>\n",
       "      <td>197</td>\n",
       "      <td>22.697801</td>\n",
       "      <td>92.822234</td>\n",
       "      <td>5.534567</td>\n",
       "      <td>105.050823</td>\n",
       "      <td>0</td>\n",
       "    </tr>\n",
       "    <tr>\n",
       "      <th>...</th>\n",
       "      <td>...</td>\n",
       "      <td>...</td>\n",
       "      <td>...</td>\n",
       "      <td>...</td>\n",
       "      <td>...</td>\n",
       "      <td>...</td>\n",
       "      <td>...</td>\n",
       "      <td>...</td>\n",
       "    </tr>\n",
       "    <tr>\n",
       "      <th>1645</th>\n",
       "      <td>10</td>\n",
       "      <td>5</td>\n",
       "      <td>5</td>\n",
       "      <td>21.213070</td>\n",
       "      <td>91.353492</td>\n",
       "      <td>7.817846</td>\n",
       "      <td>112.983436</td>\n",
       "      <td>16</td>\n",
       "    </tr>\n",
       "    <tr>\n",
       "      <th>1646</th>\n",
       "      <td>108</td>\n",
       "      <td>94</td>\n",
       "      <td>47</td>\n",
       "      <td>27.359116</td>\n",
       "      <td>84.546250</td>\n",
       "      <td>6.387431</td>\n",
       "      <td>90.812505</td>\n",
       "      <td>1</td>\n",
       "    </tr>\n",
       "    <tr>\n",
       "      <th>1647</th>\n",
       "      <td>11</td>\n",
       "      <td>36</td>\n",
       "      <td>31</td>\n",
       "      <td>27.920633</td>\n",
       "      <td>51.779659</td>\n",
       "      <td>6.475449</td>\n",
       "      <td>100.258567</td>\n",
       "      <td>12</td>\n",
       "    </tr>\n",
       "    <tr>\n",
       "      <th>1648</th>\n",
       "      <td>11</td>\n",
       "      <td>124</td>\n",
       "      <td>204</td>\n",
       "      <td>13.429886</td>\n",
       "      <td>80.066340</td>\n",
       "      <td>6.361141</td>\n",
       "      <td>71.400430</td>\n",
       "      <td>7</td>\n",
       "    </tr>\n",
       "    <tr>\n",
       "      <th>1649</th>\n",
       "      <td>32</td>\n",
       "      <td>78</td>\n",
       "      <td>22</td>\n",
       "      <td>23.970814</td>\n",
       "      <td>62.355576</td>\n",
       "      <td>7.007038</td>\n",
       "      <td>53.409060</td>\n",
       "      <td>10</td>\n",
       "    </tr>\n",
       "  </tbody>\n",
       "</table>\n",
       "<p>1650 rows × 8 columns</p>\n",
       "</div>"
      ],
      "text/plain": [
       "        N    P    K  temperature   humidity        ph    rainfall  label\n",
       "0      22   36   16    30.581395  50.771481  8.184229   64.585596     13\n",
       "1      18   27   41    22.365094  92.308824  7.175344  104.821633     19\n",
       "2      61   68   50    35.214628  91.497251  6.793245  243.074507     17\n",
       "3      26   72   22    28.767949  37.577921  4.674942   91.720849     18\n",
       "4       2  140  197    22.697801  92.822234  5.534567  105.050823      0\n",
       "...   ...  ...  ...          ...        ...       ...         ...    ...\n",
       "1645   10    5    5    21.213070  91.353492  7.817846  112.983436     16\n",
       "1646  108   94   47    27.359116  84.546250  6.387431   90.812505      1\n",
       "1647   11   36   31    27.920633  51.779659  6.475449  100.258567     12\n",
       "1648   11  124  204    13.429886  80.066340  6.361141   71.400430      7\n",
       "1649   32   78   22    23.970814  62.355576  7.007038   53.409060     10\n",
       "\n",
       "[1650 rows x 8 columns]"
      ]
     },
     "execution_count": 3,
     "metadata": {},
     "output_type": "execute_result"
    }
   ],
   "source": [
    "from sklearn.preprocessing import LabelEncoder\n",
    "cls = LabelEncoder()\n",
    "\n",
    "train_data['label'] = cls.fit_transform(train_data['label'])\n",
    "train_data"
   ]
  },
  {
   "cell_type": "code",
   "execution_count": 4,
   "id": "a12076b6",
   "metadata": {
    "execution": {
     "iopub.execute_input": "2022-09-22T04:00:23.651750Z",
     "iopub.status.busy": "2022-09-22T04:00:23.651322Z",
     "iopub.status.idle": "2022-09-22T04:00:23.659666Z",
     "shell.execute_reply": "2022-09-22T04:00:23.658501Z"
    },
    "papermill": {
     "duration": 0.01815,
     "end_time": "2022-09-22T04:00:23.662033",
     "exception": false,
     "start_time": "2022-09-22T04:00:23.643883",
     "status": "completed"
    },
    "tags": []
   },
   "outputs": [
    {
     "data": {
      "text/plain": [
       "0       13\n",
       "1       19\n",
       "2       17\n",
       "3       18\n",
       "4        0\n",
       "        ..\n",
       "1645    16\n",
       "1646     1\n",
       "1647    12\n",
       "1648     7\n",
       "1649    10\n",
       "Name: label, Length: 1650, dtype: int64"
      ]
     },
     "execution_count": 4,
     "metadata": {},
     "output_type": "execute_result"
    }
   ],
   "source": [
    "train_data['label']"
   ]
  },
  {
   "cell_type": "code",
   "execution_count": 5,
   "id": "2b2819fd",
   "metadata": {
    "execution": {
     "iopub.execute_input": "2022-09-22T04:00:23.675177Z",
     "iopub.status.busy": "2022-09-22T04:00:23.674770Z",
     "iopub.status.idle": "2022-09-22T04:00:23.698490Z",
     "shell.execute_reply": "2022-09-22T04:00:23.697419Z"
    },
    "papermill": {
     "duration": 0.033552,
     "end_time": "2022-09-22T04:00:23.701367",
     "exception": false,
     "start_time": "2022-09-22T04:00:23.667815",
     "status": "completed"
    },
    "tags": []
   },
   "outputs": [
    {
     "data": {
      "text/html": [
       "<div>\n",
       "<style scoped>\n",
       "    .dataframe tbody tr th:only-of-type {\n",
       "        vertical-align: middle;\n",
       "    }\n",
       "\n",
       "    .dataframe tbody tr th {\n",
       "        vertical-align: top;\n",
       "    }\n",
       "\n",
       "    .dataframe thead th {\n",
       "        text-align: right;\n",
       "    }\n",
       "</style>\n",
       "<table border=\"1\" class=\"dataframe\">\n",
       "  <thead>\n",
       "    <tr style=\"text-align: right;\">\n",
       "      <th></th>\n",
       "      <th>N</th>\n",
       "      <th>P</th>\n",
       "      <th>K</th>\n",
       "      <th>temperature</th>\n",
       "      <th>humidity</th>\n",
       "      <th>ph</th>\n",
       "      <th>rainfall</th>\n",
       "    </tr>\n",
       "  </thead>\n",
       "  <tbody>\n",
       "    <tr>\n",
       "      <th>0</th>\n",
       "      <td>22</td>\n",
       "      <td>36</td>\n",
       "      <td>16</td>\n",
       "      <td>30.581395</td>\n",
       "      <td>50.771481</td>\n",
       "      <td>8.184229</td>\n",
       "      <td>64.585596</td>\n",
       "    </tr>\n",
       "    <tr>\n",
       "      <th>1</th>\n",
       "      <td>18</td>\n",
       "      <td>27</td>\n",
       "      <td>41</td>\n",
       "      <td>22.365094</td>\n",
       "      <td>92.308824</td>\n",
       "      <td>7.175344</td>\n",
       "      <td>104.821633</td>\n",
       "    </tr>\n",
       "    <tr>\n",
       "      <th>2</th>\n",
       "      <td>61</td>\n",
       "      <td>68</td>\n",
       "      <td>50</td>\n",
       "      <td>35.214628</td>\n",
       "      <td>91.497251</td>\n",
       "      <td>6.793245</td>\n",
       "      <td>243.074507</td>\n",
       "    </tr>\n",
       "    <tr>\n",
       "      <th>3</th>\n",
       "      <td>26</td>\n",
       "      <td>72</td>\n",
       "      <td>22</td>\n",
       "      <td>28.767949</td>\n",
       "      <td>37.577921</td>\n",
       "      <td>4.674942</td>\n",
       "      <td>91.720849</td>\n",
       "    </tr>\n",
       "    <tr>\n",
       "      <th>4</th>\n",
       "      <td>2</td>\n",
       "      <td>140</td>\n",
       "      <td>197</td>\n",
       "      <td>22.697801</td>\n",
       "      <td>92.822234</td>\n",
       "      <td>5.534567</td>\n",
       "      <td>105.050823</td>\n",
       "    </tr>\n",
       "    <tr>\n",
       "      <th>...</th>\n",
       "      <td>...</td>\n",
       "      <td>...</td>\n",
       "      <td>...</td>\n",
       "      <td>...</td>\n",
       "      <td>...</td>\n",
       "      <td>...</td>\n",
       "      <td>...</td>\n",
       "    </tr>\n",
       "    <tr>\n",
       "      <th>1645</th>\n",
       "      <td>10</td>\n",
       "      <td>5</td>\n",
       "      <td>5</td>\n",
       "      <td>21.213070</td>\n",
       "      <td>91.353492</td>\n",
       "      <td>7.817846</td>\n",
       "      <td>112.983436</td>\n",
       "    </tr>\n",
       "    <tr>\n",
       "      <th>1646</th>\n",
       "      <td>108</td>\n",
       "      <td>94</td>\n",
       "      <td>47</td>\n",
       "      <td>27.359116</td>\n",
       "      <td>84.546250</td>\n",
       "      <td>6.387431</td>\n",
       "      <td>90.812505</td>\n",
       "    </tr>\n",
       "    <tr>\n",
       "      <th>1647</th>\n",
       "      <td>11</td>\n",
       "      <td>36</td>\n",
       "      <td>31</td>\n",
       "      <td>27.920633</td>\n",
       "      <td>51.779659</td>\n",
       "      <td>6.475449</td>\n",
       "      <td>100.258567</td>\n",
       "    </tr>\n",
       "    <tr>\n",
       "      <th>1648</th>\n",
       "      <td>11</td>\n",
       "      <td>124</td>\n",
       "      <td>204</td>\n",
       "      <td>13.429886</td>\n",
       "      <td>80.066340</td>\n",
       "      <td>6.361141</td>\n",
       "      <td>71.400430</td>\n",
       "    </tr>\n",
       "    <tr>\n",
       "      <th>1649</th>\n",
       "      <td>32</td>\n",
       "      <td>78</td>\n",
       "      <td>22</td>\n",
       "      <td>23.970814</td>\n",
       "      <td>62.355576</td>\n",
       "      <td>7.007038</td>\n",
       "      <td>53.409060</td>\n",
       "    </tr>\n",
       "  </tbody>\n",
       "</table>\n",
       "<p>1650 rows × 7 columns</p>\n",
       "</div>"
      ],
      "text/plain": [
       "        N    P    K  temperature   humidity        ph    rainfall\n",
       "0      22   36   16    30.581395  50.771481  8.184229   64.585596\n",
       "1      18   27   41    22.365094  92.308824  7.175344  104.821633\n",
       "2      61   68   50    35.214628  91.497251  6.793245  243.074507\n",
       "3      26   72   22    28.767949  37.577921  4.674942   91.720849\n",
       "4       2  140  197    22.697801  92.822234  5.534567  105.050823\n",
       "...   ...  ...  ...          ...        ...       ...         ...\n",
       "1645   10    5    5    21.213070  91.353492  7.817846  112.983436\n",
       "1646  108   94   47    27.359116  84.546250  6.387431   90.812505\n",
       "1647   11   36   31    27.920633  51.779659  6.475449  100.258567\n",
       "1648   11  124  204    13.429886  80.066340  6.361141   71.400430\n",
       "1649   32   78   22    23.970814  62.355576  7.007038   53.409060\n",
       "\n",
       "[1650 rows x 7 columns]"
      ]
     },
     "execution_count": 5,
     "metadata": {},
     "output_type": "execute_result"
    }
   ],
   "source": [
    "train_y = train_data['label']\n",
    "train_x = train_data.drop('label', axis = 1)\n",
    "train_x"
   ]
  },
  {
   "cell_type": "code",
   "execution_count": 6,
   "id": "562452c1",
   "metadata": {
    "execution": {
     "iopub.execute_input": "2022-09-22T04:00:23.715288Z",
     "iopub.status.busy": "2022-09-22T04:00:23.714855Z",
     "iopub.status.idle": "2022-09-22T04:00:25.546917Z",
     "shell.execute_reply": "2022-09-22T04:00:25.545812Z"
    },
    "papermill": {
     "duration": 1.841868,
     "end_time": "2022-09-22T04:00:25.549410",
     "exception": false,
     "start_time": "2022-09-22T04:00:23.707542",
     "status": "completed"
    },
    "tags": []
   },
   "outputs": [
    {
     "data": {
      "text/plain": [
       "tensor([13, 19, 17,  ..., 12,  7, 10])"
      ]
     },
     "execution_count": 6,
     "metadata": {},
     "output_type": "execute_result"
    }
   ],
   "source": [
    "import torch\n",
    "import torch.optim as optim\n",
    "\n",
    "torch.manual_seed(1)\n",
    "x_train = torch.FloatTensor(train_x.values)\n",
    "x_test = torch.FloatTensor(test_data.values)\n",
    "y_train = torch.LongTensor(train_y.values)\n",
    "\n",
    "\n",
    "y_train"
   ]
  },
  {
   "cell_type": "code",
   "execution_count": null,
   "id": "d80f17c7",
   "metadata": {
    "papermill": {
     "duration": 0.005866,
     "end_time": "2022-09-22T04:00:25.561474",
     "exception": false,
     "start_time": "2022-09-22T04:00:25.555608",
     "status": "completed"
    },
    "tags": []
   },
   "outputs": [],
   "source": []
  },
  {
   "cell_type": "code",
   "execution_count": 7,
   "id": "44fd8fbd",
   "metadata": {
    "execution": {
     "iopub.execute_input": "2022-09-22T04:00:25.576013Z",
     "iopub.status.busy": "2022-09-22T04:00:25.575424Z",
     "iopub.status.idle": "2022-09-22T04:00:25.586297Z",
     "shell.execute_reply": "2022-09-22T04:00:25.584514Z"
    },
    "papermill": {
     "duration": 0.021107,
     "end_time": "2022-09-22T04:00:25.588833",
     "exception": false,
     "start_time": "2022-09-22T04:00:25.567726",
     "status": "completed"
    },
    "tags": []
   },
   "outputs": [
    {
     "name": "stdout",
     "output_type": "stream",
     "text": [
      "tensor([[13],\n",
      "        [19],\n",
      "        [17],\n",
      "        ...,\n",
      "        [12],\n",
      "        [ 7],\n",
      "        [10]])\n"
     ]
    }
   ],
   "source": [
    "print(y_train.unsqueeze(1))"
   ]
  },
  {
   "cell_type": "code",
   "execution_count": 8,
   "id": "15fc4b2a",
   "metadata": {
    "execution": {
     "iopub.execute_input": "2022-09-22T04:00:25.603054Z",
     "iopub.status.busy": "2022-09-22T04:00:25.602672Z",
     "iopub.status.idle": "2022-09-22T04:00:25.618704Z",
     "shell.execute_reply": "2022-09-22T04:00:25.617256Z"
    },
    "papermill": {
     "duration": 0.026056,
     "end_time": "2022-09-22T04:00:25.621117",
     "exception": false,
     "start_time": "2022-09-22T04:00:25.595061",
     "status": "completed"
    },
    "tags": []
   },
   "outputs": [
    {
     "name": "stdout",
     "output_type": "stream",
     "text": [
      "tensor([13, 19, 17,  ..., 12,  7, 10])\n",
      "tensor([[13],\n",
      "        [19],\n",
      "        [17],\n",
      "        ...,\n",
      "        [12],\n",
      "        [ 7],\n",
      "        [10]])\n",
      "tensor([[0., 0., 0.,  ..., 0., 0., 0.],\n",
      "        [0., 0., 0.,  ..., 1., 0., 0.],\n",
      "        [0., 0., 0.,  ..., 0., 0., 0.],\n",
      "        ...,\n",
      "        [0., 0., 0.,  ..., 0., 0., 0.],\n",
      "        [0., 0., 0.,  ..., 0., 0., 0.],\n",
      "        [0., 0., 0.,  ..., 0., 0., 0.]])\n"
     ]
    }
   ],
   "source": [
    "print(y_train)\n",
    "print(y_train.unsqueeze(1))\n",
    "nb_class = 22\n",
    "nb_data = len(y_train)\n",
    "\n",
    "y_one_hot = torch.zeros(nb_data, nb_class)\n",
    "y_one_hot.scatter_(1, y_train.unsqueeze(1), 1)\n",
    "\n",
    "print(y_one_hot)"
   ]
  },
  {
   "cell_type": "code",
   "execution_count": 9,
   "id": "60c628b8",
   "metadata": {
    "execution": {
     "iopub.execute_input": "2022-09-22T04:00:25.636299Z",
     "iopub.status.busy": "2022-09-22T04:00:25.635223Z",
     "iopub.status.idle": "2022-09-22T04:00:53.478129Z",
     "shell.execute_reply": "2022-09-22T04:00:53.476278Z"
    },
    "papermill": {
     "duration": 27.853441,
     "end_time": "2022-09-22T04:00:53.480947",
     "exception": false,
     "start_time": "2022-09-22T04:00:25.627506",
     "status": "completed"
    },
    "tags": []
   },
   "outputs": [
    {
     "name": "stdout",
     "output_type": "stream",
     "text": [
      "Epoch    0/29000 Cost: 3.091043\n",
      "Epoch 1000/29000 Cost: 0.837254\n",
      "Epoch 2000/29000 Cost: 0.601120\n",
      "Epoch 3000/29000 Cost: 0.492789\n",
      "Epoch 4000/29000 Cost: 0.428235\n",
      "Epoch 5000/29000 Cost: 0.384508\n",
      "Epoch 6000/29000 Cost: 0.352506\n",
      "Epoch 7000/29000 Cost: 0.327842\n",
      "Epoch 8000/29000 Cost: 0.308112\n",
      "Epoch 9000/29000 Cost: 0.291883\n",
      "Epoch 10000/29000 Cost: 0.278241\n",
      "Epoch 11000/29000 Cost: 0.266572\n",
      "Epoch 12000/29000 Cost: 0.256448\n",
      "Epoch 13000/29000 Cost: 0.247558\n",
      "Epoch 14000/29000 Cost: 0.239675\n",
      "Epoch 15000/29000 Cost: 0.232622\n",
      "Epoch 16000/29000 Cost: 0.226267\n",
      "Epoch 17000/29000 Cost: 0.220501\n",
      "Epoch 18000/29000 Cost: 0.215240\n",
      "Epoch 19000/29000 Cost: 0.210415\n",
      "Epoch 20000/29000 Cost: 0.205970\n",
      "Epoch 21000/29000 Cost: 0.201857\n",
      "Epoch 22000/29000 Cost: 0.198038\n",
      "Epoch 23000/29000 Cost: 0.194480\n",
      "Epoch 24000/29000 Cost: 0.191154\n",
      "Epoch 25000/29000 Cost: 0.188036\n",
      "Epoch 26000/29000 Cost: 0.185106\n",
      "Epoch 27000/29000 Cost: 0.182346\n",
      "Epoch 28000/29000 Cost: 0.179739\n",
      "Epoch 29000/29000 Cost: 0.177273\n"
     ]
    }
   ],
   "source": [
    "import torch.nn.functional as F  # for softmax\n",
    "\n",
    "nb_class = 22\n",
    "nb_data = len(y_train)\n",
    "\n",
    "W = torch.zeros((7, nb_class), requires_grad=True)\n",
    "b = torch.zeros(1, requires_grad=True)\n",
    "# optimizer 설정\n",
    "optimizer = optim.SGD([W, b], lr=0.0001)\n",
    "nb_epochs = 29000\n",
    "for epoch in range(nb_epochs + 1):\n",
    "\n",
    "    # Cost 계산 (1)\n",
    "    hypothesis = F.softmax(x_train.matmul(W) + b, dim=1) # or .mm or @\n",
    "    \n",
    "    # cost 표현번 1번 예시\n",
    "    y_one_hot = torch.zeros(nb_data, nb_class)\n",
    "    y_one_hot.scatter_(1, y_train.unsqueeze(1), 1)\n",
    "    cost = (y_one_hot * -torch.log(hypothesis)).sum(dim=1).mean()\n",
    "    \n",
    "    # cost 표현법 2번 예시\n",
    "    # cross_entropy를 사용하면 scatter 함수를 이용한 one_hot_encoding을 안해도 됨\n",
    "    #cost = F.cross_entropy((x_train.matmul(W) + b), y_train)\n",
    "\n",
    "    # cost로 H(x) 개선\n",
    "    optimizer.zero_grad()\n",
    "    cost.backward()\n",
    "    optimizer.step()\n",
    "\n",
    "    # 100번마다 로그 출력\n",
    "    if epoch % 1000 == 0:\n",
    "        print('Epoch {:4d}/{} Cost: {:.6f}'.format(\n",
    "            epoch, nb_epochs, cost.item()\n",
    "        ))"
   ]
  },
  {
   "cell_type": "code",
   "execution_count": 10,
   "id": "e1db91dd",
   "metadata": {
    "execution": {
     "iopub.execute_input": "2022-09-22T04:00:53.503106Z",
     "iopub.status.busy": "2022-09-22T04:00:53.502676Z",
     "iopub.status.idle": "2022-09-22T04:00:53.513175Z",
     "shell.execute_reply": "2022-09-22T04:00:53.511943Z"
    },
    "papermill": {
     "duration": 0.025169,
     "end_time": "2022-09-22T04:00:53.516011",
     "exception": false,
     "start_time": "2022-09-22T04:00:53.490842",
     "status": "completed"
    },
    "tags": []
   },
   "outputs": [
    {
     "data": {
      "text/plain": [
       "tensor([[8.3855e-04, 1.2141e-04, 7.3750e-02,  ..., 4.7158e-04, 8.4097e-06,\n",
       "         4.7212e-05],\n",
       "        [3.3064e-04, 2.0144e-08, 2.2022e-07,  ..., 9.1949e-01, 2.7052e-07,\n",
       "         2.4676e-06],\n",
       "        [5.1154e-04, 6.2357e-06, 4.8805e-06,  ..., 1.5217e-06, 2.6587e-01,\n",
       "         7.8421e-08],\n",
       "        ...,\n",
       "        [8.9316e-03, 1.3145e-05, 3.8897e-04,  ..., 3.8861e-03, 5.3688e-05,\n",
       "         3.5753e-06],\n",
       "        [5.7218e-02, 4.9775e-09, 1.4282e-25,  ..., 1.0341e-06, 2.0760e-28,\n",
       "         9.5451e-17],\n",
       "        [4.4975e-05, 2.3021e-04, 1.0120e-01,  ..., 4.8437e-08, 4.0261e-10,\n",
       "         1.0297e-08]], grad_fn=<SoftmaxBackward0>)"
      ]
     },
     "execution_count": 10,
     "metadata": {},
     "output_type": "execute_result"
    }
   ],
   "source": [
    "hypothesis = F.softmax(x_train.matmul(W) + b, dim=1)\n",
    "hypothesis"
   ]
  },
  {
   "cell_type": "code",
   "execution_count": 11,
   "id": "222580ac",
   "metadata": {
    "execution": {
     "iopub.execute_input": "2022-09-22T04:00:53.536178Z",
     "iopub.status.busy": "2022-09-22T04:00:53.535729Z",
     "iopub.status.idle": "2022-09-22T04:00:53.548825Z",
     "shell.execute_reply": "2022-09-22T04:00:53.547076Z"
    },
    "papermill": {
     "duration": 0.025741,
     "end_time": "2022-09-22T04:00:53.551663",
     "exception": false,
     "start_time": "2022-09-22T04:00:53.525922",
     "status": "completed"
    },
    "tags": []
   },
   "outputs": [
    {
     "name": "stdout",
     "output_type": "stream",
     "text": [
      "tensor([[8.3855e-04, 1.2141e-04, 7.3750e-02,  ..., 4.7158e-04, 8.4097e-06,\n",
      "         4.7212e-05],\n",
      "        [3.3064e-04, 2.0144e-08, 2.2022e-07,  ..., 9.1949e-01, 2.7052e-07,\n",
      "         2.4676e-06],\n",
      "        [5.1154e-04, 6.2357e-06, 4.8805e-06,  ..., 1.5217e-06, 2.6587e-01,\n",
      "         7.8421e-08],\n",
      "        ...,\n",
      "        [8.9316e-03, 1.3145e-05, 3.8897e-04,  ..., 3.8861e-03, 5.3688e-05,\n",
      "         3.5753e-06],\n",
      "        [5.7218e-02, 4.9775e-09, 1.4282e-25,  ..., 1.0341e-06, 2.0760e-28,\n",
      "         9.5451e-17],\n",
      "        [4.4975e-05, 2.3021e-04, 1.0120e-01,  ..., 4.8437e-08, 4.0261e-10,\n",
      "         1.0297e-08]], grad_fn=<SoftmaxBackward0>)\n",
      "tensor([13, 19, 17,  ..., 12,  7, 10])\n",
      "tensor([13, 19, 17,  ..., 12,  7, 10])\n",
      "tensor([True, True, True,  ..., True, True, True])\n",
      "The model has an accuracy of 95.76% for the training set.\n"
     ]
    }
   ],
   "source": [
    "predict = torch.argmax(hypothesis, dim=1)\n",
    "print(hypothesis)\n",
    "print(predict)\n",
    "print(y_train)\n",
    "\n",
    "\n",
    "# 정확도 계산 \n",
    "correct_prediction = predict.float() == y_train\n",
    "print(correct_prediction)\n",
    "accuracy = correct_prediction.sum().item() / len(correct_prediction)\n",
    "print('The model has an accuracy of {:2.2f}% for the training set.'.format(accuracy * 100))\n"
   ]
  },
  {
   "cell_type": "code",
   "execution_count": 12,
   "id": "dc1bd875",
   "metadata": {
    "execution": {
     "iopub.execute_input": "2022-09-22T04:00:53.571473Z",
     "iopub.status.busy": "2022-09-22T04:00:53.571035Z",
     "iopub.status.idle": "2022-09-22T04:00:53.583311Z",
     "shell.execute_reply": "2022-09-22T04:00:53.582467Z"
    },
    "papermill": {
     "duration": 0.024351,
     "end_time": "2022-09-22T04:00:53.585637",
     "exception": false,
     "start_time": "2022-09-22T04:00:53.561286",
     "status": "completed"
    },
    "tags": []
   },
   "outputs": [
    {
     "data": {
      "text/plain": [
       "tensor([[3.1714e-10, 1.1600e-06, 1.1055e-10,  ..., 2.8246e-06, 5.4108e-13,\n",
       "         1.9884e-02],\n",
       "        [2.6731e-08, 2.1535e-05, 1.4616e-10,  ..., 2.1048e-04, 1.4793e-09,\n",
       "         9.8861e-01],\n",
       "        [2.1213e-03, 7.8475e-04, 2.4084e-03,  ..., 9.0727e-04, 2.3915e-07,\n",
       "         1.8779e-04],\n",
       "        ...,\n",
       "        [4.6946e-03, 1.2458e-03, 1.1202e-10,  ..., 1.4128e-08, 8.7716e-11,\n",
       "         1.8449e-08],\n",
       "        [1.4043e-08, 4.1620e-05, 5.8025e-08,  ..., 1.4614e-09, 3.2859e-03,\n",
       "         4.4911e-04],\n",
       "        [1.1446e-04, 1.5700e-05, 2.3039e-05,  ..., 4.7781e-05, 3.1266e-01,\n",
       "         1.6470e-05]], grad_fn=<SoftmaxBackward0>)"
      ]
     },
     "execution_count": 12,
     "metadata": {},
     "output_type": "execute_result"
    }
   ],
   "source": [
    "hypothesis = F.softmax(x_test.matmul(W) + b, dim=1)\n",
    "hypothesis"
   ]
  },
  {
   "cell_type": "code",
   "execution_count": 13,
   "id": "7c985c15",
   "metadata": {
    "execution": {
     "iopub.execute_input": "2022-09-22T04:00:53.604057Z",
     "iopub.status.busy": "2022-09-22T04:00:53.603577Z",
     "iopub.status.idle": "2022-09-22T04:00:53.615276Z",
     "shell.execute_reply": "2022-09-22T04:00:53.613577Z"
    },
    "papermill": {
     "duration": 0.023784,
     "end_time": "2022-09-22T04:00:53.617745",
     "exception": false,
     "start_time": "2022-09-22T04:00:53.593961",
     "status": "completed"
    },
    "tags": []
   },
   "outputs": [
    {
     "name": "stdout",
     "output_type": "stream",
     "text": [
      "tensor([[3.1714e-10, 1.1600e-06, 1.1055e-10,  ..., 2.8246e-06, 5.4108e-13,\n",
      "         1.9884e-02],\n",
      "        [2.6731e-08, 2.1535e-05, 1.4616e-10,  ..., 2.1048e-04, 1.4793e-09,\n",
      "         9.8861e-01],\n",
      "        [2.1213e-03, 7.8475e-04, 2.4084e-03,  ..., 9.0727e-04, 2.3915e-07,\n",
      "         1.8779e-04],\n",
      "        ...,\n",
      "        [4.6946e-03, 1.2458e-03, 1.1202e-10,  ..., 1.4128e-08, 8.7716e-11,\n",
      "         1.8449e-08],\n",
      "        [1.4043e-08, 4.1620e-05, 5.8025e-08,  ..., 1.4614e-09, 3.2859e-03,\n",
      "         4.4911e-04],\n",
      "        [1.1446e-04, 1.5700e-05, 2.3039e-05,  ..., 4.7781e-05, 3.1266e-01,\n",
      "         1.6470e-05]], grad_fn=<SoftmaxBackward0>)\n",
      "tensor([15, 21, 17, 17,  0, 12,  0, 13, 14, 10,  2,  4, 19,  8,  4, 19,  0,  6,\n",
      "        17, 15,  5, 17, 16, 17,  3,  8, 14, 16, 18, 20, 19, 10,  8, 10,  8,  2,\n",
      "         8,  3,  3,  9, 17, 12,  2, 11, 14, 11, 18,  4, 15, 11,  2,  5,  7, 14,\n",
      "         5,  9,  6,  0,  1, 10, 21,  4, 10, 16, 17,  2, 16, 20, 15, 18, 15,  4,\n",
      "         8,  1,  2, 17,  1,  6, 21, 16,  5,  3,  8, 13, 16, 12,  5, 13,  2, 19,\n",
      "        11, 13,  6, 17, 18, 13,  9,  5,  2, 10,  4, 20, 16, 15, 21,  9, 21,  1,\n",
      "        18, 13,  1,  8,  6, 19, 18,  3, 11,  4, 19, 20, 18,  7,  2,  4,  3, 13,\n",
      "         4, 11,  1, 13,  1,  9, 19,  3,  4, 16, 18,  1,  1,  0,  9, 15, 14,  2,\n",
      "         4, 11,  0,  4,  9, 13, 14, 10, 21, 14, 18,  2, 18,  9, 11,  8,  3,  0,\n",
      "        16,  6, 20,  4,  7, 10, 21,  7,  7,  2, 19,  3,  4, 11, 10,  7, 21,  8,\n",
      "         5,  5,  9,  8, 13,  9,  1, 18,  4, 17, 17, 14, 12, 19, 21,  9, 11,  0,\n",
      "         2,  3,  7,  7,  1,  6, 20, 19, 14,  1,  8, 14, 11,  3,  3,  3,  0, 20,\n",
      "         9, 17,  5,  2,  9, 12, 12,  4, 17,  0,  3, 19,  3, 15,  0, 15, 15, 12,\n",
      "        12,  6,  4, 19, 20, 15,  5, 17, 10, 11, 12, 15, 18, 14,  5,  7,  4,  6,\n",
      "        18, 20,  0, 19,  5,  3,  6,  8, 12,  1, 17,  0,  3,  8, 18, 13, 14,  8,\n",
      "        19,  7, 13, 17,  6,  4,  6,  3,  1,  8,  4,  5, 12, 15,  0,  1, 18, 13,\n",
      "        16,  3, 21,  1,  0,  3,  5, 18, 16,  0,  4, 17, 21, 13, 20,  3, 19,  3,\n",
      "        10, 10,  0, 19,  3, 12,  3, 19, 21,  9, 14, 15, 21,  9, 15, 12,  8,  2,\n",
      "         3,  1, 10, 18, 17,  9, 14,  4,  6,  7,  0, 10,  1,  8,  0, 19,  0, 14,\n",
      "        15,  5,  5, 18,  8,  9,  1, 11,  8,  6, 18, 12,  9, 19, 21,  2, 11, 20,\n",
      "        14,  9, 12,  6, 17, 13,  6, 14, 16, 20,  2, 14,  5,  1, 18, 18,  0, 19,\n",
      "        11, 12,  4,  0, 10,  8, 13, 10,  4,  2,  8, 14,  6, 21,  0,  7,  4,  7,\n",
      "        21, 20, 12, 12,  5, 19,  1,  7,  8, 16,  6, 12, 17, 15, 13,  8,  3, 13,\n",
      "        19, 21,  2,  6, 17, 21, 13, 20,  4, 13, 14, 11, 20, 11,  4, 16, 19,  9,\n",
      "        21, 14,  2, 20, 20,  6,  6, 18, 16,  2, 10,  1, 12, 11,  0, 19, 12,  6,\n",
      "        14, 18,  3,  0,  5, 18,  8,  8,  8, 17, 10,  7,  8, 16, 14, 12,  9,  7,\n",
      "        14, 16, 18,  1,  8, 18, 19,  5, 15,  2, 17, 17, 19,  9,  3, 14, 14, 12,\n",
      "         2, 15, 12, 13, 18, 15, 20, 19, 15,  9,  0, 14,  8,  9,  0, 20, 12, 17,\n",
      "        13,  6, 19, 18, 17, 10, 11,  3, 15,  6,  9,  3, 14,  5,  5, 16, 21, 16,\n",
      "         7,  5, 18, 12,  0, 12, 19,  5, 18,  5,  7,  6, 19, 17,  0,  2, 18, 21,\n",
      "        17,  2,  7, 10,  8,  5, 17,  3,  5,  8])\n"
     ]
    }
   ],
   "source": [
    "predict = torch.argmax(hypothesis, dim=1)\n",
    "print(hypothesis)\n",
    "print(predict)"
   ]
  },
  {
   "cell_type": "code",
   "execution_count": 14,
   "id": "a724738b",
   "metadata": {
    "execution": {
     "iopub.execute_input": "2022-09-22T04:00:53.637064Z",
     "iopub.status.busy": "2022-09-22T04:00:53.636404Z",
     "iopub.status.idle": "2022-09-22T04:00:53.653955Z",
     "shell.execute_reply": "2022-09-22T04:00:53.653145Z"
    },
    "papermill": {
     "duration": 0.029759,
     "end_time": "2022-09-22T04:00:53.656090",
     "exception": false,
     "start_time": "2022-09-22T04:00:53.626331",
     "status": "completed"
    },
    "tags": []
   },
   "outputs": [
    {
     "data": {
      "text/html": [
       "<div>\n",
       "<style scoped>\n",
       "    .dataframe tbody tr th:only-of-type {\n",
       "        vertical-align: middle;\n",
       "    }\n",
       "\n",
       "    .dataframe tbody tr th {\n",
       "        vertical-align: top;\n",
       "    }\n",
       "\n",
       "    .dataframe thead th {\n",
       "        text-align: right;\n",
       "    }\n",
       "</style>\n",
       "<table border=\"1\" class=\"dataframe\">\n",
       "  <thead>\n",
       "    <tr style=\"text-align: right;\">\n",
       "      <th></th>\n",
       "      <th>id</th>\n",
       "      <th>label</th>\n",
       "    </tr>\n",
       "  </thead>\n",
       "  <tbody>\n",
       "    <tr>\n",
       "      <th>0</th>\n",
       "      <td>0</td>\n",
       "      <td>15</td>\n",
       "    </tr>\n",
       "    <tr>\n",
       "      <th>1</th>\n",
       "      <td>1</td>\n",
       "      <td>21</td>\n",
       "    </tr>\n",
       "    <tr>\n",
       "      <th>2</th>\n",
       "      <td>2</td>\n",
       "      <td>17</td>\n",
       "    </tr>\n",
       "    <tr>\n",
       "      <th>3</th>\n",
       "      <td>3</td>\n",
       "      <td>17</td>\n",
       "    </tr>\n",
       "    <tr>\n",
       "      <th>4</th>\n",
       "      <td>4</td>\n",
       "      <td>0</td>\n",
       "    </tr>\n",
       "    <tr>\n",
       "      <th>...</th>\n",
       "      <td>...</td>\n",
       "      <td>...</td>\n",
       "    </tr>\n",
       "    <tr>\n",
       "      <th>545</th>\n",
       "      <td>545</td>\n",
       "      <td>5</td>\n",
       "    </tr>\n",
       "    <tr>\n",
       "      <th>546</th>\n",
       "      <td>546</td>\n",
       "      <td>17</td>\n",
       "    </tr>\n",
       "    <tr>\n",
       "      <th>547</th>\n",
       "      <td>547</td>\n",
       "      <td>3</td>\n",
       "    </tr>\n",
       "    <tr>\n",
       "      <th>548</th>\n",
       "      <td>548</td>\n",
       "      <td>5</td>\n",
       "    </tr>\n",
       "    <tr>\n",
       "      <th>549</th>\n",
       "      <td>549</td>\n",
       "      <td>8</td>\n",
       "    </tr>\n",
       "  </tbody>\n",
       "</table>\n",
       "<p>550 rows × 2 columns</p>\n",
       "</div>"
      ],
      "text/plain": [
       "      id  label\n",
       "0      0     15\n",
       "1      1     21\n",
       "2      2     17\n",
       "3      3     17\n",
       "4      4      0\n",
       "..   ...    ...\n",
       "545  545      5\n",
       "546  546     17\n",
       "547  547      3\n",
       "548  548      5\n",
       "549  549      8\n",
       "\n",
       "[550 rows x 2 columns]"
      ]
     },
     "execution_count": 14,
     "metadata": {},
     "output_type": "execute_result"
    }
   ],
   "source": [
    "submit = pd.DataFrame()\n",
    "\n",
    "submit['id'] = pd.Series(range(len(predict)))\n",
    "submit['label'] = predict.detach().numpy()\n",
    "\n",
    "submit"
   ]
  },
  {
   "cell_type": "code",
   "execution_count": 15,
   "id": "42bd1dd5",
   "metadata": {
    "execution": {
     "iopub.execute_input": "2022-09-22T04:00:53.675411Z",
     "iopub.status.busy": "2022-09-22T04:00:53.674956Z",
     "iopub.status.idle": "2022-09-22T04:00:53.683291Z",
     "shell.execute_reply": "2022-09-22T04:00:53.682430Z"
    },
    "papermill": {
     "duration": 0.020595,
     "end_time": "2022-09-22T04:00:53.685551",
     "exception": false,
     "start_time": "2022-09-22T04:00:53.664956",
     "status": "completed"
    },
    "tags": []
   },
   "outputs": [],
   "source": [
    "submit['label'] = cls.inverse_transform(submit['label'].values)"
   ]
  },
  {
   "cell_type": "code",
   "execution_count": 16,
   "id": "7c81bfdd",
   "metadata": {
    "execution": {
     "iopub.execute_input": "2022-09-22T04:00:53.705178Z",
     "iopub.status.busy": "2022-09-22T04:00:53.704466Z",
     "iopub.status.idle": "2022-09-22T04:00:53.716156Z",
     "shell.execute_reply": "2022-09-22T04:00:53.715049Z"
    },
    "papermill": {
     "duration": 0.024183,
     "end_time": "2022-09-22T04:00:53.718487",
     "exception": false,
     "start_time": "2022-09-22T04:00:53.694304",
     "status": "completed"
    },
    "tags": []
   },
   "outputs": [
    {
     "data": {
      "text/html": [
       "<div>\n",
       "<style scoped>\n",
       "    .dataframe tbody tr th:only-of-type {\n",
       "        vertical-align: middle;\n",
       "    }\n",
       "\n",
       "    .dataframe tbody tr th {\n",
       "        vertical-align: top;\n",
       "    }\n",
       "\n",
       "    .dataframe thead th {\n",
       "        text-align: right;\n",
       "    }\n",
       "</style>\n",
       "<table border=\"1\" class=\"dataframe\">\n",
       "  <thead>\n",
       "    <tr style=\"text-align: right;\">\n",
       "      <th></th>\n",
       "      <th>id</th>\n",
       "      <th>label</th>\n",
       "    </tr>\n",
       "  </thead>\n",
       "  <tbody>\n",
       "    <tr>\n",
       "      <th>0</th>\n",
       "      <td>0</td>\n",
       "      <td>muskmelon</td>\n",
       "    </tr>\n",
       "    <tr>\n",
       "      <th>1</th>\n",
       "      <td>1</td>\n",
       "      <td>watermelon</td>\n",
       "    </tr>\n",
       "    <tr>\n",
       "      <th>2</th>\n",
       "      <td>2</td>\n",
       "      <td>papaya</td>\n",
       "    </tr>\n",
       "    <tr>\n",
       "      <th>3</th>\n",
       "      <td>3</td>\n",
       "      <td>papaya</td>\n",
       "    </tr>\n",
       "    <tr>\n",
       "      <th>4</th>\n",
       "      <td>4</td>\n",
       "      <td>apple</td>\n",
       "    </tr>\n",
       "    <tr>\n",
       "      <th>...</th>\n",
       "      <td>...</td>\n",
       "      <td>...</td>\n",
       "    </tr>\n",
       "    <tr>\n",
       "      <th>545</th>\n",
       "      <td>545</td>\n",
       "      <td>coffee</td>\n",
       "    </tr>\n",
       "    <tr>\n",
       "      <th>546</th>\n",
       "      <td>546</td>\n",
       "      <td>papaya</td>\n",
       "    </tr>\n",
       "    <tr>\n",
       "      <th>547</th>\n",
       "      <td>547</td>\n",
       "      <td>chickpea</td>\n",
       "    </tr>\n",
       "    <tr>\n",
       "      <th>548</th>\n",
       "      <td>548</td>\n",
       "      <td>coffee</td>\n",
       "    </tr>\n",
       "    <tr>\n",
       "      <th>549</th>\n",
       "      <td>549</td>\n",
       "      <td>jute</td>\n",
       "    </tr>\n",
       "  </tbody>\n",
       "</table>\n",
       "<p>550 rows × 2 columns</p>\n",
       "</div>"
      ],
      "text/plain": [
       "      id       label\n",
       "0      0   muskmelon\n",
       "1      1  watermelon\n",
       "2      2      papaya\n",
       "3      3      papaya\n",
       "4      4       apple\n",
       "..   ...         ...\n",
       "545  545      coffee\n",
       "546  546      papaya\n",
       "547  547    chickpea\n",
       "548  548      coffee\n",
       "549  549        jute\n",
       "\n",
       "[550 rows x 2 columns]"
      ]
     },
     "execution_count": 16,
     "metadata": {},
     "output_type": "execute_result"
    }
   ],
   "source": [
    "submit"
   ]
  },
  {
   "cell_type": "code",
   "execution_count": 17,
   "id": "cb083120",
   "metadata": {
    "execution": {
     "iopub.execute_input": "2022-09-22T04:00:53.738885Z",
     "iopub.status.busy": "2022-09-22T04:00:53.737916Z",
     "iopub.status.idle": "2022-09-22T04:00:53.747259Z",
     "shell.execute_reply": "2022-09-22T04:00:53.746174Z"
    },
    "papermill": {
     "duration": 0.022062,
     "end_time": "2022-09-22T04:00:53.749645",
     "exception": false,
     "start_time": "2022-09-22T04:00:53.727583",
     "status": "completed"
    },
    "tags": []
   },
   "outputs": [],
   "source": [
    "submit.to_csv('submit.csv', index = None)"
   ]
  },
  {
   "cell_type": "code",
   "execution_count": 18,
   "id": "e07d9c41",
   "metadata": {
    "execution": {
     "iopub.execute_input": "2022-09-22T04:00:53.770117Z",
     "iopub.status.busy": "2022-09-22T04:00:53.768969Z",
     "iopub.status.idle": "2022-09-22T04:00:53.773644Z",
     "shell.execute_reply": "2022-09-22T04:00:53.772613Z"
    },
    "papermill": {
     "duration": 0.01721,
     "end_time": "2022-09-22T04:00:53.775897",
     "exception": false,
     "start_time": "2022-09-22T04:00:53.758687",
     "status": "completed"
    },
    "tags": []
   },
   "outputs": [],
   "source": [
    "# yo="
   ]
  }
 ],
 "metadata": {
  "kernelspec": {
   "display_name": "Python 3",
   "language": "python",
   "name": "python3"
  },
  "language_info": {
   "codemirror_mode": {
    "name": "ipython",
    "version": 3
   },
   "file_extension": ".py",
   "mimetype": "text/x-python",
   "name": "python",
   "nbconvert_exporter": "python",
   "pygments_lexer": "ipython3",
   "version": "3.7.12"
  },
  "papermill": {
   "default_parameters": {},
   "duration": 42.035614,
   "end_time": "2022-09-22T04:00:54.809050",
   "environment_variables": {},
   "exception": null,
   "input_path": "__notebook__.ipynb",
   "output_path": "__notebook__.ipynb",
   "parameters": {},
   "start_time": "2022-09-22T04:00:12.773436",
   "version": "2.3.4"
  }
 },
 "nbformat": 4,
 "nbformat_minor": 5
}
