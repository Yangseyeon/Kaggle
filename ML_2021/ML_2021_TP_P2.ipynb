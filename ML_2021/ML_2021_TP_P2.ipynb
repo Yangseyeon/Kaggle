{
 "cells": [
  {
   "cell_type": "code",
   "execution_count": 1,
   "id": "advisory-tiffany",
   "metadata": {
    "_cell_guid": "b1076dfc-b9ad-4769-8c92-a6c4dae69d19",
    "_uuid": "8f2839f25d086af736a60e9eeb907d3b93b6e0e5",
    "execution": {
     "iopub.execute_input": "2021-05-27T09:04:19.868458Z",
     "iopub.status.busy": "2021-05-27T09:04:19.867431Z",
     "iopub.status.idle": "2021-05-27T09:04:19.874368Z",
     "shell.execute_reply": "2021-05-27T09:04:19.873643Z",
     "shell.execute_reply.started": "2021-05-27T09:00:46.441944Z"
    },
    "papermill": {
     "duration": 0.027629,
     "end_time": "2021-05-27T09:04:19.874558",
     "exception": false,
     "start_time": "2021-05-27T09:04:19.846929",
     "status": "completed"
    },
    "tags": []
   },
   "outputs": [
    {
     "name": "stdout",
     "output_type": "stream",
     "text": [
      "/kaggle/input/2021-ml-tp2-spam/train.csv\n",
      "/kaggle/input/2021-ml-tp2-spam/test.csv\n",
      "/kaggle/input/2021-ml-tp2-spam/sample_submit.csv\n"
     ]
    }
   ],
   "source": [
    "# This Python 3 environment comes with many helpful analytics libraries installed\n",
    "# It is defined by the kaggle/python Docker image: https://github.com/kaggle/docker-python\n",
    "# For example, here's several helpful packages to load\n",
    "\n",
    "import numpy as np # linear algebra\n",
    "import pandas as pd # data processing, CSV file I/O (e.g. pd.read_csv)\n",
    "\n",
    "# Input data files are available in the read-only \"../input/\" directory\n",
    "# For example, running this (by clicking run or pressing Shift+Enter) will list all files under the input directory\n",
    "\n",
    "import os\n",
    "for dirname, _, filenames in os.walk('/kaggle/input'):\n",
    "    for filename in filenames:\n",
    "        print(os.path.join(dirname, filename))\n",
    "\n",
    "# You can write up to 20GB to the current directory (/kaggle/working/) that gets preserved as output when you create a version using \"Save & Run All\" \n",
    "# You can also write temporary files to /kaggle/temp/, but they won't be saved outside of the current session"
   ]
  },
  {
   "cell_type": "code",
   "execution_count": 2,
   "id": "classical-simulation",
   "metadata": {
    "execution": {
     "iopub.execute_input": "2021-05-27T09:04:19.905993Z",
     "iopub.status.busy": "2021-05-27T09:04:19.905251Z",
     "iopub.status.idle": "2021-05-27T09:04:21.815415Z",
     "shell.execute_reply": "2021-05-27T09:04:21.814713Z",
     "shell.execute_reply.started": "2021-05-27T09:01:13.613604Z"
    },
    "papermill": {
     "duration": 1.928196,
     "end_time": "2021-05-27T09:04:21.815601",
     "exception": false,
     "start_time": "2021-05-27T09:04:19.887405",
     "status": "completed"
    },
    "tags": []
   },
   "outputs": [],
   "source": [
    "import numpy as np # linear algebra\n",
    "import pandas as pd # data processing, CSV file I/O (e.g. pd.read_csv)\n",
    "import re\n",
    "import nltk\n",
    "from nltk.tokenize import word_tokenize\n",
    "from nltk.corpus import stopwords"
   ]
  },
  {
   "cell_type": "code",
   "execution_count": 3,
   "id": "aggressive-delivery",
   "metadata": {
    "execution": {
     "iopub.execute_input": "2021-05-27T09:04:21.853861Z",
     "iopub.status.busy": "2021-05-27T09:04:21.849594Z",
     "iopub.status.idle": "2021-05-27T09:04:22.067502Z",
     "shell.execute_reply": "2021-05-27T09:04:22.068187Z",
     "shell.execute_reply.started": "2021-05-27T09:01:32.008286Z"
    },
    "papermill": {
     "duration": 0.240347,
     "end_time": "2021-05-27T09:04:22.068437",
     "exception": false,
     "start_time": "2021-05-27T09:04:21.828090",
     "status": "completed"
    },
    "tags": []
   },
   "outputs": [
    {
     "name": "stdout",
     "output_type": "stream",
     "text": [
      "[nltk_data] Downloading package punkt to /usr/share/nltk_data...\n",
      "[nltk_data]   Package punkt is already up-to-date!\n",
      "[nltk_data] Downloading package stopwords to /usr/share/nltk_data...\n",
      "[nltk_data]   Package stopwords is already up-to-date!\n"
     ]
    },
    {
     "data": {
      "text/plain": [
       "True"
      ]
     },
     "execution_count": 3,
     "metadata": {},
     "output_type": "execute_result"
    }
   ],
   "source": [
    "nltk.download('punkt')\n",
    "nltk.download('stopwords')"
   ]
  },
  {
   "cell_type": "code",
   "execution_count": 4,
   "id": "vulnerable-wyoming",
   "metadata": {
    "execution": {
     "iopub.execute_input": "2021-05-27T09:04:22.105633Z",
     "iopub.status.busy": "2021-05-27T09:04:22.104699Z",
     "iopub.status.idle": "2021-05-27T09:04:22.168543Z",
     "shell.execute_reply": "2021-05-27T09:04:22.167852Z",
     "shell.execute_reply.started": "2021-05-27T09:02:17.048700Z"
    },
    "papermill": {
     "duration": 0.085322,
     "end_time": "2021-05-27T09:04:22.168715",
     "exception": false,
     "start_time": "2021-05-27T09:04:22.083393",
     "status": "completed"
    },
    "tags": []
   },
   "outputs": [
    {
     "data": {
      "text/plain": [
       "0       No I'm in the same boat. Still here at my moms...\n",
       "1       (Bank of Granite issues Strong-Buy) EXPLOSIVE ...\n",
       "2          They r giving a second chance to rahul dengra.\n",
       "3          O i played smash bros  &lt;#&gt;  religiously.\n",
       "4       PRIVATE! Your 2003 Account Statement for 07973...\n",
       "                              ...                        \n",
       "4452    I came hostel. I m going to sleep. Plz call me...\n",
       "4453                               Sorry, I'll call later\n",
       "4454        Prabha..i'm soryda..realy..frm heart i'm sory\n",
       "4455                           Nt joking seriously i told\n",
       "4456                  In work now. Going have in few min.\n",
       "Name: Data, Length: 4457, dtype: object"
      ]
     },
     "execution_count": 4,
     "metadata": {},
     "output_type": "execute_result"
    }
   ],
   "source": [
    "df_train = pd.read_csv(\"/kaggle/input/2021-ml-tp2-spam/train.csv\",encoding=\"latin-1\")\n",
    "df_test = pd.read_csv(\"/kaggle/input/2021-ml-tp2-spam/test.csv\",encoding=\"latin-1\")\n",
    "df_train.Data"
   ]
  },
  {
   "cell_type": "code",
   "execution_count": 5,
   "id": "spectacular-accountability",
   "metadata": {
    "execution": {
     "iopub.execute_input": "2021-05-27T09:04:22.203159Z",
     "iopub.status.busy": "2021-05-27T09:04:22.202323Z",
     "iopub.status.idle": "2021-05-27T09:04:22.205804Z",
     "shell.execute_reply": "2021-05-27T09:04:22.205111Z",
     "shell.execute_reply.started": "2021-05-27T09:02:27.739056Z"
    },
    "papermill": {
     "duration": 0.024104,
     "end_time": "2021-05-27T09:04:22.205998",
     "exception": false,
     "start_time": "2021-05-27T09:04:22.181894",
     "status": "completed"
    },
    "tags": []
   },
   "outputs": [],
   "source": [
    "X_train = df_train[\"Data\"]\n",
    "y_train=df_train[\"Class\"]\n",
    "X_test=df_test[\"Data\"]"
   ]
  },
  {
   "cell_type": "code",
   "execution_count": 6,
   "id": "practical-adoption",
   "metadata": {
    "execution": {
     "iopub.execute_input": "2021-05-27T09:04:22.243654Z",
     "iopub.status.busy": "2021-05-27T09:04:22.242593Z",
     "iopub.status.idle": "2021-05-27T09:04:22.245727Z",
     "shell.execute_reply": "2021-05-27T09:04:22.245163Z",
     "shell.execute_reply.started": "2021-05-27T09:02:51.795994Z"
    },
    "papermill": {
     "duration": 0.025996,
     "end_time": "2021-05-27T09:04:22.245903",
     "exception": false,
     "start_time": "2021-05-27T09:04:22.219907",
     "status": "completed"
    },
    "tags": []
   },
   "outputs": [],
   "source": [
    "# ------------------------------------------------\n",
    "# [Empty Module #1] 텍스트 데이터 전처리\n",
    "# ------------------------------------------------\n",
    "from nltk.corpus import stopwords \n",
    "from nltk.stem.porter import PorterStemmer\n",
    "\n",
    "def data_processing(text):\n",
    "    # ------------------------------------------------------------\n",
    "    # 구현 가이드라인 \n",
    "    # ------------------------------------------------------------\n",
    "    # [1] re.sub 사용해 text 속 '[^A-Za-z]' 외의 문자만을 찾아내 제거한후, pre_words 변수에 저장\n",
    "    #      1) pattern은 '[^A-Za-z]', repl=' ' 로 각각 설정.\n",
    "    #      2) 이모지나 숫자,점과 같은 문자외의 것들을 제거했다. (이모지는 감정 분석과 관련해서 몇가지 의미를 나타내지만 이 테스크에서는 이러한 의미도 제거함.)\n",
    "    #\n",
    "    # [2] pre_words의 lower 내장 함수를 이용해 대문자들은 소문자로 변경\n",
    "    #      1)  대, 소문자가 구분되어 있으면 \"Go\"와 \"go\" 와 같이 동일한 단어를 머신은 다른 단어로 취급한다. 따라서 대문자를 모두 소문자로 변경.\n",
    "    #  \n",
    "    # [3] word_tokenize 함수를 이용해 pre_word 를 토큰화하여 word를 리스트화한 후 tokenized_words변수에 저장\n",
    "    #\n",
    "    # [4] nltk 라이브러리로 다운 받은 stopwords의 \"words\" 내장 함수를 이용해 english 불용어를 찾아서 stops 변수에 저장  \n",
    "    #      1) 불용어: 텍스트 분류에서 불용어는 텍스트의 중요도을 결정하는데 영향을 미치지 않는 단어임. \n",
    "    #                    (ex: the, we, a , will), 따라서 불필요한 단어가 예측 모델에 악영향을 끼칠 수 있기 때문에 제거.\n",
    "    #\n",
    "    # [5] [3] 에서 찾은 문자열 중 단어가 [4] 에서 찾은 불용어 속에 없을 경우, tokenized_words_remove 리스트에 append \n",
    "    #\n",
    "    # [6] PorterStemmer 속 stem 내장 함수를 이용해 동일 의미를 갖는 단어를 동일한 단어로 변경하는 과정을 거친 후 다시 저장.\n",
    "    #    \n",
    "    # ------------------------------------------------------------\n",
    "    ##############\n",
    "    \n",
    "    # [1]\n",
    "    pre_words = re.sub('[^A-Za-z]', ' ', text)\n",
    "    ##############\n",
    "   \n",
    "    # [2]\n",
    "    pre_words = pre_words.lower()\n",
    "    \n",
    "    ##############\n",
    "    \n",
    "    # [3]\n",
    "    tokenized_words = word_tokenize(pre_words)\n",
    "    ##############\n",
    "    \n",
    "    # [4]\n",
    "    stops = stopwords.words('english')\n",
    "    \n",
    "    ##############\n",
    "    tokenized_words_remove=[]\n",
    "    \n",
    "    for w in tokenized_words: \n",
    "        # [5]\n",
    "        if w not in stops:\n",
    "            tokenized_words_remove.append(w)\n",
    "        ##############\n",
    "    \n",
    "    tokenized_words = tokenized_words_remove\n",
    "    ############\n",
    "    \n",
    "    stemmer = PorterStemmer()\n",
    "    for i in range(len(tokenized_words)):\n",
    "        # [6]\n",
    "        tokenized_words[i] = stemmer.stem(tokenized_words[i])\n",
    "        \n",
    "        ##############\n",
    "    \n",
    "    return ( \" \".join( tokenized_words ))"
   ]
  },
  {
   "cell_type": "code",
   "execution_count": 7,
   "id": "geological-manchester",
   "metadata": {
    "execution": {
     "iopub.execute_input": "2021-05-27T09:04:22.279916Z",
     "iopub.status.busy": "2021-05-27T09:04:22.279156Z",
     "iopub.status.idle": "2021-05-27T09:04:26.046494Z",
     "shell.execute_reply": "2021-05-27T09:04:26.045660Z",
     "shell.execute_reply.started": "2021-05-27T09:03:00.211005Z"
    },
    "papermill": {
     "duration": 3.787611,
     "end_time": "2021-05-27T09:04:26.046668",
     "exception": false,
     "start_time": "2021-05-27T09:04:22.259057",
     "status": "completed"
    },
    "tags": []
   },
   "outputs": [],
   "source": [
    "X_train=[data_processing(i) for i in X_train]\n",
    "X_test=[data_processing(i) for i in X_test]"
   ]
  },
  {
   "cell_type": "code",
   "execution_count": 8,
   "id": "rising-insider",
   "metadata": {
    "execution": {
     "iopub.execute_input": "2021-05-27T09:04:26.091821Z",
     "iopub.status.busy": "2021-05-27T09:04:26.091016Z",
     "iopub.status.idle": "2021-05-27T09:04:26.222206Z",
     "shell.execute_reply": "2021-05-27T09:04:26.222796Z",
     "shell.execute_reply.started": "2021-05-27T09:03:11.162792Z"
    },
    "papermill": {
     "duration": 0.161756,
     "end_time": "2021-05-27T09:04:26.223030",
     "exception": false,
     "start_time": "2021-05-27T09:04:26.061274",
     "status": "completed"
    },
    "tags": []
   },
   "outputs": [],
   "source": [
    "# ------------------------------------------------\n",
    "# [Empty Module #2] 텍스트 데이터 Bag of word  feature  화 \n",
    "# ------------------------------------------------\n",
    "from sklearn.feature_extraction.text import CountVectorizer\n",
    "# ------------------------------------------------------------\n",
    "# 구현 가이드라인 \n",
    "# ------------------------------------------------------------\n",
    "# [1]  CountVectorizer를 정의 \n",
    "#           1) max_features를 100으로 지정 \n",
    "# [2] X_train 과 X_test를 numpy array로 변환 후 데이터 타입을 \"U\"로 변경해 저장\n",
    "#\n",
    "# [3] CountVectorizer를 이용해 X_train은 학습 및 변환을 하고, X_test는 변환을 진행. \n",
    "# ------------------------------------------------------------\n",
    "###########\n",
    "from sklearn.feature_extraction.text import CountVectorizer\n",
    "# [1]\n",
    "vectorizer = CountVectorizer(max_features = 100)\n",
    "             \n",
    "# [2]\n",
    "X_train_arr = np.array(X_train)\n",
    "X_test_arr = np.array(X_test)\n",
    "\n",
    "X_train_arr = X_train_arr.astype('U')\n",
    "X_test_arr = X_test_arr.astype('U')\n",
    "\n",
    "# [3]\n",
    "X_train_features = vectorizer.fit_transform(X_train_arr)\n",
    "X_test_features = vectorizer.transform(X_test_arr)"
   ]
  },
  {
   "cell_type": "code",
   "execution_count": 9,
   "id": "quarterly-greenhouse",
   "metadata": {
    "execution": {
     "iopub.execute_input": "2021-05-27T09:04:26.268791Z",
     "iopub.status.busy": "2021-05-27T09:04:26.267707Z",
     "iopub.status.idle": "2021-05-27T09:04:26.271869Z",
     "shell.execute_reply": "2021-05-27T09:04:26.271127Z",
     "shell.execute_reply.started": "2021-05-27T09:03:20.357631Z"
    },
    "papermill": {
     "duration": 0.035844,
     "end_time": "2021-05-27T09:04:26.272040",
     "exception": false,
     "start_time": "2021-05-27T09:04:26.236196",
     "status": "completed"
    },
    "tags": []
   },
   "outputs": [],
   "source": [
    "y_train[y_train==\"ham\"]=0\n",
    "y_train[y_train==\"spam\"]=1\n",
    "y_train=y_train.astype(\"uint8\")"
   ]
  },
  {
   "cell_type": "code",
   "execution_count": 10,
   "id": "whole-terror",
   "metadata": {
    "execution": {
     "iopub.execute_input": "2021-05-27T09:04:26.305261Z",
     "iopub.status.busy": "2021-05-27T09:04:26.304496Z",
     "iopub.status.idle": "2021-05-27T09:04:26.595570Z",
     "shell.execute_reply": "2021-05-27T09:04:26.594917Z",
     "shell.execute_reply.started": "2021-05-27T09:03:31.659114Z"
    },
    "papermill": {
     "duration": 0.3102,
     "end_time": "2021-05-27T09:04:26.595745",
     "exception": false,
     "start_time": "2021-05-27T09:04:26.285545",
     "status": "completed"
    },
    "tags": []
   },
   "outputs": [],
   "source": [
    "# ------------------------------------------------\n",
    "# [Empty Module #3] 텍스트 데이터 Bag of word  feature  화 \n",
    "# ------------------------------------------------\n",
    "from sklearn.svm import SVC\n",
    "# ------------------------------------------------------------\n",
    "# 구현 가이드라인 \n",
    "# ------------------------------------------------------------\n",
    "# [1]  SVC 정의 \n",
    "#           1) gamma=\"auto\" 사용 \n",
    "# [2] X_train_features과 y_train으로 SVC 학습진행 후, X_test_features로 predict 진행\n",
    "#\n",
    "# ------------------------------------------------------------\n",
    "###########\n",
    "\n",
    "\n",
    "\n",
    "\n",
    "# [1]\n",
    "svc=SVC(gamma = 'auto')\n",
    "\n",
    "# [2]\n",
    "svc.fit(X_train_features, y_train)\n",
    "y_pred = svc.predict(X_test_features)"
   ]
  },
  {
   "cell_type": "code",
   "execution_count": 11,
   "id": "documented-annual",
   "metadata": {
    "execution": {
     "iopub.execute_input": "2021-05-27T09:04:26.632448Z",
     "iopub.status.busy": "2021-05-27T09:04:26.631556Z",
     "iopub.status.idle": "2021-05-27T09:04:26.636085Z",
     "shell.execute_reply": "2021-05-27T09:04:26.635519Z",
     "shell.execute_reply.started": "2021-05-27T09:03:41.859499Z"
    },
    "papermill": {
     "duration": 0.027541,
     "end_time": "2021-05-27T09:04:26.636242",
     "exception": false,
     "start_time": "2021-05-27T09:04:26.608701",
     "status": "completed"
    },
    "tags": []
   },
   "outputs": [
    {
     "data": {
      "text/plain": [
       "1025"
      ]
     },
     "execution_count": 11,
     "metadata": {},
     "output_type": "execute_result"
    }
   ],
   "source": [
    "count = 0\n",
    "for i in y_pred:\n",
    "    if i ==0:\n",
    "        count +=1\n",
    "\n",
    "count"
   ]
  },
  {
   "cell_type": "code",
   "execution_count": 12,
   "id": "hungarian-negative",
   "metadata": {
    "execution": {
     "iopub.execute_input": "2021-05-27T09:04:26.670106Z",
     "iopub.status.busy": "2021-05-27T09:04:26.669372Z",
     "iopub.status.idle": "2021-05-27T09:04:26.679415Z",
     "shell.execute_reply": "2021-05-27T09:04:26.678725Z",
     "shell.execute_reply.started": "2021-05-27T09:03:55.939190Z"
    },
    "papermill": {
     "duration": 0.030065,
     "end_time": "2021-05-27T09:04:26.679599",
     "exception": false,
     "start_time": "2021-05-27T09:04:26.649534",
     "status": "completed"
    },
    "tags": []
   },
   "outputs": [],
   "source": [
    "df_pred={\"ID\": range(np.array(y_pred).shape[0]),\"Class\":y_pred}\n",
    "df_pred=pd.DataFrame(df_pred)\n",
    "df_pred.to_csv(\"predict.csv\",index=False)"
   ]
  }
 ],
 "metadata": {
  "kernelspec": {
   "display_name": "Python 3",
   "language": "python",
   "name": "python3"
  },
  "language_info": {
   "codemirror_mode": {
    "name": "ipython",
    "version": 3
   },
   "file_extension": ".py",
   "mimetype": "text/x-python",
   "name": "python",
   "nbconvert_exporter": "python",
   "pygments_lexer": "ipython3",
   "version": "3.7.9"
  },
  "papermill": {
   "default_parameters": {},
   "duration": 14.730142,
   "end_time": "2021-05-27T09:04:27.707385",
   "environment_variables": {},
   "exception": null,
   "input_path": "__notebook__.ipynb",
   "output_path": "__notebook__.ipynb",
   "parameters": {},
   "start_time": "2021-05-27T09:04:12.977243",
   "version": "2.3.2"
  }
 },
 "nbformat": 4,
 "nbformat_minor": 5
}
